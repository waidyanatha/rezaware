{
 "cells": [
  {
   "cell_type": "code",
   "execution_count": 137,
   "id": "d9cbe6c5",
   "metadata": {},
   "outputs": [],
   "source": [
    "'''\n",
    "    WARNING CONTROL to display or ignore all warnings\n",
    "'''\n",
    "import warnings; warnings.simplefilter('default')     #switch betweeb 'default' and 'ignore'\n",
    "\n",
    "''' Set debug flag to view extended error messages; else set it to False to turn off debugging mode '''\n",
    "debug = True\n"
   ]
  },
  {
   "cell_type": "code",
   "execution_count": 138,
   "id": "77f606d3",
   "metadata": {},
   "outputs": [
    {
     "name": "stdout",
     "output_type": "stream",
     "text": [
      "\n",
      "Class initialization and load complete!\n"
     ]
    }
   ],
   "source": [
    "import os\n",
    "import sys\n",
    "import mindsdb_sdk\n",
    "\n",
    "# os.environ['KMP_DUPLICATE_LIB_OK']='True'\n",
    "__rez_root_dir__=\"/home/nuwan/workspace/rezaware/\"\n",
    "sys.path.insert(1,__rez_root_dir__)\n",
    "# from utils.modules.ml.timeseries import rollingstats as rs\n",
    "\n",
    "''' restart initiate classes '''\n",
    "if debug:\n",
    "    import importlib\n",
    "#     rs = importlib.reload(rs)\n",
    "    \n",
    "__desc__ = \"process rolling stats for sample dataset\"\n",
    "\n",
    "# clsRS = rs.RollingStats(desc=__desc__)\n",
    "print(\"\\nClass initialization and load complete!\")"
   ]
  },
  {
   "cell_type": "markdown",
   "id": "b84cf924",
   "metadata": {},
   "source": [
    "## Read sample data"
   ]
  },
  {
   "cell_type": "code",
   "execution_count": 141,
   "id": "bc51ba7b",
   "metadata": {},
   "outputs": [
    {
     "data": {
      "text/html": [
       "<div>\n",
       "<style scoped>\n",
       "    .dataframe tbody tr th:only-of-type {\n",
       "        vertical-align: middle;\n",
       "    }\n",
       "\n",
       "    .dataframe tbody tr th {\n",
       "        vertical-align: top;\n",
       "    }\n",
       "\n",
       "    .dataframe thead th {\n",
       "        text-align: right;\n",
       "    }\n",
       "</style>\n",
       "<table border=\"1\" class=\"dataframe\">\n",
       "  <thead>\n",
       "    <tr style=\"text-align: right;\">\n",
       "      <th></th>\n",
       "      <th>asset_name</th>\n",
       "      <th>mcap_date</th>\n",
       "      <th>mcap_value</th>\n",
       "    </tr>\n",
       "  </thead>\n",
       "  <tbody>\n",
       "    <tr>\n",
       "      <th>0</th>\n",
       "      <td>gamezone</td>\n",
       "      <td>2023-03-02 00:00:00</td>\n",
       "      <td>1.586919e+07</td>\n",
       "    </tr>\n",
       "    <tr>\n",
       "      <th>1</th>\n",
       "      <td>the_virtua_kolect</td>\n",
       "      <td>2023-03-02 00:00:00</td>\n",
       "      <td>2.200934e+07</td>\n",
       "    </tr>\n",
       "    <tr>\n",
       "      <th>2</th>\n",
       "      <td>alchemy_pay</td>\n",
       "      <td>2023-03-02 00:00:00</td>\n",
       "      <td>1.807773e+08</td>\n",
       "    </tr>\n",
       "    <tr>\n",
       "      <th>3</th>\n",
       "      <td>ergo</td>\n",
       "      <td>2023-03-02 00:00:00</td>\n",
       "      <td>1.055061e+08</td>\n",
       "    </tr>\n",
       "    <tr>\n",
       "      <th>4</th>\n",
       "      <td>handshake</td>\n",
       "      <td>2023-03-02 00:00:00</td>\n",
       "      <td>2.328368e+07</td>\n",
       "    </tr>\n",
       "    <tr>\n",
       "      <th>...</th>\n",
       "      <td>...</td>\n",
       "      <td>...</td>\n",
       "      <td>...</td>\n",
       "    </tr>\n",
       "    <tr>\n",
       "      <th>15696</th>\n",
       "      <td>ecox</td>\n",
       "      <td>2023-03-17 00:00:00</td>\n",
       "      <td>2.011757e+07</td>\n",
       "    </tr>\n",
       "    <tr>\n",
       "      <th>15697</th>\n",
       "      <td>phantasma</td>\n",
       "      <td>2023-03-17 00:00:00</td>\n",
       "      <td>2.150946e+07</td>\n",
       "    </tr>\n",
       "    <tr>\n",
       "      <th>15698</th>\n",
       "      <td>hermez_network</td>\n",
       "      <td>2023-03-17 00:00:00</td>\n",
       "      <td>8.430363e+07</td>\n",
       "    </tr>\n",
       "    <tr>\n",
       "      <th>15699</th>\n",
       "      <td>sero</td>\n",
       "      <td>2023-03-17 00:00:00</td>\n",
       "      <td>1.177103e+07</td>\n",
       "    </tr>\n",
       "    <tr>\n",
       "      <th>15700</th>\n",
       "      <td>swftcoin</td>\n",
       "      <td>2023-03-17 00:00:00</td>\n",
       "      <td>1.089315e+07</td>\n",
       "    </tr>\n",
       "  </tbody>\n",
       "</table>\n",
       "<p>15701 rows × 3 columns</p>\n",
       "</div>"
      ],
      "text/plain": [
       "              asset_name            mcap_date    mcap_value\n",
       "0               gamezone  2023-03-02 00:00:00  1.586919e+07\n",
       "1      the_virtua_kolect  2023-03-02 00:00:00  2.200934e+07\n",
       "2            alchemy_pay  2023-03-02 00:00:00  1.807773e+08\n",
       "3                   ergo  2023-03-02 00:00:00  1.055061e+08\n",
       "4              handshake  2023-03-02 00:00:00  2.328368e+07\n",
       "...                  ...                  ...           ...\n",
       "15696               ecox  2023-03-17 00:00:00  2.011757e+07\n",
       "15697          phantasma  2023-03-17 00:00:00  2.150946e+07\n",
       "15698     hermez_network  2023-03-17 00:00:00  8.430363e+07\n",
       "15699               sero  2023-03-17 00:00:00  1.177103e+07\n",
       "15700           swftcoin  2023-03-17 00:00:00  1.089315e+07\n",
       "\n",
       "[15701 rows x 3 columns]"
      ]
     },
     "execution_count": 141,
     "metadata": {},
     "output_type": "execute_result"
    }
   ],
   "source": [
    "import pandas as pd\n",
    "\n",
    "_data_fpath=os.path.join(__rez_root_dir__,\n",
    "                         \"utils/data/ml/timeseries/sampledata\",\n",
    "                         \"rollingstats.csv\")\n",
    "_test_data_df = pd.read_csv(_data_fpath)\n",
    "col_list = ['asset_name','mcap_date','mcap_value',]\n",
    "_test_data_df=_test_data_df[col_list]\n",
    "_test_data_df"
   ]
  },
  {
   "cell_type": "code",
   "execution_count": null,
   "id": "5c1cbd13",
   "metadata": {},
   "outputs": [],
   "source": [
    "# connects to the specified host and port\n",
    "server = mindsdb_sdk.connect('http://127.0.0.1:47334')"
   ]
  },
  {
   "cell_type": "markdown",
   "id": "62f1fac0",
   "metadata": {},
   "source": [
    "## get database"
   ]
  },
  {
   "cell_type": "code",
   "execution_count": 134,
   "id": "82d96832",
   "metadata": {},
   "outputs": [
    {
     "data": {
      "text/plain": [
       "Database(minds_test_db)"
      ]
     },
     "execution_count": 134,
     "metadata": {},
     "output_type": "execute_result"
    }
   ],
   "source": [
    "__def_db_name__ = \"minds_test_db\"\n",
    "\n",
    "if __def_db_name__ not in [d.name for d in server.list_databases()]:\n",
    "    _db = server.create_database(\n",
    "        engine = \"postgres\",\n",
    "        name = \"minds_test_db\",\n",
    "        connection_args = {\n",
    "            \"host\" : \"172.17.0.1\",\n",
    "            \"port\" : \"5432\",\n",
    "            \"database\":\"minds_test_db\",\n",
    "            \"user\" : \"nuwan\",\n",
    "            \"password\":\"Kotchchi@7281\"\n",
    "        }\n",
    "    )\n",
    "_db = server.get_database('minds_test_db')\n",
    "_db"
   ]
  },
  {
   "cell_type": "markdown",
   "id": "b65c5dac",
   "metadata": {},
   "source": [
    "## Get files"
   ]
  },
  {
   "cell_type": "code",
   "execution_count": 154,
   "id": "e7f6851e",
   "metadata": {},
   "outputs": [
    {
     "ename": "RuntimeError",
     "evalue": "Can't find view with name/id: files/None",
     "output_type": "error",
     "traceback": [
      "\u001b[0;31m---------------------------------------------------------------------------\u001b[0m",
      "\u001b[0;31mRuntimeError\u001b[0m                              Traceback (most recent call last)",
      "Input \u001b[0;32mIn [154]\u001b[0m, in \u001b[0;36m<cell line: 2>\u001b[0;34m()\u001b[0m\n\u001b[1;32m      1\u001b[0m _files_list \u001b[38;5;241m=\u001b[39m project\u001b[38;5;241m.\u001b[39mquery(\u001b[38;5;124m\"\u001b[39m\u001b[38;5;124mSELECT tables FROM files;\u001b[39m\u001b[38;5;124m\"\u001b[39m)\n\u001b[0;32m----> 2\u001b[0m \u001b[43m_files_list\u001b[49m\u001b[38;5;241;43m.\u001b[39;49m\u001b[43mfetch\u001b[49m\u001b[43m(\u001b[49m\u001b[43m)\u001b[49m\n",
      "File \u001b[0;32m~/.local/lib/python3.8/site-packages/mindsdb_sdk/query.py:29\u001b[0m, in \u001b[0;36mQuery.fetch\u001b[0;34m(self)\u001b[0m\n\u001b[1;32m     24\u001b[0m \u001b[38;5;28;01mdef\u001b[39;00m \u001b[38;5;21mfetch\u001b[39m(\u001b[38;5;28mself\u001b[39m) \u001b[38;5;241m-\u001b[39m\u001b[38;5;241m>\u001b[39m pd\u001b[38;5;241m.\u001b[39mDataFrame:\n\u001b[1;32m     25\u001b[0m     \u001b[38;5;124;03m\"\"\"\u001b[39;00m\n\u001b[1;32m     26\u001b[0m \u001b[38;5;124;03m    Executes query in mindsdb server and returns result\u001b[39;00m\n\u001b[1;32m     27\u001b[0m \u001b[38;5;124;03m    :return: dataframe with result\u001b[39;00m\n\u001b[1;32m     28\u001b[0m \u001b[38;5;124;03m    \"\"\"\u001b[39;00m\n\u001b[0;32m---> 29\u001b[0m     \u001b[38;5;28;01mreturn\u001b[39;00m \u001b[38;5;28;43mself\u001b[39;49m\u001b[38;5;241;43m.\u001b[39;49m\u001b[43mapi\u001b[49m\u001b[38;5;241;43m.\u001b[39;49m\u001b[43msql_query\u001b[49m\u001b[43m(\u001b[49m\u001b[38;5;28;43mself\u001b[39;49m\u001b[38;5;241;43m.\u001b[39;49m\u001b[43msql\u001b[49m\u001b[43m,\u001b[49m\u001b[43m \u001b[49m\u001b[38;5;28;43mself\u001b[39;49m\u001b[38;5;241;43m.\u001b[39;49m\u001b[43mdatabase\u001b[49m\u001b[43m)\u001b[49m\n",
      "File \u001b[0;32m~/.local/lib/python3.8/site-packages/mindsdb_sdk/connectors/rest_api.py:11\u001b[0m, in \u001b[0;36m_try_relogin.<locals>.wrapper\u001b[0;34m(self, *args, **kwargs)\u001b[0m\n\u001b[1;32m      8\u001b[0m \u001b[38;5;129m@wraps\u001b[39m(fnc)\n\u001b[1;32m      9\u001b[0m \u001b[38;5;28;01mdef\u001b[39;00m \u001b[38;5;21mwrapper\u001b[39m(\u001b[38;5;28mself\u001b[39m, \u001b[38;5;241m*\u001b[39margs, \u001b[38;5;241m*\u001b[39m\u001b[38;5;241m*\u001b[39mkwargs):\n\u001b[1;32m     10\u001b[0m     \u001b[38;5;28;01mtry\u001b[39;00m:\n\u001b[0;32m---> 11\u001b[0m         \u001b[38;5;28;01mreturn\u001b[39;00m \u001b[43mfnc\u001b[49m\u001b[43m(\u001b[49m\u001b[38;5;28;43mself\u001b[39;49m\u001b[43m,\u001b[49m\u001b[43m \u001b[49m\u001b[38;5;241;43m*\u001b[39;49m\u001b[43margs\u001b[49m\u001b[43m,\u001b[49m\u001b[43m \u001b[49m\u001b[38;5;241;43m*\u001b[39;49m\u001b[38;5;241;43m*\u001b[39;49m\u001b[43mkwargs\u001b[49m\u001b[43m)\u001b[49m\n\u001b[1;32m     12\u001b[0m     \u001b[38;5;28;01mexcept\u001b[39;00m requests\u001b[38;5;241m.\u001b[39mHTTPError \u001b[38;5;28;01mas\u001b[39;00m e:\n\u001b[1;32m     13\u001b[0m         \u001b[38;5;28;01mif\u001b[39;00m e\u001b[38;5;241m.\u001b[39mresponse\u001b[38;5;241m.\u001b[39mstatus_code \u001b[38;5;241m!=\u001b[39m \u001b[38;5;241m401\u001b[39m:\n",
      "File \u001b[0;32m~/.local/lib/python3.8/site-packages/mindsdb_sdk/connectors/rest_api.py:82\u001b[0m, in \u001b[0;36mRestAPI.sql_query\u001b[0;34m(self, sql, database, lowercase_columns)\u001b[0m\n\u001b[1;32m     80\u001b[0m     \u001b[38;5;28;01mreturn\u001b[39;00m pd\u001b[38;5;241m.\u001b[39mDataFrame(data[\u001b[38;5;124m'\u001b[39m\u001b[38;5;124mdata\u001b[39m\u001b[38;5;124m'\u001b[39m], columns\u001b[38;5;241m=\u001b[39mcolumns)\n\u001b[1;32m     81\u001b[0m \u001b[38;5;28;01mif\u001b[39;00m data[\u001b[38;5;124m'\u001b[39m\u001b[38;5;124mtype\u001b[39m\u001b[38;5;124m'\u001b[39m] \u001b[38;5;241m==\u001b[39m \u001b[38;5;124m'\u001b[39m\u001b[38;5;124merror\u001b[39m\u001b[38;5;124m'\u001b[39m:\n\u001b[0;32m---> 82\u001b[0m     \u001b[38;5;28;01mraise\u001b[39;00m \u001b[38;5;167;01mRuntimeError\u001b[39;00m(data[\u001b[38;5;124m'\u001b[39m\u001b[38;5;124merror_message\u001b[39m\u001b[38;5;124m'\u001b[39m])\n\u001b[1;32m     83\u001b[0m \u001b[38;5;28;01mreturn\u001b[39;00m \u001b[38;5;28;01mNone\u001b[39;00m\n",
      "\u001b[0;31mRuntimeError\u001b[0m: Can't find view with name/id: files/None"
     ]
    }
   ],
   "source": [
    "_files_list = project.query(\"SELECT tables FROM files;\")\n",
    "_files_list.fetch()"
   ]
  },
  {
   "cell_type": "markdown",
   "id": "02270a79",
   "metadata": {},
   "source": [
    "## get project"
   ]
  },
  {
   "cell_type": "code",
   "execution_count": 132,
   "id": "11ce7576",
   "metadata": {},
   "outputs": [
    {
     "data": {
      "text/plain": [
       "Project(minds_test_proj)"
      ]
     },
     "execution_count": 132,
     "metadata": {},
     "output_type": "execute_result"
    }
   ],
   "source": [
    "__def_proj_name__ = 'minds_test_proj'\n",
    "\n",
    "if __def_proj_name__ not in [p.name for p in server.list_projects()]:\n",
    "    project = server.create_project(__def_proj_name__)\n",
    "project = server.get_project(__def_proj_name__)\n",
    "project"
   ]
  },
  {
   "cell_type": "markdown",
   "id": "9baa136d",
   "metadata": {},
   "source": [
    "## Create model"
   ]
  },
  {
   "cell_type": "code",
   "execution_count": 189,
   "id": "bb5bd774",
   "metadata": {},
   "outputs": [],
   "source": [
    "__def_model_name__=\"mcap_price_predict\"\n",
    "if __def_model_name__ in [m.name for m in  project.list_models()]:\n",
    "    project.drop_model(__def_model_name__)"
   ]
  },
  {
   "cell_type": "code",
   "execution_count": 182,
   "id": "e51425e7",
   "metadata": {},
   "outputs": [
    {
     "ename": "RuntimeError",
     "evalue": "SQL statement cannot be parsed by mindsdb_sql - CREATE PREDICTOR mcap_price_predict (SELECT cm.mcap_date, cm.asset_name, cm.mcap_value FROM files.coin_mcap AS cm;) PREDICT mcap_value: Syntax error at token LPAREN: \"(\"",
     "output_type": "error",
     "traceback": [
      "\u001b[0;31m---------------------------------------------------------------------------\u001b[0m",
      "\u001b[0;31mRuntimeError\u001b[0m                              Traceback (most recent call last)",
      "Input \u001b[0;32mIn [182]\u001b[0m, in \u001b[0;36m<cell line: 2>\u001b[0;34m()\u001b[0m\n\u001b[1;32m      1\u001b[0m __def_model_name__\u001b[38;5;241m=\u001b[39m\u001b[38;5;124m\"\u001b[39m\u001b[38;5;124mmcap_price_predict\u001b[39m\u001b[38;5;124m\"\u001b[39m\n\u001b[1;32m      2\u001b[0m \u001b[38;5;28;01mif\u001b[39;00m __def_model_name__ \u001b[38;5;129;01mnot\u001b[39;00m \u001b[38;5;129;01min\u001b[39;00m [m\u001b[38;5;241m.\u001b[39mname \u001b[38;5;28;01mfor\u001b[39;00m m \u001b[38;5;129;01min\u001b[39;00m  project\u001b[38;5;241m.\u001b[39mlist_models()]:\n\u001b[0;32m----> 3\u001b[0m     mcap_model \u001b[38;5;241m=\u001b[39m \u001b[43mproject\u001b[49m\u001b[38;5;241;43m.\u001b[39;49m\u001b[43mcreate_model\u001b[49m\u001b[43m(\u001b[49m\n\u001b[1;32m      4\u001b[0m \u001b[43m        \u001b[49m\u001b[43mname\u001b[49m\u001b[43m \u001b[49m\u001b[38;5;241;43m=\u001b[39;49m\u001b[43m \u001b[49m\u001b[43m__def_model_name__\u001b[49m\u001b[43m,\u001b[49m\n\u001b[1;32m      5\u001b[0m \u001b[43m        \u001b[49m\u001b[43mpredict\u001b[49m\u001b[38;5;241;43m=\u001b[39;49m\u001b[38;5;124;43m'\u001b[39;49m\u001b[38;5;124;43mmcap_value\u001b[39;49m\u001b[38;5;124;43m'\u001b[39;49m\u001b[43m,\u001b[49m\n\u001b[1;32m      6\u001b[0m \u001b[43m        \u001b[49m\u001b[43mquery\u001b[49m\u001b[43m \u001b[49m\u001b[38;5;241;43m=\u001b[39;49m\u001b[43m \u001b[49m\u001b[38;5;124;43m\"\u001b[39;49m\u001b[38;5;124;43mSELECT cm.mcap_date, cm.asset_name, cm.mcap_value \u001b[39;49m\u001b[38;5;124;43m\"\u001b[39;49m\u001b[38;5;241;43m+\u001b[39;49m\u001b[43m\\\u001b[49m\n\u001b[1;32m      7\u001b[0m \u001b[43m                \u001b[49m\u001b[38;5;124;43m\"\u001b[39;49m\u001b[38;5;124;43mFROM files.coin_mcap AS cm;\u001b[39;49m\u001b[38;5;124;43m\"\u001b[39;49m\u001b[43m,\u001b[49m\n\u001b[1;32m      8\u001b[0m \u001b[43m        \u001b[49m\u001b[43mtimeseries_options\u001b[49m\u001b[38;5;241;43m=\u001b[39;49m\u001b[43m{\u001b[49m\n\u001b[1;32m      9\u001b[0m \u001b[43m            \u001b[49m\u001b[38;5;124;43m'\u001b[39;49m\u001b[38;5;124;43mWINDOW\u001b[39;49m\u001b[38;5;124;43m'\u001b[39;49m\u001b[43m:\u001b[49m\u001b[43m \u001b[49m\u001b[38;5;241;43m5\u001b[39;49m\u001b[43m,\u001b[49m\n\u001b[1;32m     10\u001b[0m \u001b[43m            \u001b[49m\u001b[38;5;124;43m'\u001b[39;49m\u001b[38;5;124;43mHORIZON\u001b[39;49m\u001b[38;5;124;43m'\u001b[39;49m\u001b[43m:\u001b[49m\u001b[43m \u001b[49m\u001b[38;5;241;43m1\u001b[39;49m\u001b[43m,\u001b[49m\n\u001b[1;32m     11\u001b[0m \u001b[43m        \u001b[49m\u001b[43m}\u001b[49m\n\u001b[1;32m     12\u001b[0m \u001b[43m    \u001b[49m\u001b[43m)\u001b[49m\n\u001b[1;32m     13\u001b[0m \u001b[38;5;66;03m# try:\u001b[39;00m\n\u001b[1;32m     14\u001b[0m mcap_model\u001b[38;5;241m=\u001b[39mproject\u001b[38;5;241m.\u001b[39mget_model(__def_model_name__)\n",
      "File \u001b[0;32m~/.local/lib/python3.8/site-packages/mindsdb_sdk/project.py:410\u001b[0m, in \u001b[0;36mProject.create_model\u001b[0;34m(self, name, predict, engine, query, database, options, timeseries_options)\u001b[0m\n\u001b[1;32m    408\u001b[0m     options[\u001b[38;5;124m'\u001b[39m\u001b[38;5;124mengine\u001b[39m\u001b[38;5;124m'\u001b[39m] \u001b[38;5;241m=\u001b[39m engine\n\u001b[1;32m    409\u001b[0m ast_query\u001b[38;5;241m.\u001b[39musing \u001b[38;5;241m=\u001b[39m options\n\u001b[0;32m--> 410\u001b[0m df \u001b[38;5;241m=\u001b[39m \u001b[38;5;28;43mself\u001b[39;49m\u001b[38;5;241;43m.\u001b[39;49m\u001b[43mquery\u001b[49m\u001b[43m(\u001b[49m\u001b[43mast_query\u001b[49m\u001b[38;5;241;43m.\u001b[39;49m\u001b[43mto_string\u001b[49m\u001b[43m(\u001b[49m\u001b[43m)\u001b[49m\u001b[43m)\u001b[49m\u001b[38;5;241;43m.\u001b[39;49m\u001b[43mfetch\u001b[49m\u001b[43m(\u001b[49m\u001b[43m)\u001b[49m\n\u001b[1;32m    411\u001b[0m \u001b[38;5;28;01mif\u001b[39;00m \u001b[38;5;28mlen\u001b[39m(df) \u001b[38;5;241m>\u001b[39m \u001b[38;5;241m0\u001b[39m:\n\u001b[1;32m    412\u001b[0m     data \u001b[38;5;241m=\u001b[39m \u001b[38;5;28mdict\u001b[39m(df\u001b[38;5;241m.\u001b[39miloc[\u001b[38;5;241m0\u001b[39m])\n",
      "File \u001b[0;32m~/.local/lib/python3.8/site-packages/mindsdb_sdk/query.py:29\u001b[0m, in \u001b[0;36mQuery.fetch\u001b[0;34m(self)\u001b[0m\n\u001b[1;32m     24\u001b[0m \u001b[38;5;28;01mdef\u001b[39;00m \u001b[38;5;21mfetch\u001b[39m(\u001b[38;5;28mself\u001b[39m) \u001b[38;5;241m-\u001b[39m\u001b[38;5;241m>\u001b[39m pd\u001b[38;5;241m.\u001b[39mDataFrame:\n\u001b[1;32m     25\u001b[0m     \u001b[38;5;124;03m\"\"\"\u001b[39;00m\n\u001b[1;32m     26\u001b[0m \u001b[38;5;124;03m    Executes query in mindsdb server and returns result\u001b[39;00m\n\u001b[1;32m     27\u001b[0m \u001b[38;5;124;03m    :return: dataframe with result\u001b[39;00m\n\u001b[1;32m     28\u001b[0m \u001b[38;5;124;03m    \"\"\"\u001b[39;00m\n\u001b[0;32m---> 29\u001b[0m     \u001b[38;5;28;01mreturn\u001b[39;00m \u001b[38;5;28;43mself\u001b[39;49m\u001b[38;5;241;43m.\u001b[39;49m\u001b[43mapi\u001b[49m\u001b[38;5;241;43m.\u001b[39;49m\u001b[43msql_query\u001b[49m\u001b[43m(\u001b[49m\u001b[38;5;28;43mself\u001b[39;49m\u001b[38;5;241;43m.\u001b[39;49m\u001b[43msql\u001b[49m\u001b[43m,\u001b[49m\u001b[43m \u001b[49m\u001b[38;5;28;43mself\u001b[39;49m\u001b[38;5;241;43m.\u001b[39;49m\u001b[43mdatabase\u001b[49m\u001b[43m)\u001b[49m\n",
      "File \u001b[0;32m~/.local/lib/python3.8/site-packages/mindsdb_sdk/connectors/rest_api.py:11\u001b[0m, in \u001b[0;36m_try_relogin.<locals>.wrapper\u001b[0;34m(self, *args, **kwargs)\u001b[0m\n\u001b[1;32m      8\u001b[0m \u001b[38;5;129m@wraps\u001b[39m(fnc)\n\u001b[1;32m      9\u001b[0m \u001b[38;5;28;01mdef\u001b[39;00m \u001b[38;5;21mwrapper\u001b[39m(\u001b[38;5;28mself\u001b[39m, \u001b[38;5;241m*\u001b[39margs, \u001b[38;5;241m*\u001b[39m\u001b[38;5;241m*\u001b[39mkwargs):\n\u001b[1;32m     10\u001b[0m     \u001b[38;5;28;01mtry\u001b[39;00m:\n\u001b[0;32m---> 11\u001b[0m         \u001b[38;5;28;01mreturn\u001b[39;00m \u001b[43mfnc\u001b[49m\u001b[43m(\u001b[49m\u001b[38;5;28;43mself\u001b[39;49m\u001b[43m,\u001b[49m\u001b[43m \u001b[49m\u001b[38;5;241;43m*\u001b[39;49m\u001b[43margs\u001b[49m\u001b[43m,\u001b[49m\u001b[43m \u001b[49m\u001b[38;5;241;43m*\u001b[39;49m\u001b[38;5;241;43m*\u001b[39;49m\u001b[43mkwargs\u001b[49m\u001b[43m)\u001b[49m\n\u001b[1;32m     12\u001b[0m     \u001b[38;5;28;01mexcept\u001b[39;00m requests\u001b[38;5;241m.\u001b[39mHTTPError \u001b[38;5;28;01mas\u001b[39;00m e:\n\u001b[1;32m     13\u001b[0m         \u001b[38;5;28;01mif\u001b[39;00m e\u001b[38;5;241m.\u001b[39mresponse\u001b[38;5;241m.\u001b[39mstatus_code \u001b[38;5;241m!=\u001b[39m \u001b[38;5;241m401\u001b[39m:\n",
      "File \u001b[0;32m~/.local/lib/python3.8/site-packages/mindsdb_sdk/connectors/rest_api.py:82\u001b[0m, in \u001b[0;36mRestAPI.sql_query\u001b[0;34m(self, sql, database, lowercase_columns)\u001b[0m\n\u001b[1;32m     80\u001b[0m     \u001b[38;5;28;01mreturn\u001b[39;00m pd\u001b[38;5;241m.\u001b[39mDataFrame(data[\u001b[38;5;124m'\u001b[39m\u001b[38;5;124mdata\u001b[39m\u001b[38;5;124m'\u001b[39m], columns\u001b[38;5;241m=\u001b[39mcolumns)\n\u001b[1;32m     81\u001b[0m \u001b[38;5;28;01mif\u001b[39;00m data[\u001b[38;5;124m'\u001b[39m\u001b[38;5;124mtype\u001b[39m\u001b[38;5;124m'\u001b[39m] \u001b[38;5;241m==\u001b[39m \u001b[38;5;124m'\u001b[39m\u001b[38;5;124merror\u001b[39m\u001b[38;5;124m'\u001b[39m:\n\u001b[0;32m---> 82\u001b[0m     \u001b[38;5;28;01mraise\u001b[39;00m \u001b[38;5;167;01mRuntimeError\u001b[39;00m(data[\u001b[38;5;124m'\u001b[39m\u001b[38;5;124merror_message\u001b[39m\u001b[38;5;124m'\u001b[39m])\n\u001b[1;32m     83\u001b[0m \u001b[38;5;28;01mreturn\u001b[39;00m \u001b[38;5;28;01mNone\u001b[39;00m\n",
      "\u001b[0;31mRuntimeError\u001b[0m: SQL statement cannot be parsed by mindsdb_sql - CREATE PREDICTOR mcap_price_predict (SELECT cm.mcap_date, cm.asset_name, cm.mcap_value FROM files.coin_mcap AS cm;) PREDICT mcap_value: Syntax error at token LPAREN: \"(\""
     ]
    }
   ],
   "source": [
    "__def_model_name__=\"mcap_price_predict\"\n",
    "__def_engine__=\n",
    "if __def_model_name__ not in [m.name for m in  project.list_models()]:\n",
    "    mcap_model = project.create_model(\n",
    "        using = \n",
    "        name = __def_model_name__,\n",
    "        predict='mcap_value',\n",
    "        query = (\"SELECT cm.mcap_date, cm.asset_name, cm.mcap_value \"+\\\n",
    "                \"FROM files.coin_mcap AS cm;\",\n",
    "        timeseries_options={\n",
    "            'WINDOW': 5,\n",
    "            'HORIZON': 1,\n",
    "        }\n",
    "    )\n",
    "# try:\n",
    "mcap_model=project.get_model(__def_model_name__)\n",
    "mcap_model\n",
    "# except Exception as e:\n",
    "#     print(e)\n"
   ]
  },
  {
   "cell_type": "code",
   "execution_count": 177,
   "id": "6eb0c2a5",
   "metadata": {},
   "outputs": [
    {
     "data": {
      "text/plain": [
       "<bound method Model.get_status of Model(mcap_price_predict, status=error)>"
      ]
     },
     "execution_count": 177,
     "metadata": {},
     "output_type": "execute_result"
    }
   ],
   "source": [
    "mcap_model.get_status"
   ]
  },
  {
   "cell_type": "code",
   "execution_count": 147,
   "id": "2c1fb320",
   "metadata": {},
   "outputs": [
    {
     "ename": "AttributeError",
     "evalue": "'Query' object has no attribute 'limit'",
     "output_type": "error",
     "traceback": [
      "\u001b[0;31m---------------------------------------------------------------------------\u001b[0m",
      "\u001b[0;31mAttributeError\u001b[0m                            Traceback (most recent call last)",
      "Input \u001b[0;32mIn [147]\u001b[0m, in \u001b[0;36m<cell line: 2>\u001b[0;34m()\u001b[0m\n\u001b[1;32m      1\u001b[0m query \u001b[38;5;241m=\u001b[39m project\u001b[38;5;241m.\u001b[39mquery(\u001b[38;5;124m'\u001b[39m\u001b[38;5;124mSELECT * FROM files.coin_mcap;\u001b[39m\u001b[38;5;124m'\u001b[39m)\n\u001b[0;32m----> 2\u001b[0m \u001b[43mquery\u001b[49m\u001b[38;5;241;43m.\u001b[39;49m\u001b[43mlimit\u001b[49m(\u001b[38;5;241m3\u001b[39m)\u001b[38;5;241m.\u001b[39mfetch()\n",
      "\u001b[0;31mAttributeError\u001b[0m: 'Query' object has no attribute 'limit'"
     ]
    }
   ],
   "source": [
    "query = project.query('SELECT * FROM files.coin_mcap;')\n",
    "query.limit(3).fetch()\n"
   ]
  },
  {
   "cell_type": "code",
   "execution_count": 28,
   "id": "1b7c841f",
   "metadata": {},
   "outputs": [
    {
     "data": {
      "text/html": [
       "<div>\n",
       "<style scoped>\n",
       "    .dataframe tbody tr th:only-of-type {\n",
       "        vertical-align: middle;\n",
       "    }\n",
       "\n",
       "    .dataframe tbody tr th {\n",
       "        vertical-align: top;\n",
       "    }\n",
       "\n",
       "    .dataframe thead th {\n",
       "        text-align: right;\n",
       "    }\n",
       "</style>\n",
       "<table border=\"1\" class=\"dataframe\">\n",
       "  <thead>\n",
       "    <tr style=\"text-align: right;\">\n",
       "      <th></th>\n",
       "      <th>mcap_past_pk</th>\n",
       "      <th>uuid</th>\n",
       "      <th>data_source</th>\n",
       "      <th>asset_name</th>\n",
       "      <th>asset_symbol</th>\n",
       "      <th>alt_asset_id</th>\n",
       "      <th>currency</th>\n",
       "      <th>price_date</th>\n",
       "      <th>price_value</th>\n",
       "      <th>price_log_ror</th>\n",
       "      <th>...</th>\n",
       "      <th>volume_date</th>\n",
       "      <th>volume_size</th>\n",
       "      <th>volume_change</th>\n",
       "      <th>created_dt</th>\n",
       "      <th>created_by</th>\n",
       "      <th>created_proc</th>\n",
       "      <th>modified_dt</th>\n",
       "      <th>modified_by</th>\n",
       "      <th>modified_proc</th>\n",
       "      <th>deactivate_dt</th>\n",
       "    </tr>\n",
       "  </thead>\n",
       "  <tbody>\n",
       "    <tr>\n",
       "      <th>0</th>\n",
       "      <td>1</td>\n",
       "      <td>6453adc74a6e0a5e3a77a792</td>\n",
       "      <td>coingecko</td>\n",
       "      <td>non_fungible_yearn</td>\n",
       "      <td>nfy</td>\n",
       "      <td>non-fungible-yearn</td>\n",
       "      <td>usd</td>\n",
       "      <td>2023-03-01 00:00:00.000000</td>\n",
       "      <td>0.760072</td>\n",
       "      <td>None</td>\n",
       "      <td>...</td>\n",
       "      <td>2023-03-01 00:00:00.000000</td>\n",
       "      <td>19706.965408</td>\n",
       "      <td>None</td>\n",
       "      <td>2023-05-05 07:18:09.962638</td>\n",
       "      <td>farmraider</td>\n",
       "      <td>wrangler_assets_etl_CryptoMarket function &lt;nos...</td>\n",
       "      <td>None</td>\n",
       "      <td>None</td>\n",
       "      <td>None</td>\n",
       "      <td>None</td>\n",
       "    </tr>\n",
       "    <tr>\n",
       "      <th>1</th>\n",
       "      <td>2</td>\n",
       "      <td>6453adc74a6e0a5e3a77a7a2</td>\n",
       "      <td>coingecko</td>\n",
       "      <td>non_fungible_yearn</td>\n",
       "      <td>nfy</td>\n",
       "      <td>non-fungible-yearn</td>\n",
       "      <td>usd</td>\n",
       "      <td>2023-03-02 00:00:00.000000</td>\n",
       "      <td>0.775617</td>\n",
       "      <td>None</td>\n",
       "      <td>...</td>\n",
       "      <td>2023-03-02 00:00:00.000000</td>\n",
       "      <td>20273.635916</td>\n",
       "      <td>None</td>\n",
       "      <td>2023-05-05 07:18:09.962638</td>\n",
       "      <td>farmraider</td>\n",
       "      <td>wrangler_assets_etl_CryptoMarket function &lt;nos...</td>\n",
       "      <td>None</td>\n",
       "      <td>None</td>\n",
       "      <td>None</td>\n",
       "      <td>None</td>\n",
       "    </tr>\n",
       "    <tr>\n",
       "      <th>2</th>\n",
       "      <td>3</td>\n",
       "      <td>6453adc74a6e0a5e3a77a7af</td>\n",
       "      <td>coingecko</td>\n",
       "      <td>non_fungible_yearn</td>\n",
       "      <td>nfy</td>\n",
       "      <td>non-fungible-yearn</td>\n",
       "      <td>usd</td>\n",
       "      <td>2023-03-03 00:00:00.000000</td>\n",
       "      <td>0.781697</td>\n",
       "      <td>None</td>\n",
       "      <td>...</td>\n",
       "      <td>2023-03-03 00:00:00.000000</td>\n",
       "      <td>21408.025024</td>\n",
       "      <td>None</td>\n",
       "      <td>2023-05-05 07:18:09.962638</td>\n",
       "      <td>farmraider</td>\n",
       "      <td>wrangler_assets_etl_CryptoMarket function &lt;nos...</td>\n",
       "      <td>None</td>\n",
       "      <td>None</td>\n",
       "      <td>None</td>\n",
       "      <td>None</td>\n",
       "    </tr>\n",
       "  </tbody>\n",
       "</table>\n",
       "<p>3 rows × 26 columns</p>\n",
       "</div>"
      ],
      "text/plain": [
       "   mcap_past_pk                      uuid data_source          asset_name  \\\n",
       "0             1  6453adc74a6e0a5e3a77a792   coingecko  non_fungible_yearn   \n",
       "1             2  6453adc74a6e0a5e3a77a7a2   coingecko  non_fungible_yearn   \n",
       "2             3  6453adc74a6e0a5e3a77a7af   coingecko  non_fungible_yearn   \n",
       "\n",
       "  asset_symbol        alt_asset_id currency                  price_date  \\\n",
       "0          nfy  non-fungible-yearn      usd  2023-03-01 00:00:00.000000   \n",
       "1          nfy  non-fungible-yearn      usd  2023-03-02 00:00:00.000000   \n",
       "2          nfy  non-fungible-yearn      usd  2023-03-03 00:00:00.000000   \n",
       "\n",
       "   price_value price_log_ror  ...                 volume_date   volume_size  \\\n",
       "0     0.760072          None  ...  2023-03-01 00:00:00.000000  19706.965408   \n",
       "1     0.775617          None  ...  2023-03-02 00:00:00.000000  20273.635916   \n",
       "2     0.781697          None  ...  2023-03-03 00:00:00.000000  21408.025024   \n",
       "\n",
       "   volume_change                  created_dt  created_by  \\\n",
       "0           None  2023-05-05 07:18:09.962638  farmraider   \n",
       "1           None  2023-05-05 07:18:09.962638  farmraider   \n",
       "2           None  2023-05-05 07:18:09.962638  farmraider   \n",
       "\n",
       "                                        created_proc modified_dt  modified_by  \\\n",
       "0  wrangler_assets_etl_CryptoMarket function <nos...        None         None   \n",
       "1  wrangler_assets_etl_CryptoMarket function <nos...        None         None   \n",
       "2  wrangler_assets_etl_CryptoMarket function <nos...        None         None   \n",
       "\n",
       "  modified_proc deactivate_dt  \n",
       "0          None          None  \n",
       "1          None          None  \n",
       "2          None          None  \n",
       "\n",
       "[3 rows x 26 columns]"
      ]
     },
     "execution_count": 28,
     "metadata": {},
     "output_type": "execute_result"
    }
   ],
   "source": [
    "my_table = mysql_demo_db.get_table('warehouse.mcap_past')\n",
    "my_table=my_table.filter(asset_symbol='nfy')\n",
    "my_table=my_table.limit(3)\n",
    "my_table.fetch()"
   ]
  },
  {
   "cell_type": "code",
   "execution_count": null,
   "id": "e3bf8d90",
   "metadata": {},
   "outputs": [],
   "source": []
  }
 ],
 "metadata": {
  "kernelspec": {
   "display_name": "Python 3 (ipykernel)",
   "language": "python",
   "name": "python3"
  },
  "language_info": {
   "codemirror_mode": {
    "name": "ipython",
    "version": 3
   },
   "file_extension": ".py",
   "mimetype": "text/x-python",
   "name": "python",
   "nbconvert_exporter": "python",
   "pygments_lexer": "ipython3",
   "version": "3.8.10"
  }
 },
 "nbformat": 4,
 "nbformat_minor": 5
}
