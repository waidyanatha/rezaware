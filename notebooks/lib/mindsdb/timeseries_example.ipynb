{
 "cells": [
  {
   "cell_type": "code",
   "execution_count": 1,
   "id": "d9cbe6c5",
   "metadata": {},
   "outputs": [],
   "source": [
    "'''\n",
    "    WARNING CONTROL to display or ignore all warnings\n",
    "'''\n",
    "import warnings; warnings.simplefilter('default')     #switch betweeb 'default' and 'ignore'\n",
    "\n",
    "''' Set debug flag to view extended error messages; else set it to False to turn off debugging mode '''\n",
    "debug = True\n"
   ]
  },
  {
   "cell_type": "code",
   "execution_count": 2,
   "id": "77f606d3",
   "metadata": {},
   "outputs": [
    {
     "name": "stdout",
     "output_type": "stream",
     "text": [
      "\n",
      "Class initialization and load complete!\n"
     ]
    }
   ],
   "source": [
    "import os\n",
    "import sys\n",
    "import mindsdb_sdk\n",
    "\n",
    "# os.environ['KMP_DUPLICATE_LIB_OK']='True'\n",
    "mod_dir = os.path.abspath(os.pardir).split('notebooks/')[0]\n",
    "sys.path.insert(1,mod_dir)\n",
    "# from utils.modules.ml.timeseries import rollingstats as rs\n",
    "\n",
    "''' restart initiate classes '''\n",
    "if debug:\n",
    "    import importlib\n",
    "#     rs = importlib.reload(rs)\n",
    "    \n",
    "__desc__ = \"example testing mindsdb\"\n",
    "\n",
    "# clsRS = rs.RollingStats(desc=__desc__)\n",
    "print(\"\\nClass initialization and load complete!\")"
   ]
  },
  {
   "cell_type": "markdown",
   "id": "b84cf924",
   "metadata": {},
   "source": [
    "## Read sample data"
   ]
  },
  {
   "cell_type": "code",
   "execution_count": 3,
   "id": "bc51ba7b",
   "metadata": {},
   "outputs": [
    {
     "data": {
      "text/html": [
       "<div>\n",
       "<style scoped>\n",
       "    .dataframe tbody tr th:only-of-type {\n",
       "        vertical-align: middle;\n",
       "    }\n",
       "\n",
       "    .dataframe tbody tr th {\n",
       "        vertical-align: top;\n",
       "    }\n",
       "\n",
       "    .dataframe thead th {\n",
       "        text-align: right;\n",
       "    }\n",
       "</style>\n",
       "<table border=\"1\" class=\"dataframe\">\n",
       "  <thead>\n",
       "    <tr style=\"text-align: right;\">\n",
       "      <th></th>\n",
       "      <th>asset_name</th>\n",
       "      <th>mcap_date</th>\n",
       "      <th>mcap_value</th>\n",
       "    </tr>\n",
       "  </thead>\n",
       "  <tbody>\n",
       "    <tr>\n",
       "      <th>0</th>\n",
       "      <td>gamezone</td>\n",
       "      <td>2023-03-02 00:00:00</td>\n",
       "      <td>1.586919e+07</td>\n",
       "    </tr>\n",
       "    <tr>\n",
       "      <th>1</th>\n",
       "      <td>the_virtua_kolect</td>\n",
       "      <td>2023-03-02 00:00:00</td>\n",
       "      <td>2.200934e+07</td>\n",
       "    </tr>\n",
       "    <tr>\n",
       "      <th>2</th>\n",
       "      <td>alchemy_pay</td>\n",
       "      <td>2023-03-02 00:00:00</td>\n",
       "      <td>1.807773e+08</td>\n",
       "    </tr>\n",
       "    <tr>\n",
       "      <th>3</th>\n",
       "      <td>ergo</td>\n",
       "      <td>2023-03-02 00:00:00</td>\n",
       "      <td>1.055061e+08</td>\n",
       "    </tr>\n",
       "    <tr>\n",
       "      <th>4</th>\n",
       "      <td>handshake</td>\n",
       "      <td>2023-03-02 00:00:00</td>\n",
       "      <td>2.328368e+07</td>\n",
       "    </tr>\n",
       "    <tr>\n",
       "      <th>...</th>\n",
       "      <td>...</td>\n",
       "      <td>...</td>\n",
       "      <td>...</td>\n",
       "    </tr>\n",
       "    <tr>\n",
       "      <th>15696</th>\n",
       "      <td>ecox</td>\n",
       "      <td>2023-03-17 00:00:00</td>\n",
       "      <td>2.011757e+07</td>\n",
       "    </tr>\n",
       "    <tr>\n",
       "      <th>15697</th>\n",
       "      <td>phantasma</td>\n",
       "      <td>2023-03-17 00:00:00</td>\n",
       "      <td>2.150946e+07</td>\n",
       "    </tr>\n",
       "    <tr>\n",
       "      <th>15698</th>\n",
       "      <td>hermez_network</td>\n",
       "      <td>2023-03-17 00:00:00</td>\n",
       "      <td>8.430363e+07</td>\n",
       "    </tr>\n",
       "    <tr>\n",
       "      <th>15699</th>\n",
       "      <td>sero</td>\n",
       "      <td>2023-03-17 00:00:00</td>\n",
       "      <td>1.177103e+07</td>\n",
       "    </tr>\n",
       "    <tr>\n",
       "      <th>15700</th>\n",
       "      <td>swftcoin</td>\n",
       "      <td>2023-03-17 00:00:00</td>\n",
       "      <td>1.089315e+07</td>\n",
       "    </tr>\n",
       "  </tbody>\n",
       "</table>\n",
       "<p>15701 rows × 3 columns</p>\n",
       "</div>"
      ],
      "text/plain": [
       "              asset_name            mcap_date    mcap_value\n",
       "0               gamezone  2023-03-02 00:00:00  1.586919e+07\n",
       "1      the_virtua_kolect  2023-03-02 00:00:00  2.200934e+07\n",
       "2            alchemy_pay  2023-03-02 00:00:00  1.807773e+08\n",
       "3                   ergo  2023-03-02 00:00:00  1.055061e+08\n",
       "4              handshake  2023-03-02 00:00:00  2.328368e+07\n",
       "...                  ...                  ...           ...\n",
       "15696               ecox  2023-03-17 00:00:00  2.011757e+07\n",
       "15697          phantasma  2023-03-17 00:00:00  2.150946e+07\n",
       "15698     hermez_network  2023-03-17 00:00:00  8.430363e+07\n",
       "15699               sero  2023-03-17 00:00:00  1.177103e+07\n",
       "15700           swftcoin  2023-03-17 00:00:00  1.089315e+07\n",
       "\n",
       "[15701 rows x 3 columns]"
      ]
     },
     "execution_count": 3,
     "metadata": {},
     "output_type": "execute_result"
    }
   ],
   "source": [
    "import pandas as pd\n",
    "\n",
    "_data_fpath=os.path.join(mod_dir,\n",
    "                         \"data/ml/timeseries/sampledata\",\n",
    "                         \"rollingstats.csv\")\n",
    "_test_data_df = pd.read_csv(_data_fpath)\n",
    "col_list = ['asset_name','mcap_date','mcap_value',]\n",
    "_test_data_df=_test_data_df[col_list]\n",
    "_test_data_df"
   ]
  },
  {
   "cell_type": "code",
   "execution_count": 5,
   "id": "f5a488bc",
   "metadata": {},
   "outputs": [
    {
     "name": "stdout",
     "output_type": "stream",
     "text": [
      "True\n"
     ]
    },
    {
     "name": "stderr",
     "output_type": "stream",
     "text": [
      "/tmp/ipykernel_8566/1647426924.py:31: ResourceWarning: unclosed <socket.socket fd=57, family=AddressFamily.AF_UNIX, type=SocketKind.SOCK_STREAM, proto=0, raddr=/run/docker.sock>\n",
      "  result = is_container_running(container_name)\n",
      "ResourceWarning: Enable tracemalloc to get the object allocation traceback\n",
      "/tmp/ipykernel_8566/1647426924.py:31: ResourceWarning: unclosed <socket.socket fd=59, family=AddressFamily.AF_UNIX, type=SocketKind.SOCK_STREAM, proto=0, raddr=/run/docker.sock>\n",
      "  result = is_container_running(container_name)\n",
      "ResourceWarning: Enable tracemalloc to get the object allocation traceback\n"
     ]
    }
   ],
   "source": [
    "# check_container.py\n",
    "from typing import Optional\n",
    "\n",
    "import docker\n",
    "\n",
    "def is_container_running(container_name: str) -> Optional[bool]:\n",
    "    \"\"\"Verify the status of a container by it's name\n",
    "\n",
    "    :param container_name: the name of the container\n",
    "    :return: boolean or None\n",
    "    \"\"\"\n",
    "    RUNNING = \"running\"\n",
    "    # Connect to Docker using the default socket or the configuration\n",
    "    # in your environment\n",
    "    docker_client = docker.from_env()\n",
    "    # Or give configuration\n",
    "    # docker_socket = \"unix://var/run/docker.sock\"\n",
    "    # docker_client = docker.DockerClient(docker_socket)\n",
    "\n",
    "    try:\n",
    "        container = docker_client.containers.get(container_name)\n",
    "    except docker.errors.NotFound as exc:\n",
    "        print(f\"Check container name!\\n{exc.explanation}\")\n",
    "    else:\n",
    "        container_state = container.attrs[\"State\"]\n",
    "        return container_state[\"Status\"] == RUNNING\n",
    "\n",
    "\n",
    "# if __name__ == \"__main__\":\n",
    "container_name = \"sleepy_banach\"\n",
    "result = is_container_running(container_name)\n",
    "print(result)"
   ]
  },
  {
   "cell_type": "code",
   "execution_count": 6,
   "id": "bdc20b0b",
   "metadata": {},
   "outputs": [
    {
     "data": {
      "text/plain": [
       "Server(http://127.0.0.1:47334)"
      ]
     },
     "execution_count": 6,
     "metadata": {},
     "output_type": "execute_result"
    }
   ],
   "source": [
    "# connects to the specified host and port\n",
    "server = mindsdb_sdk.connect('http://127.0.0.1:47334')\n",
    "server"
   ]
  },
  {
   "cell_type": "markdown",
   "id": "02270a79",
   "metadata": {},
   "source": [
    "## get project"
   ]
  },
  {
   "cell_type": "code",
   "execution_count": 7,
   "id": "11ce7576",
   "metadata": {},
   "outputs": [
    {
     "data": {
      "text/plain": [
       "Project(rez_test_proj)"
      ]
     },
     "execution_count": 7,
     "metadata": {},
     "output_type": "execute_result"
    }
   ],
   "source": [
    "__def_proj_name__ = 'rez_test_proj'\n",
    "\n",
    "if __def_proj_name__ not in [p.name for p in server.list_projects()]:\n",
    "    project = server.create_project(__def_proj_name__)\n",
    "project = server.get_project(__def_proj_name__)\n",
    "project"
   ]
  },
  {
   "cell_type": "markdown",
   "id": "b65c5dac",
   "metadata": {},
   "source": [
    "## Get files"
   ]
  },
  {
   "cell_type": "code",
   "execution_count": 26,
   "id": "e7f6851e",
   "metadata": {},
   "outputs": [
    {
     "name": "stdout",
     "output_type": "stream",
     "text": [
      "coin_mcap <class 'mindsdb_sdk.query.Table'> retrieved\n",
      "\n",
      "   mcap_past_pk                      uuid data_source         asset_name  \\\n",
      "0         46400  64538e084a6e0a5e3a6f7acb   coingecko           gamezone   \n",
      "1         41977  6453d10d4a6e0a5e3a805a02   coingecko  the_virtua_kolect   \n",
      "2         40238  6453638f4a6e0a5e3a646bb1   coingecko        alchemy_pay   \n",
      "\n",
      "  asset_symbol       alt_asset_id currency           price_date  price_value  \\\n",
      "0        gzone           gamezone      usd  2023-03-02 00:00:00     0.038417   \n",
      "1          tvk  the-virtua-kolect      usd  2023-03-02 00:00:00     0.050673   \n",
      "2          ach        alchemy-pay      usd  2023-03-02 00:00:00     0.036582   \n",
      "\n",
      "   price_log_ror  ...          volume_date   volume_size  volume_change  \\\n",
      "0      -0.068320  ...  2023-03-02 00:00:00  1.137197e+05           None   \n",
      "1      -0.064649  ...  2023-03-02 00:00:00  2.609277e+07           None   \n",
      "2      -0.063371  ...  2023-03-02 00:00:00  8.878882e+07           None   \n",
      "\n",
      "                   created_dt  created_by  \\\n",
      "0  2023-05-05 07:37:38.326173  farmraider   \n",
      "1  2023-05-05 07:35:47.200183  farmraider   \n",
      "2  2023-05-05 07:35:05.269605  farmraider   \n",
      "\n",
      "                                        created_proc  \\\n",
      "0  wrangler_assets_etl_CryptoMarket function <nos...   \n",
      "1  wrangler_assets_etl_CryptoMarket function <nos...   \n",
      "2  wrangler_assets_etl_CryptoMarket function <nos...   \n",
      "\n",
      "                  modified_dt  modified_by  \\\n",
      "0  2023-05-17 11:10:34.581678   farmraider   \n",
      "1  2023-05-17 11:10:34.581678   farmraider   \n",
      "2  2023-05-17 11:10:34.581678   farmraider   \n",
      "\n",
      "                                       modified_proc deactivate_dt  \n",
      "0  utils_etl_loader_sparkDBwls_sparkDBwls functio...          None  \n",
      "1  utils_etl_loader_sparkDBwls_sparkDBwls functio...          None  \n",
      "2  utils_etl_loader_sparkDBwls_sparkDBwls functio...          None  \n",
      "\n",
      "[3 rows x 26 columns]\n"
     ]
    },
    {
     "name": "stderr",
     "output_type": "stream",
     "text": [
      "/tmp/ipykernel_434127/2140251015.py:6: ResourceWarning: unclosed <socket.socket fd=59, family=AddressFamily.AF_INET, type=SocketKind.SOCK_STREAM, proto=6, laddr=('127.0.0.1', 58162), raddr=('127.0.0.1', 47334)>\n",
      "  print(tbl.limit(3).fetch())\n",
      "ResourceWarning: Enable tracemalloc to get the object allocation traceback\n"
     ]
    }
   ],
   "source": [
    "fname = \"coin_mcap\"\n",
    "f_list=server.get_database(\"files\")\n",
    "if fname in [f.name for f in f_list.list_tables()]:\n",
    "    tbl=f_list.get_table(fname)\n",
    "    print(\"%s %s retrieved\\n\" % (fname,type(tbl)))\n",
    "    print(tbl.limit(3).fetch())\n",
    "else:\n",
    "    print(\"No table %s\" % fname)"
   ]
  },
  {
   "cell_type": "markdown",
   "id": "9baa136d",
   "metadata": {},
   "source": [
    "## Create model"
   ]
  },
  {
   "cell_type": "code",
   "execution_count": 42,
   "id": "bb5bd774",
   "metadata": {},
   "outputs": [],
   "source": [
    "''' uncomment to drop model '''\n",
    "__def_model_name__=\"mcap_price_predict\"\n",
    "if __def_model_name__ in [m.name for m in  project.list_models()]:\n",
    "    project.drop_model(__def_model_name__)"
   ]
  },
  {
   "cell_type": "code",
   "execution_count": 45,
   "id": "e51425e7",
   "metadata": {},
   "outputs": [
    {
     "name": "stdout",
     "output_type": "stream",
     "text": [
      "model : mcap_price_predict does not exist; creating new model\n"
     ]
    },
    {
     "data": {
      "text/plain": [
       "Model(mcap_price_predict, status=generating)"
      ]
     },
     "execution_count": 45,
     "metadata": {},
     "output_type": "execute_result"
    }
   ],
   "source": [
    "__def_model_name__=\"mcap_price_predict\"\n",
    "__def_engine__= \"\"\n",
    "\n",
    "if __def_model_name__ not in [m.name for m in  project.list_models()]:\n",
    "    print(\"model : %s does not exist; creating new model\" % __def_model_name__)\n",
    "    mcap_model = project.create_model(\n",
    "        name = __def_model_name__,\n",
    "        predict='mcap_value',\n",
    "        query = f_list.query(f\"SELECT mcap_date, asset_name, mcap_value \"+\\\n",
    "                f\"FROM {fname};\"),\n",
    "        timeseries_options={\n",
    "            \"ORDER BY\":'mcap_date',\n",
    "            \"GROUP BY\":\"asset_name\",\n",
    "            'WINDOW' : 5,\n",
    "            'HORIZON': 1,\n",
    "        }\n",
    "    )\n",
    "# try:\n",
    "mcap_model=project.get_model(__def_model_name__)\n",
    "mcap_model\n",
    "# except Exception as e:\n",
    "#     print(e)\n"
   ]
  },
  {
   "cell_type": "code",
   "execution_count": 18,
   "id": "6023881d",
   "metadata": {},
   "outputs": [
    {
     "name": "stdout",
     "output_type": "stream",
     "text": [
      "complete\n",
      "None\n"
     ]
    }
   ],
   "source": [
    "print(mcap_model.get_status())\n",
    "print(mcap_model.data['error'])"
   ]
  },
  {
   "cell_type": "code",
   "execution_count": 46,
   "id": "a2681947",
   "metadata": {},
   "outputs": [
    {
     "name": "stdout",
     "output_type": "stream",
     "text": [
      "Waiting for model training to complete...please be patient\n",
      "................................................................................................................................................................................................................................................................................................................................................................................................................{'name': 'mcap_price_predict', 'engine': 'lightwood', 'project': 'rez_test_proj', 'version': 1, 'status': 'training', 'accuracy': None, 'predict': 'mcap_value', 'update_status': 'up_to_date', 'mindsdb_version': '23.5.4.1', 'error': None, 'select_data_query': 'SELECT mcap_date, asset_name, mcap_value FROM coin_mcap;', 'training_options': {'target': 'mcap_value'}, 'current_training_phase': 4, 'total_training_phases': 5, 'training_phase_name': 'Training model', 'tag': None, 'created_at': '2023-06-18 04:46:10.781935', 'training_time': 224}\n"
     ]
    }
   ],
   "source": [
    "import time\n",
    "\n",
    "print('Waiting for model training to complete...please be patient')\n",
    "for i in range(400):\n",
    "    print('.', end='')\n",
    "    time.sleep(0.5)\n",
    "\n",
    "    if mcap_model.get_status() not in ('generating', 'training'):\n",
    "        print(f'\\nFinished training {mcap_model.name}:')\n",
    "        break\n",
    "# get model's details      \n",
    "print(mcap_model.data)"
   ]
  },
  {
   "cell_type": "code",
   "execution_count": 39,
   "id": "bbbc486d",
   "metadata": {},
   "outputs": [
    {
     "name": "stdout",
     "output_type": "stream",
     "text": [
      "Making prediction on the first 3 rows of home_rentals table\n",
      "          asset_name            mcap_date   mcap_value\n",
      "0           gamezone  2023-03-02 00:00:00  252573760.0\n",
      "1  the_virtua_kolect  2023-03-02 00:00:00  164304656.0\n",
      "2        alchemy_pay  2023-03-02 00:00:00  152188032.0\n"
     ]
    }
   ],
   "source": [
    "# make predictions\n",
    "mcap_row_limit = tbl.limit(3)\n",
    "\n",
    "print('Making prediction on the first 3 rows of home_rentals table')\n",
    "ret = mcap_model.predict(mcap_row_limit)\n",
    "\n",
    "print(ret[['asset_name', 'mcap_date', 'mcap_value']])"
   ]
  },
  {
   "cell_type": "code",
   "execution_count": 41,
   "id": "742f78f3",
   "metadata": {},
   "outputs": [
    {
     "data": {
      "text/html": [
       "<div>\n",
       "<style scoped>\n",
       "    .dataframe tbody tr th:only-of-type {\n",
       "        vertical-align: middle;\n",
       "    }\n",
       "\n",
       "    .dataframe tbody tr th {\n",
       "        vertical-align: top;\n",
       "    }\n",
       "\n",
       "    .dataframe thead th {\n",
       "        text-align: right;\n",
       "    }\n",
       "</style>\n",
       "<table border=\"1\" class=\"dataframe\">\n",
       "  <thead>\n",
       "    <tr style=\"text-align: right;\">\n",
       "      <th></th>\n",
       "      <th>mcap_value</th>\n",
       "      <th>mcap_value_original</th>\n",
       "      <th>mcap_value_confidence</th>\n",
       "      <th>mcap_value_min</th>\n",
       "      <th>mcap_value_max</th>\n",
       "    </tr>\n",
       "  </thead>\n",
       "  <tbody>\n",
       "    <tr>\n",
       "      <th>count</th>\n",
       "      <td>3.000000e+00</td>\n",
       "      <td>3.000000e+00</td>\n",
       "      <td>3.00</td>\n",
       "      <td>3.0</td>\n",
       "      <td>3.000000e+00</td>\n",
       "    </tr>\n",
       "    <tr>\n",
       "      <th>mean</th>\n",
       "      <td>1.896888e+08</td>\n",
       "      <td>7.288526e+07</td>\n",
       "      <td>0.98</td>\n",
       "      <td>0.0</td>\n",
       "      <td>2.562649e+09</td>\n",
       "    </tr>\n",
       "    <tr>\n",
       "      <th>std</th>\n",
       "      <td>5.479590e+07</td>\n",
       "      <td>9.348763e+07</td>\n",
       "      <td>0.00</td>\n",
       "      <td>0.0</td>\n",
       "      <td>5.479590e+07</td>\n",
       "    </tr>\n",
       "    <tr>\n",
       "      <th>min</th>\n",
       "      <td>1.521880e+08</td>\n",
       "      <td>1.586919e+07</td>\n",
       "      <td>0.98</td>\n",
       "      <td>0.0</td>\n",
       "      <td>2.525148e+09</td>\n",
       "    </tr>\n",
       "    <tr>\n",
       "      <th>25%</th>\n",
       "      <td>1.582463e+08</td>\n",
       "      <td>1.893927e+07</td>\n",
       "      <td>0.98</td>\n",
       "      <td>0.0</td>\n",
       "      <td>2.531206e+09</td>\n",
       "    </tr>\n",
       "    <tr>\n",
       "      <th>50%</th>\n",
       "      <td>1.643047e+08</td>\n",
       "      <td>2.200934e+07</td>\n",
       "      <td>0.98</td>\n",
       "      <td>0.0</td>\n",
       "      <td>2.537265e+09</td>\n",
       "    </tr>\n",
       "    <tr>\n",
       "      <th>75%</th>\n",
       "      <td>2.084392e+08</td>\n",
       "      <td>1.013933e+08</td>\n",
       "      <td>0.98</td>\n",
       "      <td>0.0</td>\n",
       "      <td>2.581399e+09</td>\n",
       "    </tr>\n",
       "    <tr>\n",
       "      <th>max</th>\n",
       "      <td>2.525738e+08</td>\n",
       "      <td>1.807773e+08</td>\n",
       "      <td>0.98</td>\n",
       "      <td>0.0</td>\n",
       "      <td>2.625534e+09</td>\n",
       "    </tr>\n",
       "  </tbody>\n",
       "</table>\n",
       "</div>"
      ],
      "text/plain": [
       "         mcap_value  mcap_value_original  mcap_value_confidence  \\\n",
       "count  3.000000e+00         3.000000e+00                   3.00   \n",
       "mean   1.896888e+08         7.288526e+07                   0.98   \n",
       "std    5.479590e+07         9.348763e+07                   0.00   \n",
       "min    1.521880e+08         1.586919e+07                   0.98   \n",
       "25%    1.582463e+08         1.893927e+07                   0.98   \n",
       "50%    1.643047e+08         2.200934e+07                   0.98   \n",
       "75%    2.084392e+08         1.013933e+08                   0.98   \n",
       "max    2.525738e+08         1.807773e+08                   0.98   \n",
       "\n",
       "       mcap_value_min  mcap_value_max  \n",
       "count             3.0    3.000000e+00  \n",
       "mean              0.0    2.562649e+09  \n",
       "std               0.0    5.479590e+07  \n",
       "min               0.0    2.525148e+09  \n",
       "25%               0.0    2.531206e+09  \n",
       "50%               0.0    2.537265e+09  \n",
       "75%               0.0    2.581399e+09  \n",
       "max               0.0    2.625534e+09  "
      ]
     },
     "execution_count": 41,
     "metadata": {},
     "output_type": "execute_result"
    }
   ],
   "source": [
    "ret.describe()"
   ]
  },
  {
   "cell_type": "markdown",
   "id": "62f1fac0",
   "metadata": {},
   "source": [
    "## get database"
   ]
  },
  {
   "cell_type": "code",
   "execution_count": 23,
   "id": "82d96832",
   "metadata": {},
   "outputs": [
    {
     "ename": "RuntimeError",
     "evalue": "Can't connect to db: connection failed: FATAL:  database \"minds_test_db\" does not exist",
     "output_type": "error",
     "traceback": [
      "\u001b[0;31m---------------------------------------------------------------------------\u001b[0m",
      "\u001b[0;31mRuntimeError\u001b[0m                              Traceback (most recent call last)",
      "Input \u001b[0;32mIn [23]\u001b[0m, in \u001b[0;36m<cell line: 3>\u001b[0;34m()\u001b[0m\n\u001b[1;32m      1\u001b[0m __def_db_name__ \u001b[38;5;241m=\u001b[39m \u001b[38;5;124m\"\u001b[39m\u001b[38;5;124mminds_test_db\u001b[39m\u001b[38;5;124m\"\u001b[39m\n\u001b[1;32m      3\u001b[0m \u001b[38;5;28;01mif\u001b[39;00m __def_db_name__ \u001b[38;5;129;01mnot\u001b[39;00m \u001b[38;5;129;01min\u001b[39;00m [d\u001b[38;5;241m.\u001b[39mname \u001b[38;5;28;01mfor\u001b[39;00m d \u001b[38;5;129;01min\u001b[39;00m server\u001b[38;5;241m.\u001b[39mlist_databases()]:\n\u001b[0;32m----> 4\u001b[0m     _db \u001b[38;5;241m=\u001b[39m \u001b[43mserver\u001b[49m\u001b[38;5;241;43m.\u001b[39;49m\u001b[43mcreate_database\u001b[49m\u001b[43m(\u001b[49m\n\u001b[1;32m      5\u001b[0m \u001b[43m        \u001b[49m\u001b[43mengine\u001b[49m\u001b[43m \u001b[49m\u001b[38;5;241;43m=\u001b[39;49m\u001b[43m \u001b[49m\u001b[38;5;124;43m\"\u001b[39;49m\u001b[38;5;124;43mpostgres\u001b[39;49m\u001b[38;5;124;43m\"\u001b[39;49m\u001b[43m,\u001b[49m\n\u001b[1;32m      6\u001b[0m \u001b[43m        \u001b[49m\u001b[43mname\u001b[49m\u001b[43m \u001b[49m\u001b[38;5;241;43m=\u001b[39;49m\u001b[43m \u001b[49m\u001b[38;5;124;43m\"\u001b[39;49m\u001b[38;5;124;43mminds_test_db\u001b[39;49m\u001b[38;5;124;43m\"\u001b[39;49m\u001b[43m,\u001b[49m\n\u001b[1;32m      7\u001b[0m \u001b[43m        \u001b[49m\u001b[43mconnection_args\u001b[49m\u001b[43m \u001b[49m\u001b[38;5;241;43m=\u001b[39;49m\u001b[43m \u001b[49m\u001b[43m{\u001b[49m\n\u001b[1;32m      8\u001b[0m \u001b[43m            \u001b[49m\u001b[38;5;124;43m\"\u001b[39;49m\u001b[38;5;124;43mhost\u001b[39;49m\u001b[38;5;124;43m\"\u001b[39;49m\u001b[43m \u001b[49m\u001b[43m:\u001b[49m\u001b[43m \u001b[49m\u001b[38;5;124;43m\"\u001b[39;49m\u001b[38;5;124;43m172.17.0.1\u001b[39;49m\u001b[38;5;124;43m\"\u001b[39;49m\u001b[43m,\u001b[49m\n\u001b[1;32m      9\u001b[0m \u001b[43m            \u001b[49m\u001b[38;5;124;43m\"\u001b[39;49m\u001b[38;5;124;43mport\u001b[39;49m\u001b[38;5;124;43m\"\u001b[39;49m\u001b[43m \u001b[49m\u001b[43m:\u001b[49m\u001b[43m \u001b[49m\u001b[38;5;124;43m\"\u001b[39;49m\u001b[38;5;124;43m5432\u001b[39;49m\u001b[38;5;124;43m\"\u001b[39;49m\u001b[43m,\u001b[49m\n\u001b[1;32m     10\u001b[0m \u001b[43m            \u001b[49m\u001b[38;5;124;43m\"\u001b[39;49m\u001b[38;5;124;43mdatabase\u001b[39;49m\u001b[38;5;124;43m\"\u001b[39;49m\u001b[43m:\u001b[49m\u001b[38;5;124;43m\"\u001b[39;49m\u001b[38;5;124;43mminds_test_db\u001b[39;49m\u001b[38;5;124;43m\"\u001b[39;49m\u001b[43m,\u001b[49m\n\u001b[1;32m     11\u001b[0m \u001b[43m            \u001b[49m\u001b[38;5;124;43m\"\u001b[39;49m\u001b[38;5;124;43muser\u001b[39;49m\u001b[38;5;124;43m\"\u001b[39;49m\u001b[43m \u001b[49m\u001b[43m:\u001b[49m\u001b[43m \u001b[49m\u001b[38;5;124;43m\"\u001b[39;49m\u001b[38;5;124;43mnuwan\u001b[39;49m\u001b[38;5;124;43m\"\u001b[39;49m\u001b[43m,\u001b[49m\n\u001b[1;32m     12\u001b[0m \u001b[43m            \u001b[49m\u001b[38;5;124;43m\"\u001b[39;49m\u001b[38;5;124;43mpassword\u001b[39;49m\u001b[38;5;124;43m\"\u001b[39;49m\u001b[43m:\u001b[49m\u001b[38;5;124;43m\"\u001b[39;49m\u001b[38;5;124;43mKotchchi@7281\u001b[39;49m\u001b[38;5;124;43m\"\u001b[39;49m\n\u001b[1;32m     13\u001b[0m \u001b[43m        \u001b[49m\u001b[43m}\u001b[49m\n\u001b[1;32m     14\u001b[0m \u001b[43m    \u001b[49m\u001b[43m)\u001b[49m\n\u001b[1;32m     15\u001b[0m _db \u001b[38;5;241m=\u001b[39m server\u001b[38;5;241m.\u001b[39mget_database(\u001b[38;5;124m'\u001b[39m\u001b[38;5;124mminds_test_db\u001b[39m\u001b[38;5;124m'\u001b[39m)\n\u001b[1;32m     16\u001b[0m _db\n",
      "File \u001b[0;32m~/.local/lib/python3.8/site-packages/mindsdb_sdk/server.py:95\u001b[0m, in \u001b[0;36mServer.create_database\u001b[0;34m(self, name, engine, connection_args)\u001b[0m\n\u001b[1;32m     82\u001b[0m \u001b[38;5;124;03m\"\"\"\u001b[39;00m\n\u001b[1;32m     83\u001b[0m \u001b[38;5;124;03mCreate new integration and return it\u001b[39;00m\n\u001b[1;32m     84\u001b[0m \n\u001b[0;32m   (...)\u001b[0m\n\u001b[1;32m     88\u001b[0m \u001b[38;5;124;03m:return: created Database object\u001b[39;00m\n\u001b[1;32m     89\u001b[0m \u001b[38;5;124;03m\"\"\"\u001b[39;00m\n\u001b[1;32m     90\u001b[0m ast_query \u001b[38;5;241m=\u001b[39m CreateDatabase(\n\u001b[1;32m     91\u001b[0m     name\u001b[38;5;241m=\u001b[39mIdentifier(name),\n\u001b[1;32m     92\u001b[0m     engine\u001b[38;5;241m=\u001b[39mengine,\n\u001b[1;32m     93\u001b[0m     parameters\u001b[38;5;241m=\u001b[39mconnection_args,\n\u001b[1;32m     94\u001b[0m )\n\u001b[0;32m---> 95\u001b[0m \u001b[38;5;28;43mself\u001b[39;49m\u001b[38;5;241;43m.\u001b[39;49m\u001b[43mapi\u001b[49m\u001b[38;5;241;43m.\u001b[39;49m\u001b[43msql_query\u001b[49m\u001b[43m(\u001b[49m\u001b[43mast_query\u001b[49m\u001b[38;5;241;43m.\u001b[39;49m\u001b[43mto_string\u001b[49m\u001b[43m(\u001b[49m\u001b[43m)\u001b[49m\u001b[43m)\u001b[49m\n\u001b[1;32m     96\u001b[0m \u001b[38;5;28;01mreturn\u001b[39;00m Database(\u001b[38;5;28mself\u001b[39m, name)\n",
      "File \u001b[0;32m~/.local/lib/python3.8/site-packages/mindsdb_sdk/connectors/rest_api.py:11\u001b[0m, in \u001b[0;36m_try_relogin.<locals>.wrapper\u001b[0;34m(self, *args, **kwargs)\u001b[0m\n\u001b[1;32m      8\u001b[0m \u001b[38;5;129m@wraps\u001b[39m(fnc)\n\u001b[1;32m      9\u001b[0m \u001b[38;5;28;01mdef\u001b[39;00m \u001b[38;5;21mwrapper\u001b[39m(\u001b[38;5;28mself\u001b[39m, \u001b[38;5;241m*\u001b[39margs, \u001b[38;5;241m*\u001b[39m\u001b[38;5;241m*\u001b[39mkwargs):\n\u001b[1;32m     10\u001b[0m     \u001b[38;5;28;01mtry\u001b[39;00m:\n\u001b[0;32m---> 11\u001b[0m         \u001b[38;5;28;01mreturn\u001b[39;00m \u001b[43mfnc\u001b[49m\u001b[43m(\u001b[49m\u001b[38;5;28;43mself\u001b[39;49m\u001b[43m,\u001b[49m\u001b[43m \u001b[49m\u001b[38;5;241;43m*\u001b[39;49m\u001b[43margs\u001b[49m\u001b[43m,\u001b[49m\u001b[43m \u001b[49m\u001b[38;5;241;43m*\u001b[39;49m\u001b[38;5;241;43m*\u001b[39;49m\u001b[43mkwargs\u001b[49m\u001b[43m)\u001b[49m\n\u001b[1;32m     12\u001b[0m     \u001b[38;5;28;01mexcept\u001b[39;00m requests\u001b[38;5;241m.\u001b[39mHTTPError \u001b[38;5;28;01mas\u001b[39;00m e:\n\u001b[1;32m     13\u001b[0m         \u001b[38;5;28;01mif\u001b[39;00m e\u001b[38;5;241m.\u001b[39mresponse\u001b[38;5;241m.\u001b[39mstatus_code \u001b[38;5;241m!=\u001b[39m \u001b[38;5;241m401\u001b[39m:\n",
      "File \u001b[0;32m~/.local/lib/python3.8/site-packages/mindsdb_sdk/connectors/rest_api.py:82\u001b[0m, in \u001b[0;36mRestAPI.sql_query\u001b[0;34m(self, sql, database, lowercase_columns)\u001b[0m\n\u001b[1;32m     80\u001b[0m     \u001b[38;5;28;01mreturn\u001b[39;00m pd\u001b[38;5;241m.\u001b[39mDataFrame(data[\u001b[38;5;124m'\u001b[39m\u001b[38;5;124mdata\u001b[39m\u001b[38;5;124m'\u001b[39m], columns\u001b[38;5;241m=\u001b[39mcolumns)\n\u001b[1;32m     81\u001b[0m \u001b[38;5;28;01mif\u001b[39;00m data[\u001b[38;5;124m'\u001b[39m\u001b[38;5;124mtype\u001b[39m\u001b[38;5;124m'\u001b[39m] \u001b[38;5;241m==\u001b[39m \u001b[38;5;124m'\u001b[39m\u001b[38;5;124merror\u001b[39m\u001b[38;5;124m'\u001b[39m:\n\u001b[0;32m---> 82\u001b[0m     \u001b[38;5;28;01mraise\u001b[39;00m \u001b[38;5;167;01mRuntimeError\u001b[39;00m(data[\u001b[38;5;124m'\u001b[39m\u001b[38;5;124merror_message\u001b[39m\u001b[38;5;124m'\u001b[39m])\n\u001b[1;32m     83\u001b[0m \u001b[38;5;28;01mreturn\u001b[39;00m \u001b[38;5;28;01mNone\u001b[39;00m\n",
      "\u001b[0;31mRuntimeError\u001b[0m: Can't connect to db: connection failed: FATAL:  database \"minds_test_db\" does not exist"
     ]
    }
   ],
   "source": [
    "__def_db_name__ = \"minds_test_db\"\n",
    "\n",
    "if __def_db_name__ not in [d.name for d in server.list_databases()]:\n",
    "    _db = server.create_database(\n",
    "        engine = \"postgres\",\n",
    "        name = \"minds_test_db\",\n",
    "        connection_args = {\n",
    "            \"host\" : \"172.17.0.1\",\n",
    "            \"port\" : \"5432\",\n",
    "            \"database\":\"minds_test_db\",\n",
    "            \"user\" : \"nuwan\",\n",
    "            \"password\":\"Kotchchi@7281\"\n",
    "        }\n",
    "    )\n",
    "_db = server.get_database('minds_test_db')\n",
    "_db"
   ]
  },
  {
   "cell_type": "code",
   "execution_count": 177,
   "id": "6eb0c2a5",
   "metadata": {},
   "outputs": [
    {
     "data": {
      "text/plain": [
       "<bound method Model.get_status of Model(mcap_price_predict, status=error)>"
      ]
     },
     "execution_count": 177,
     "metadata": {},
     "output_type": "execute_result"
    }
   ],
   "source": [
    "mcap_model.get_status"
   ]
  },
  {
   "cell_type": "code",
   "execution_count": 32,
   "id": "2c1fb320",
   "metadata": {},
   "outputs": [
    {
     "name": "stdout",
     "output_type": "stream",
     "text": [
      "Query(SELECT * FROM files.coin_mcap limit 3;)\n"
     ]
    }
   ],
   "source": [
    "query = project.query('SELECT * FROM files.coin_mcap limit 3;')\n",
    "print(query)\n"
   ]
  },
  {
   "cell_type": "code",
   "execution_count": 28,
   "id": "1b7c841f",
   "metadata": {},
   "outputs": [
    {
     "data": {
      "text/html": [
       "<div>\n",
       "<style scoped>\n",
       "    .dataframe tbody tr th:only-of-type {\n",
       "        vertical-align: middle;\n",
       "    }\n",
       "\n",
       "    .dataframe tbody tr th {\n",
       "        vertical-align: top;\n",
       "    }\n",
       "\n",
       "    .dataframe thead th {\n",
       "        text-align: right;\n",
       "    }\n",
       "</style>\n",
       "<table border=\"1\" class=\"dataframe\">\n",
       "  <thead>\n",
       "    <tr style=\"text-align: right;\">\n",
       "      <th></th>\n",
       "      <th>mcap_past_pk</th>\n",
       "      <th>uuid</th>\n",
       "      <th>data_source</th>\n",
       "      <th>asset_name</th>\n",
       "      <th>asset_symbol</th>\n",
       "      <th>alt_asset_id</th>\n",
       "      <th>currency</th>\n",
       "      <th>price_date</th>\n",
       "      <th>price_value</th>\n",
       "      <th>price_log_ror</th>\n",
       "      <th>...</th>\n",
       "      <th>volume_date</th>\n",
       "      <th>volume_size</th>\n",
       "      <th>volume_change</th>\n",
       "      <th>created_dt</th>\n",
       "      <th>created_by</th>\n",
       "      <th>created_proc</th>\n",
       "      <th>modified_dt</th>\n",
       "      <th>modified_by</th>\n",
       "      <th>modified_proc</th>\n",
       "      <th>deactivate_dt</th>\n",
       "    </tr>\n",
       "  </thead>\n",
       "  <tbody>\n",
       "    <tr>\n",
       "      <th>0</th>\n",
       "      <td>1</td>\n",
       "      <td>6453adc74a6e0a5e3a77a792</td>\n",
       "      <td>coingecko</td>\n",
       "      <td>non_fungible_yearn</td>\n",
       "      <td>nfy</td>\n",
       "      <td>non-fungible-yearn</td>\n",
       "      <td>usd</td>\n",
       "      <td>2023-03-01 00:00:00.000000</td>\n",
       "      <td>0.760072</td>\n",
       "      <td>None</td>\n",
       "      <td>...</td>\n",
       "      <td>2023-03-01 00:00:00.000000</td>\n",
       "      <td>19706.965408</td>\n",
       "      <td>None</td>\n",
       "      <td>2023-05-05 07:18:09.962638</td>\n",
       "      <td>farmraider</td>\n",
       "      <td>wrangler_assets_etl_CryptoMarket function &lt;nos...</td>\n",
       "      <td>None</td>\n",
       "      <td>None</td>\n",
       "      <td>None</td>\n",
       "      <td>None</td>\n",
       "    </tr>\n",
       "    <tr>\n",
       "      <th>1</th>\n",
       "      <td>2</td>\n",
       "      <td>6453adc74a6e0a5e3a77a7a2</td>\n",
       "      <td>coingecko</td>\n",
       "      <td>non_fungible_yearn</td>\n",
       "      <td>nfy</td>\n",
       "      <td>non-fungible-yearn</td>\n",
       "      <td>usd</td>\n",
       "      <td>2023-03-02 00:00:00.000000</td>\n",
       "      <td>0.775617</td>\n",
       "      <td>None</td>\n",
       "      <td>...</td>\n",
       "      <td>2023-03-02 00:00:00.000000</td>\n",
       "      <td>20273.635916</td>\n",
       "      <td>None</td>\n",
       "      <td>2023-05-05 07:18:09.962638</td>\n",
       "      <td>farmraider</td>\n",
       "      <td>wrangler_assets_etl_CryptoMarket function &lt;nos...</td>\n",
       "      <td>None</td>\n",
       "      <td>None</td>\n",
       "      <td>None</td>\n",
       "      <td>None</td>\n",
       "    </tr>\n",
       "    <tr>\n",
       "      <th>2</th>\n",
       "      <td>3</td>\n",
       "      <td>6453adc74a6e0a5e3a77a7af</td>\n",
       "      <td>coingecko</td>\n",
       "      <td>non_fungible_yearn</td>\n",
       "      <td>nfy</td>\n",
       "      <td>non-fungible-yearn</td>\n",
       "      <td>usd</td>\n",
       "      <td>2023-03-03 00:00:00.000000</td>\n",
       "      <td>0.781697</td>\n",
       "      <td>None</td>\n",
       "      <td>...</td>\n",
       "      <td>2023-03-03 00:00:00.000000</td>\n",
       "      <td>21408.025024</td>\n",
       "      <td>None</td>\n",
       "      <td>2023-05-05 07:18:09.962638</td>\n",
       "      <td>farmraider</td>\n",
       "      <td>wrangler_assets_etl_CryptoMarket function &lt;nos...</td>\n",
       "      <td>None</td>\n",
       "      <td>None</td>\n",
       "      <td>None</td>\n",
       "      <td>None</td>\n",
       "    </tr>\n",
       "  </tbody>\n",
       "</table>\n",
       "<p>3 rows × 26 columns</p>\n",
       "</div>"
      ],
      "text/plain": [
       "   mcap_past_pk                      uuid data_source          asset_name  \\\n",
       "0             1  6453adc74a6e0a5e3a77a792   coingecko  non_fungible_yearn   \n",
       "1             2  6453adc74a6e0a5e3a77a7a2   coingecko  non_fungible_yearn   \n",
       "2             3  6453adc74a6e0a5e3a77a7af   coingecko  non_fungible_yearn   \n",
       "\n",
       "  asset_symbol        alt_asset_id currency                  price_date  \\\n",
       "0          nfy  non-fungible-yearn      usd  2023-03-01 00:00:00.000000   \n",
       "1          nfy  non-fungible-yearn      usd  2023-03-02 00:00:00.000000   \n",
       "2          nfy  non-fungible-yearn      usd  2023-03-03 00:00:00.000000   \n",
       "\n",
       "   price_value price_log_ror  ...                 volume_date   volume_size  \\\n",
       "0     0.760072          None  ...  2023-03-01 00:00:00.000000  19706.965408   \n",
       "1     0.775617          None  ...  2023-03-02 00:00:00.000000  20273.635916   \n",
       "2     0.781697          None  ...  2023-03-03 00:00:00.000000  21408.025024   \n",
       "\n",
       "   volume_change                  created_dt  created_by  \\\n",
       "0           None  2023-05-05 07:18:09.962638  farmraider   \n",
       "1           None  2023-05-05 07:18:09.962638  farmraider   \n",
       "2           None  2023-05-05 07:18:09.962638  farmraider   \n",
       "\n",
       "                                        created_proc modified_dt  modified_by  \\\n",
       "0  wrangler_assets_etl_CryptoMarket function <nos...        None         None   \n",
       "1  wrangler_assets_etl_CryptoMarket function <nos...        None         None   \n",
       "2  wrangler_assets_etl_CryptoMarket function <nos...        None         None   \n",
       "\n",
       "  modified_proc deactivate_dt  \n",
       "0          None          None  \n",
       "1          None          None  \n",
       "2          None          None  \n",
       "\n",
       "[3 rows x 26 columns]"
      ]
     },
     "execution_count": 28,
     "metadata": {},
     "output_type": "execute_result"
    }
   ],
   "source": [
    "my_table = mysql_demo_db.get_table('warehouse.mcap_past')\n",
    "my_table=my_table.filter(asset_symbol='nfy')\n",
    "my_table=my_table.limit(3)\n",
    "my_table.fetch()"
   ]
  },
  {
   "cell_type": "code",
   "execution_count": null,
   "id": "e3bf8d90",
   "metadata": {},
   "outputs": [],
   "source": []
  }
 ],
 "metadata": {
  "kernelspec": {
   "display_name": "Python 3 (ipykernel)",
   "language": "python",
   "name": "python3"
  },
  "language_info": {
   "codemirror_mode": {
    "name": "ipython",
    "version": 3
   },
   "file_extension": ".py",
   "mimetype": "text/x-python",
   "name": "python",
   "nbconvert_exporter": "python",
   "pygments_lexer": "ipython3",
   "version": "3.8.10"
  }
 },
 "nbformat": 4,
 "nbformat_minor": 5
}
