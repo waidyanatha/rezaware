{
 "cells": [
  {
   "cell_type": "markdown",
   "id": "9e1a19de",
   "metadata": {},
   "source": [
    "# PostGIS read and write Tester\n"
   ]
  },
  {
   "cell_type": "code",
   "execution_count": 1,
   "id": "ea2801e6",
   "metadata": {},
   "outputs": [],
   "source": [
    "'''\n",
    "    WARNING CONTROL to display or ignore all warnings\n",
    "'''\n",
    "import warnings; warnings.simplefilter('ignore')     #switch betweeb 'default' and 'ignore'\n",
    "import traceback\n",
    "\n",
    "''' Set debug flag to view extended error messages; else set it to False to turn off debugging mode '''\n",
    "debug = True\n"
   ]
  },
  {
   "cell_type": "markdown",
   "id": "fa3bda64",
   "metadata": {},
   "source": [
    "## Instantiate Classes"
   ]
  },
  {
   "cell_type": "code",
   "execution_count": 54,
   "id": "93e9a568",
   "metadata": {},
   "outputs": [
    {
     "name": "stdout",
     "output_type": "stream",
     "text": [
      "All functional SPARKRDBM-libraries in LOADER-package of ETL-module imported successfully!\n",
      "All functional SPARKFILE-libraries in LOADER-package of ETL-module imported successfully!\n",
      "All functional CSVTORDBM-libraries in IMPORTER-package of IO-module imported successfully!\n",
      "sparkFile Class initialization complete\n",
      "csvToRDBM Class initialization complete\n",
      "\n",
      "read and write files from and to postgresql database class initialization and load complete!\n"
     ]
    }
   ],
   "source": [
    "import os\n",
    "import sys\n",
    "\n",
    "proj_dir = os.path.abspath(os.pardir)\n",
    "sys.path.insert(1,proj_dir.split('rezaware/')[0])\n",
    "from rezaware.modules.etl.loader import sparkRDBM as db\n",
    "from rezaware.modules.etl.loader import sparkFile as file\n",
    "from rezaware.modules.io.importer import csvToRDBM as csv2db\n",
    "\n",
    "''' restart initiate classes '''\n",
    "if debug:\n",
    "    import importlib\n",
    "    db = importlib.reload(db)\n",
    "    file=importlib.reload(file)\n",
    "    csv2db=importlib.reload(csv2db)\n",
    "\n",
    "__desc__ = \"read and write files from and to postgresql database\"\n",
    "\n",
    "clsImp = csv2db.dataWorkLoads(\n",
    "    desc=__desc__,\n",
    "    store_mode ='local-fs',\n",
    "    store_root =proj_dir.split('rezaware/')[0],\n",
    "    db_type ='PostgreSQL',\n",
    "    db_name ='property',\n",
    "    db_schema='curated',\n",
    "    db_user = 'rezaware',\n",
    "    db_pswd = 'rezHERO',\n",
    ")\n",
    "print(\"\\n%s class initialization and load complete!\" % __desc__)"
   ]
  },
  {
   "cell_type": "markdown",
   "id": "7d0d0d8d",
   "metadata": {},
   "source": [
    "## Import CSV to Postgres"
   ]
  },
  {
   "cell_type": "code",
   "execution_count": 55,
   "id": "b04a25b8",
   "metadata": {},
   "outputs": [
    {
     "name": "stderr",
     "output_type": "stream",
     "text": [
      "23/09/08 17:31:27 WARN SparkSession: Using an existing Spark session; only runtime SQL configurations will take effect.\n",
      "23/09/08 17:31:28 WARN SparkSession: Using an existing Spark session; only runtime SQL configurations will take effect.\n"
     ]
    },
    {
     "name": "stdout",
     "output_type": "stream",
     "text": [
      "Wait a moment, writing data to postgresql property database ...\n"
     ]
    },
    {
     "name": "stderr",
     "output_type": "stream",
     "text": [
      "dataWorkLoads @staticmethod <batch_and_upsert> PSQL connection set with <class 'psycopg2.extensions.cursor'> and connection <connection object at 0x7f7e3e3cde00; dsn: 'user=rezaware password=xxx dbname=property host=127.0.0.1 port=5432', closed: 0>\n",
      "dataWorkLoads @staticmethod <batch_and_upsert> PSQL connection set with <class 'psycopg2.extensions.cursor'> and connection <connection object at 0x7f7e3e3cde00; dsn: 'user=rezaware password=xxx dbname=property host=127.0.0.1 port=5432', closed: 0>\n",
      "dataWorkLoads @staticmethod <batch_and_upsert> PSQL connection set with <class 'psycopg2.extensions.cursor'> and connection <connection object at 0x7f7e3e3cde00; dsn: 'user=rezaware password=xxx dbname=property host=127.0.0.1 port=5432', closed: 0>\n"
     ]
    },
    {
     "name": "stdout",
     "output_type": "stream",
     "text": [
      "Inserted 0 and Updated 23 rows\n"
     ]
    }
   ],
   "source": [
    "import pandas as pd\n",
    "_folder=\"mining/data/property/default/util_refer\"\n",
    "_file = None #\"hotel_groups.csv\"\n",
    "_tbl = 'util_refer'\n",
    "\n",
    "ins_count_, upd_count_ = 0,0\n",
    "ins_count_, upd_count_ = clsImp.save_to_db(\n",
    "    folder_path=_folder,\n",
    "    file_name = _file,\n",
    "    db_tbl = _tbl,\n",
    ")\n",
    "print(\"Inserted %d and Updated %d rows\" % (ins_count_, upd_count_))"
   ]
  },
  {
   "cell_type": "code",
   "execution_count": 56,
   "id": "55d06e5e",
   "metadata": {},
   "outputs": [
    {
     "name": "stdout",
     "output_type": "stream",
     "text": [
      "root\n",
      " |-- ref_pk: integer (nullable = true)\n",
      " |-- entity: string (nullable = true)\n",
      " |-- category: string (nullable = true)\n",
      " |-- code: string (nullable = true)\n",
      " |-- value: string (nullable = true)\n",
      " |-- description: string (nullable = true)\n",
      " |-- source_uuid: string (nullable = true)\n",
      " |-- data_source: string (nullable = true)\n",
      " |-- data_owner: string (nullable = true)\n",
      "\n"
     ]
    }
   ],
   "source": [
    "clsImp.data.printSchema()"
   ]
  },
  {
   "cell_type": "code",
   "execution_count": null,
   "id": "2abca5d4",
   "metadata": {},
   "outputs": [],
   "source": []
  }
 ],
 "metadata": {
  "kernelspec": {
   "display_name": "Python 3 (ipykernel)",
   "language": "python",
   "name": "python3"
  },
  "language_info": {
   "codemirror_mode": {
    "name": "ipython",
    "version": 3
   },
   "file_extension": ".py",
   "mimetype": "text/x-python",
   "name": "python",
   "nbconvert_exporter": "python",
   "pygments_lexer": "ipython3",
   "version": "3.8.10"
  }
 },
 "nbformat": 4,
 "nbformat_minor": 5
}
