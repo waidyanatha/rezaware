{
 "cells": [
  {
   "cell_type": "markdown",
   "id": "6cd14613",
   "metadata": {},
   "source": [
    "# Data Source Feeds Storage (Tester)\n"
   ]
  },
  {
   "cell_type": "code",
   "execution_count": 6,
   "id": "4b3a8347",
   "metadata": {},
   "outputs": [],
   "source": [
    "'''\n",
    "    WARNING CONTROL to display or ignore all warnings\n",
    "'''\n",
    "import warnings; warnings.simplefilter('ignore')     #switch betweeb 'default' and 'ignore'\n",
    "import traceback\n",
    "\n",
    "''' Set debug flag to view extended error messages; else set it to False to turn off debugging mode '''\n",
    "debug = True\n"
   ]
  },
  {
   "cell_type": "code",
   "execution_count": 10,
   "id": "6eb58336",
   "metadata": {},
   "outputs": [
    {
     "name": "stdout",
     "output_type": "stream",
     "text": [
      "All functional FEEDWORKLOADS-libraries in EXTRACTOR-package of ETL-module imported successfully!\n",
      "All functional SPARKNOSQLWLS-libraries in LOADER-package of ETL-module imported successfully!\n",
      "sparkNoSQLwls Class initialization complete\n",
      "FeedWorkLoads Class initialization complete\n",
      "sparkNoSQLwls Class initialization complete\n",
      "\n",
      "read and write files from and to a particular source class initialization and load complete!\n"
     ]
    }
   ],
   "source": [
    "import os\n",
    "import sys\n",
    "\n",
    "proj_dir = os.path.abspath(os.pardir)\n",
    "sys.path.insert(1,proj_dir.split('rezaware/')[0])\n",
    "from rezaware.modules.etl.extractor import dataFeedsDB as source\n",
    "from rezaware.modules.etl.loader import sparkNoSQLwls as nosql\n",
    "\n",
    "''' restart initiate classes '''\n",
    "if debug:\n",
    "    import importlib\n",
    "    source= importlib.reload(source)\n",
    "    nosql= importlib.reload(nosql)\n",
    "\n",
    "__desc__ = \"read and write files from and to a particular source\"\n",
    "clsFeed = source.FeedWorkLoads(desc=__desc__)\n",
    "clsNoSQL = nosql.NoSQLWorkLoads(desc=__desc__)\n",
    "\n",
    "print(\"\\n%s class initialization and load complete!\" % __desc__)"
   ]
  },
  {
   "cell_type": "markdown",
   "id": "b99b0376",
   "metadata": {},
   "source": [
    "## Data Source Dictionary\n",
    "Example data source dictionary with"
   ]
  },
  {
   "cell_type": "code",
   "execution_count": 8,
   "id": "9dba1dd1",
   "metadata": {},
   "outputs": [],
   "source": [
    "search_list = [\n",
    "    {\n",
    "        \"context\": {\n",
    "            \"country\":'Canada',\n",
    "            \"scope\" : 'national',   # describe, identify, and distinguish the data feed\n",
    "            },\n",
    "        \"realm\":{\n",
    "            \"module\" : 'Traveller',  # a unique realm name, db name prefix\n",
    "            \"entity\" : 'Demography', # db name second prefix\n",
    "            \"package\" : 'Airline',   # collection prefix\n",
    "            \"function\":'Booking',    # collection postfix\n",
    "        }\n",
    "    },\n",
    "    {\n",
    "        \"context\": {\n",
    "            \"country\":'USA',\n",
    "            \"state\" : {\n",
    "                \"name\" : 'Massachusetts',\n",
    "                \"code\" : 'MA'\n",
    "            },\n",
    "            \"scope\" : 'state',   # describe, identify, and distinguish the data feed\n",
    "            },\n",
    "        \"realm\":{\n",
    "            \"module\" : 'Traveller',  # a unique realm name, db name prefix\n",
    "            \"entity\" : 'Demography', # db name second prefix\n",
    "            \"package\" :'Property',   # collection prefix\n",
    "            \"function\":'Booking',    # collection postfix\n",
    "        }\n",
    "    }\n",
    "]"
   ]
  },
  {
   "cell_type": "markdown",
   "id": "bf4683ef",
   "metadata": {},
   "source": [
    "### Print the dict"
   ]
  },
  {
   "cell_type": "code",
   "execution_count": 37,
   "id": "385caac2",
   "metadata": {},
   "outputs": [
    {
     "name": "stdout",
     "output_type": "stream",
     "text": [
      "{\n",
      "  \"context\": {\n",
      "    \"country\": \"Canada\",\n",
      "    \"scope\": \"national\"\n",
      "  },\n",
      "  \"realm\": {\n",
      "    \"module\": \"Traveller\",\n",
      "    \"entity\": \"Demography\",\n",
      "    \"package\": \"Airline\",\n",
      "    \"function\": \"Booking\"\n",
      "  }\n",
      "}\n",
      "{\n",
      "  \"context\": {\n",
      "    \"country\": \"USA\",\n",
      "    \"state\": {\n",
      "      \"name\": \"Massachusetts\",\n",
      "      \"code\": \"MA\"\n",
      "    },\n",
      "    \"scope\": \"national\"\n",
      "  },\n",
      "  \"realm\": {\n",
      "    \"module\": \"Traveller\",\n",
      "    \"entity\": \"Demography\",\n",
      "    \"package\": \"Property\",\n",
      "    \"function\": \"Booking\"\n",
      "  }\n",
      "}\n"
     ]
    }
   ],
   "source": [
    "import json\n",
    "\n",
    "for search_dict in search_list:\n",
    "    print(json.dumps(search_dict,indent=2))"
   ]
  },
  {
   "cell_type": "markdown",
   "id": "2a9b2410",
   "metadata": {},
   "source": [
    "## Select feeds from MongoDB"
   ]
  },
  {
   "cell_type": "code",
   "execution_count": 11,
   "id": "74d09d31",
   "metadata": {},
   "outputs": [
    {
     "name": "stdout",
     "output_type": "stream",
     "text": [
      "[Error]sparkNoSQLwls function <read_documents> mongodb database: traveller_demography has no collections\n",
      "[Error]sparkNoSQLwls function <wrapper_converter> 'NoneType' object is not iterable\n"
     ]
    },
    {
     "data": {
      "text/plain": [
       "[{'_id': ObjectId('64d0f64185fd54f594ad9119'),\n",
       "  'source': {'owner': 'kayak.com',\n",
       "   'dates': {'activated': '2023-07-07', 'expires': '2024-07-06'}},\n",
       "  'context': {'summary': 'scraping kayak.com airline booking data for HERO',\n",
       "   'country': 'canada',\n",
       "   'scope': 'national'},\n",
       "  'realm': {'module': 'Traveller',\n",
       "   'entity': 'Demography',\n",
       "   'package': 'Airline',\n",
       "   'function': 'Booking'},\n",
       "  'uri': [{'urn': '',\n",
       "    'protocol': 'https',\n",
       "    'domain': 'kayak.com',\n",
       "    'port': '',\n",
       "    'path': 'flights',\n",
       "    'query': {'expression': '{arrivalPort}-{departurePort}/{flightDate}/1adults?a&fs=cfc=1;bfc=1;transportation=transportation_plane',\n",
       "     'parameter': {'arrivalPort': 'string',\n",
       "      'departurePort': 'string',\n",
       "      'flightDate': 'date'}},\n",
       "    'fragment': ''},\n",
       "   {'urn': '',\n",
       "    'protocol': 'https',\n",
       "    'domain': 'kayak.com',\n",
       "    'port': '',\n",
       "    'path': 'flights',\n",
       "    'query': {'expression': '{arrivalPort}-{departurePort}/{flightDate}/1adults?a&fs=cfc=1;bfc=1;transportation=transportation_plane',\n",
       "     'parameter': {'arrivalPort': 'string',\n",
       "      'departurePort': 'string',\n",
       "      'flightDate': 'date'}},\n",
       "    'fragments': []}],\n",
       "  'get': {'method': 'download', 'object': 'json'}}]"
      ]
     },
     "execution_count": 11,
     "metadata": {},
     "output_type": "execute_result"
    }
   ],
   "source": [
    "kwargs={}\n",
    "# kwargs['FORCEDB']=True\n",
    "feeds_list = clsFeed.read_feeds_to_list(\n",
    "    search_with_list=search_list,\n",
    "    **kwargs)\n",
    "feeds_list"
   ]
  },
  {
   "cell_type": "code",
   "execution_count": null,
   "id": "5cba81f3",
   "metadata": {},
   "outputs": [],
   "source": []
  }
 ],
 "metadata": {
  "kernelspec": {
   "display_name": "Python 3 (ipykernel)",
   "language": "python",
   "name": "python3"
  },
  "language_info": {
   "codemirror_mode": {
    "name": "ipython",
    "version": 3
   },
   "file_extension": ".py",
   "mimetype": "text/x-python",
   "name": "python",
   "nbconvert_exporter": "python",
   "pygments_lexer": "ipython3",
   "version": "3.8.10"
  }
 },
 "nbformat": 4,
 "nbformat_minor": 5
}
