{
 "cells": [
  {
   "cell_type": "markdown",
   "id": "6cd14613",
   "metadata": {},
   "source": [
    "# Data Source Feeds Storage (Tester)\n"
   ]
  },
  {
   "cell_type": "code",
   "execution_count": 1,
   "id": "4b3a8347",
   "metadata": {},
   "outputs": [],
   "source": [
    "'''\n",
    "    WARNING CONTROL to display or ignore all warnings\n",
    "'''\n",
    "import warnings; warnings.simplefilter('ignore')     #switch betweeb 'default' and 'ignore'\n",
    "import traceback\n",
    "\n",
    "''' Set debug flag to view extended error messages; else set it to False to turn off debugging mode '''\n",
    "debug = True\n"
   ]
  },
  {
   "cell_type": "code",
   "execution_count": 13,
   "id": "6eb58336",
   "metadata": {},
   "outputs": [
    {
     "name": "stdout",
     "output_type": "stream",
     "text": [
      "All functional FEEDWORKLOADS-libraries in EXTRACTOR-package of ETL-module imported successfully!\n",
      "All functional SPARKNOSQLWLS-libraries in LOADER-package of ETL-module imported successfully!\n",
      "sparkNoSQLwls Class initialization complete\n",
      "FeedWorkLoads Class initialization complete\n",
      "sparkNoSQLwls Class initialization complete\n",
      "\n",
      "read and write files from and to a particular source class initialization and load complete!\n"
     ]
    }
   ],
   "source": [
    "import os\n",
    "import sys\n",
    "\n",
    "proj_dir = os.path.abspath(os.pardir)\n",
    "sys.path.insert(1,proj_dir.split('rezaware/')[0])\n",
    "from rezaware.modules.etl.extractor import dataFeedsDB as source\n",
    "from rezaware.modules.etl.loader import sparkNoSQLwls as nosql\n",
    "\n",
    "''' restart initiate classes '''\n",
    "if debug:\n",
    "    import importlib\n",
    "    source= importlib.reload(source)\n",
    "    nosql= importlib.reload(nosql)\n",
    "\n",
    "__desc__ = \"read and write files from and to a particular source\"\n",
    "clsFeed = source.FeedWorkLoads(desc=__desc__)\n",
    "clsNoSQL = nosql.NoSQLWorkLoads(desc=__desc__)\n",
    "\n",
    "print(\"\\n%s class initialization and load complete!\" % __desc__)"
   ]
  },
  {
   "cell_type": "markdown",
   "id": "b99b0376",
   "metadata": {},
   "source": [
    "## Data Source Dictionary\n",
    "Example data source dictionary with"
   ]
  },
  {
   "cell_type": "code",
   "execution_count": 16,
   "id": "385caac2",
   "metadata": {},
   "outputs": [
    {
     "name": "stdout",
     "output_type": "stream",
     "text": [
      "{\n",
      "  \"source\": {\n",
      "    \"owner\": \"kayak.com\",\n",
      "    \"dates\": {\n",
      "      \"activated\": \"2023-07-07\",\n",
      "      \"expires\": \"2024-07-06\"\n",
      "    }\n",
      "  },\n",
      "  \"context\": {\n",
      "    \"summary\": \"scraping kayak.com airline booking data for HERO\",\n",
      "    \"country\": \"canada\",\n",
      "    \"scope\": \"national\"\n",
      "  },\n",
      "  \"realm\": {\n",
      "    \"module\": \"OTA\",\n",
      "    \"entity\": \"scraper\",\n",
      "    \"package\": \"Airline\",\n",
      "    \"function\": \"Booking\"\n",
      "  },\n",
      "  \"uri\": [\n",
      "    {\n",
      "      \"urn\": \"\",\n",
      "      \"protocol\": \"https\",\n",
      "      \"domain\": \"skyscanner.com\",\n",
      "      \"port\": \"\",\n",
      "      \"path\": \"airlines\",\n",
      "      \"query\": {\n",
      "        \"expression\": \"{arrivalPort}-{departurePort}/{flightDate}/1adults?a&fs=cfc=1;bfc=1;transportation=transportation_plane\",\n",
      "        \"parameter\": {\n",
      "          \"arrivalPort\": \"string\",\n",
      "          \"departurePort\": \"string\",\n",
      "          \"flightDate\": \"date\"\n",
      "        }\n",
      "      },\n",
      "      \"fragments\": [\n",
      "        \"number\",\n",
      "        \"page\"\n",
      "      ]\n",
      "    },\n",
      "    {\n",
      "      \"urn\": \"\",\n",
      "      \"protocol\": \"https\",\n",
      "      \"domain\": \"kayak.com\",\n",
      "      \"port\": \"\",\n",
      "      \"path\": \"flights\",\n",
      "      \"query\": {\n",
      "        \"expression\": \"{arrivalPort}-{departurePort}/{flightDate}/1adults?a&fs=cfc=1;bfc=1;transportation=transportation_plane\",\n",
      "        \"parameter\": {\n",
      "          \"arrivalPort\": \"string\",\n",
      "          \"departurePort\": \"string\",\n",
      "          \"flightDate\": \"date\"\n",
      "        }\n",
      "      },\n",
      "      \"fragments\": []\n",
      "    }\n",
      "  ],\n",
      "  \"get\": {\n",
      "    \"method\": \"scrape\",\n",
      "    \"object\": \"json\"\n",
      "  }\n",
      "}\n"
     ]
    }
   ],
   "source": [
    "data_feeds = [\n",
    "    {\n",
    "#         \"id\" : 'ObjID(9876)',\n",
    "        \"source\" : {\n",
    "            \"owner\" : \"kayak.com\",   # data ownser unique identifier (i.e., legal entity name)\n",
    "            \"dates\": {\n",
    "                \"activated\" :'2023-07-07', # optional date the data source is active\n",
    "                \"expires\":'2024-07-06',     # and inactive period\n",
    "            }},\n",
    "        \"context\": {\n",
    "            \"summary\":'scraping kayak.com airline booking data for HERO', # any set of key value pairs to\n",
    "            \"country\":'canada',\"scope\" : 'national',   # describe, identify, and distinguish the data feed\n",
    "            },\n",
    "        \"realm\":{\n",
    "            \"module\" : 'OTA', # a unique realm name, db name prefix\n",
    "            \"entity\" : 'scraper', # db name second prefix\n",
    "            \"package\" : 'Airline',   # collection prefix\n",
    "            \"function\":'Booking',\n",
    "#             \"supplier\":'kayak'\n",
    "        },\n",
    "        \"uri\":\n",
    "        [\n",
    "            {\n",
    "            \"urn\" : \"\", # urn:ota:transport:airline:booking (IANA)\n",
    "            \"protocol\":'https',   # FTP, FTPS, HTTP, TELENET\n",
    "            \"domain\" : 'skyscanner.com',  # https://kayak.com/flights/\n",
    "            \"port\" : '',\n",
    "            \"path\" : 'airlines',\n",
    "            \"query\": {\n",
    "                \"expression\":'{arrivalPort}-{departurePort}/{flightDate}/1adults?a&fs=cfc=1;bfc=1;transportation=transportation_plane',\n",
    "                \"parameter\" :{\n",
    "                    \"arrivalPort\" : 'string',\n",
    "                    \"departurePort\":'string',\n",
    "                    \"flightDate\" : 'date'\n",
    "                }\n",
    "            },\n",
    "            \"fragments\":['number','page']  # https://kayak.com/flights/#number\n",
    "            },\n",
    "            {\n",
    "            \"urn\" : \"\", # urn:ota:transport:airline:booking (IANA)\n",
    "            \"protocol\":'https',   # FTP, FTPS, HTTP, TELENET\n",
    "            \"domain\" : 'kayak.com',  # https://kayak.com/flights/\n",
    "            \"port\" : '',\n",
    "            \"path\" : 'flights',\n",
    "            \"query\": {\n",
    "                \"expression\":'{arrivalPort}-{departurePort}/{flightDate}/1adults?a&fs=cfc=1;bfc=1;transportation=transportation_plane',\n",
    "                \"parameter\" :{\n",
    "                    \"arrivalPort\":'string',\n",
    "                    \"departurePort\" : 'string',\n",
    "                    \"flightDate\" :'date'\n",
    "                }\n",
    "            },\n",
    "            \"fragments\":[]\n",
    "            }\n",
    "        ],\n",
    "        \"get\":{\n",
    "            \"method\":'scrape',\n",
    "            \"object\":'json'\n",
    "        } \n",
    "\n",
    "    },\n",
    "#     {\n",
    "#         \"id\" : 'ObjID(1234)',\n",
    "#         \"source\" : {\n",
    "#             \"owner\" : \"canada government\",\n",
    "#             \"date\": {\n",
    "#                 \"activated\" :'2023-07-07',\n",
    "#                 \"expires\":'2024-0706',\n",
    "#             }\n",
    "#         },\n",
    "#         \"context\" : {\n",
    "#             \"summary\":'download national traveller demographic data for HERO',\n",
    "#             \"country\":'canada',\n",
    "#             \"scope\" : 'national',\n",
    "#             \"statistics\":'travel',\n",
    "#         },\n",
    "#         \"realm\":{\n",
    "#             \"module\" : 'traveller\n",
    "#             \"entity\" : 'demography',\n",
    "#             \"package\" :'canada',\n",
    "#             \"function\":'stats',\n",
    "#         },\n",
    "#         \"uri\":[{\n",
    "#             \"urn\" : \"\",\n",
    "#             \"protocol\":'https',\n",
    "#             \"domain\" : '150.stat.can.gc.ca',\n",
    "#             \"port\" : '',\n",
    "#             \"path\" : 't1/tb/en',\n",
    "#             \"query\": {\n",
    "#                 \"expression\":'',\n",
    "#                 \"parameter\" :{\n",
    "#                 }\n",
    "#             },\n",
    "#             \"fragments\":''\n",
    "#         }],\n",
    "#         \"get\":{\n",
    "#             \"method\":'download',\n",
    "#             \"object\":'json'\n",
    "#         } \n",
    "#     }\n",
    "]\n",
    "\n",
    "import json\n",
    "\n",
    "for source in data_feeds:\n",
    "    print(json.dumps(source,indent=2))"
   ]
  },
  {
   "cell_type": "markdown",
   "id": "2a9b2410",
   "metadata": {},
   "source": [
    "## Store data feed in MongoDB"
   ]
  },
  {
   "cell_type": "code",
   "execution_count": 19,
   "id": "74d09d31",
   "metadata": {},
   "outputs": [
    {
     "name": "stdout",
     "output_type": "stream",
     "text": [
      "Total 1 documents, successful insert count = 0 & modify count = 1\n"
     ]
    },
    {
     "data": {
      "text/plain": [
       "[{'database': 'ota_scraper',\n",
       "  'collection': 'airline_booking',\n",
       "  '_id': ObjectId('64de98fecb175a0c5fda76cb')}]"
      ]
     },
     "execution_count": 19,
     "metadata": {},
     "output_type": "execute_result"
    }
   ],
   "source": [
    "kwargs={\"FORCEDB\" : True}\n",
    "# kwargs['FORCEDB']=True\n",
    "stored_feeds = clsFeed.write_feeds_to_nosql(data_feeds, **kwargs)\n",
    "stored_feeds"
   ]
  },
  {
   "cell_type": "code",
   "execution_count": null,
   "id": "5cba81f3",
   "metadata": {},
   "outputs": [],
   "source": []
  }
 ],
 "metadata": {
  "kernelspec": {
   "display_name": "Python 3 (ipykernel)",
   "language": "python",
   "name": "python3"
  },
  "language_info": {
   "codemirror_mode": {
    "name": "ipython",
    "version": 3
   },
   "file_extension": ".py",
   "mimetype": "text/x-python",
   "name": "python",
   "nbconvert_exporter": "python",
   "pygments_lexer": "ipython3",
   "version": "3.8.10"
  }
 },
 "nbformat": 4,
 "nbformat_minor": 5
}
