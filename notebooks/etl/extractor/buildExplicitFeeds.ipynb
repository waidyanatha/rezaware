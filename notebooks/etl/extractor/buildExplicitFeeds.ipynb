{
 "cells": [
  {
   "cell_type": "markdown",
   "id": "6cd14613",
   "metadata": {},
   "source": [
    "# Data Source Feeds Storage (Tester)\n"
   ]
  },
  {
   "cell_type": "code",
   "execution_count": 1,
   "id": "4b3a8347",
   "metadata": {},
   "outputs": [],
   "source": [
    "'''\n",
    "    WARNING CONTROL to display or ignore all warnings\n",
    "'''\n",
    "import warnings; warnings.simplefilter('ignore')     #switch betweeb 'default' and 'ignore'\n",
    "import traceback\n",
    "\n",
    "''' Set debug flag to view extended error messages; else set it to False to turn off debugging mode '''\n",
    "debug = True\n"
   ]
  },
  {
   "cell_type": "code",
   "execution_count": 284,
   "id": "6eb58336",
   "metadata": {},
   "outputs": [
    {
     "name": "stdout",
     "output_type": "stream",
     "text": [
      "All functional FEEDWORKLOADS-libraries in EXTRACTOR-package of ETL-module imported successfully!\n",
      "All functional FEEDWORKLOADS-libraries in EXTRACTOR-package of ETL-module imported successfully!\n",
      "All functional SPARKNOSQLWLS-libraries in LOADER-package of ETL-module imported successfully!\n",
      "sparkNoSQLwls Class initialization complete\n",
      "FeedWorkLoads Class initialization complete\n",
      "sparkNoSQLwls Class initialization complete\n",
      "FeedWorkLoads Class initialization complete\n",
      "FeedWorkLoads Class initialization complete\n",
      "sparkNoSQLwls Class initialization complete\n",
      "\n",
      "read and write files from and to a particular source class initialization and load complete!\n"
     ]
    }
   ],
   "source": [
    "import os\n",
    "import sys\n",
    "\n",
    "proj_dir = os.path.abspath(os.pardir)\n",
    "sys.path.insert(1,proj_dir.split('rezaware/')[0])\n",
    "from rezaware.modules.etl.extractor import dataFeedsDB as fdb\n",
    "from rezaware.modules.etl.extractor import buildExplicitFeeds as build\n",
    "from rezaware.modules.etl.loader import sparkNoSQLwls as nosql\n",
    "\n",
    "''' restart initiate classes '''\n",
    "if debug:\n",
    "    import importlib\n",
    "    fdb = importlib.reload(fdb)\n",
    "    build= importlib.reload(build)\n",
    "    nosql=importlib.reload(nosql)\n",
    "\n",
    "__desc__ = \"read and write files from and to a particular source\"\n",
    "clsFDB = fdb.FeedWorkLoads(desc=__desc__)\n",
    "clsBuildQ = build.FeedWorkLoads(desc=__desc__)\n",
    "clsNoSQL = nosql.NoSQLWorkLoads(desc=__desc__)\n",
    "\n",
    "print(\"\\n%s class initialization and load complete!\" % __desc__)"
   ]
  },
  {
   "cell_type": "code",
   "execution_count": 285,
   "id": "4c17f014",
   "metadata": {},
   "outputs": [
    {
     "data": {
      "text/plain": [
       "[{'feed_id': ObjectId('64de98fecb175a0c5fda76cb'),\n",
       "  'owner': 'kayak.com',\n",
       "  'method': 'scrape',\n",
       "  'object': 'json',\n",
       "  'exec_feed': 'https://skyscanner.com/airlines?London-Colombo/2023-08-18/1adults?a&fs=cfc=1;bfc=1;transportation=transportation_plane#number#page'},\n",
       " {'feed_id': ObjectId('64de98fecb175a0c5fda76cb'),\n",
       "  'owner': 'kayak.com',\n",
       "  'method': 'scrape',\n",
       "  'object': 'json',\n",
       "  'exec_feed': 'https://skyscanner.com/airlines?London-Shanghai/2023-08-18/1adults?a&fs=cfc=1;bfc=1;transportation=transportation_plane#number#page'},\n",
       " {'feed_id': ObjectId('64de98fecb175a0c5fda76cb'),\n",
       "  'owner': 'kayak.com',\n",
       "  'method': 'scrape',\n",
       "  'object': 'json',\n",
       "  'exec_feed': 'https://skyscanner.com/airlines?London-Dubai/2023-08-18/1adults?a&fs=cfc=1;bfc=1;transportation=transportation_plane#number#page'},\n",
       " {'feed_id': ObjectId('64de98fecb175a0c5fda76cb'),\n",
       "  'owner': 'kayak.com',\n",
       "  'method': 'scrape',\n",
       "  'object': 'json',\n",
       "  'exec_feed': 'https://kayak.com/flights?London-Colombo/2023-08-18/1adults?a&fs=cfc=1;bfc=1;transportation=transportation_plane'},\n",
       " {'feed_id': ObjectId('64de98fecb175a0c5fda76cb'),\n",
       "  'owner': 'kayak.com',\n",
       "  'method': 'scrape',\n",
       "  'object': 'json',\n",
       "  'exec_feed': 'https://kayak.com/flights?London-Shanghai/2023-08-18/1adults?a&fs=cfc=1;bfc=1;transportation=transportation_plane'},\n",
       " {'feed_id': ObjectId('64de98fecb175a0c5fda76cb'),\n",
       "  'owner': 'kayak.com',\n",
       "  'method': 'scrape',\n",
       "  'object': 'json',\n",
       "  'exec_feed': 'https://kayak.com/flights?London-Dubai/2023-08-18/1adults?a&fs=cfc=1;bfc=1;transportation=transportation_plane'}]"
      ]
     },
     "execution_count": 285,
     "metadata": {},
     "output_type": "execute_result"
    }
   ],
   "source": [
    "built_query_df = clsBuildQ.build_query_list(\n",
    "    params_list = params_list,\n",
    "    feeds_list = feeds_list\n",
    ")\n",
    "built_query_df"
   ]
  },
  {
   "cell_type": "markdown",
   "id": "b99b0376",
   "metadata": {},
   "source": [
    "## Data Source Dictionary\n",
    "Example data source dictionary with"
   ]
  },
  {
   "cell_type": "code",
   "execution_count": 122,
   "id": "385caac2",
   "metadata": {},
   "outputs": [
    {
     "name": "stdout",
     "output_type": "stream",
     "text": [
      "{\n",
      "  \"context\": {\n",
      "    \"country\": \"Canada\",\n",
      "    \"scope\": \"national\"\n",
      "  },\n",
      "  \"realm\": {\n",
      "    \"module\": \"OTA\",\n",
      "    \"entity\": \"scraper\",\n",
      "    \"package\": \"Airline\",\n",
      "    \"function\": \"Booking\"\n",
      "  }\n",
      "}\n",
      "{\n",
      "  \"context\": {\n",
      "    \"country\": \"USA\",\n",
      "    \"state\": {\n",
      "      \"name\": \"Massachusetts\",\n",
      "      \"code\": \"MA\"\n",
      "    },\n",
      "    \"scope\": \"state\"\n",
      "  },\n",
      "  \"realm\": {\n",
      "    \"module\": \"OTA\",\n",
      "    \"entity\": \"scraper\",\n",
      "    \"package\": \"Property\",\n",
      "    \"function\": \"Booking\"\n",
      "  }\n",
      "}\n"
     ]
    }
   ],
   "source": [
    "search_list = [\n",
    "    {\n",
    "        \"context\": {\n",
    "            \"country\":'Canada',\n",
    "            \"scope\" : 'national',   # describe, identify, and distinguish the data feed\n",
    "            },\n",
    "        \"realm\":{\n",
    "            \"module\" : 'OTA',  # a unique realm name, db name prefix\n",
    "            \"entity\" : 'scraper', # db name second prefix\n",
    "            \"package\" : 'Airline',   # collection prefix\n",
    "            \"function\":'Booking',    # collection postfix\n",
    "        }\n",
    "    },\n",
    "    {\n",
    "        \"context\": {\n",
    "            \"country\":'USA',\n",
    "            \"state\" : {\n",
    "                \"name\" : 'Massachusetts',\n",
    "                \"code\" : 'MA'\n",
    "            },\n",
    "            \"scope\" : 'state',   # describe, identify, and distinguish the data feed\n",
    "            },\n",
    "        \"realm\":{\n",
    "            \"module\" : 'OTA',  # a unique realm name, db name prefix\n",
    "            \"entity\" : 'scraper', # db name second prefix\n",
    "            \"package\" :'Property',   # collection prefix\n",
    "            \"function\":'Booking',    # collection postfix\n",
    "        }\n",
    "    }\n",
    "]\n",
    "\n",
    "import json\n",
    "\n",
    "for search_dict in search_list:\n",
    "    print(json.dumps(search_dict,indent=2))"
   ]
  },
  {
   "cell_type": "markdown",
   "id": "2a9b2410",
   "metadata": {},
   "source": [
    "## Select feeds from MongoDB"
   ]
  },
  {
   "cell_type": "code",
   "execution_count": 130,
   "id": "74d09d31",
   "metadata": {},
   "outputs": [
    {
     "name": "stdout",
     "output_type": "stream",
     "text": [
      "[Error]sparkNoSQLwls function <read_documents> mongodb database: ota_scraper has no collections\n",
      "[Error]sparkNoSQLwls function <wrapper_converter> 'NoneType' object is not iterable\n"
     ]
    },
    {
     "data": {
      "text/plain": [
       "[{'_id': ObjectId('64de96f6cb175a0c5fda76c8'),\n",
       "  'source': {'owner': 'kayak.com',\n",
       "   'dates': {'activated': '2023-07-07', 'expires': '2024-07-06'}},\n",
       "  'context': {'summary': 'scraping kayak.com airline booking data for HERO',\n",
       "   'country': 'canada',\n",
       "   'scope': 'national'},\n",
       "  'realm': {'module': 'OTA',\n",
       "   'entity': 'scraper',\n",
       "   'package': 'Airline',\n",
       "   'function': 'Booking'},\n",
       "  'uri': [{'urn': '',\n",
       "    'protocol': 'https',\n",
       "    'domain': 'skyscanner.com',\n",
       "    'port': '',\n",
       "    'path': 'airlines',\n",
       "    'query': {'expression': '{arrivalPort}-{departurePort}/{flightDate}/1adults?a&fs=cfc=1;bfc=1;transportation=transportation_plane',\n",
       "     'parameter': {'arrivalPort': 'string',\n",
       "      'departurePort': 'string',\n",
       "      'flightDate': 'date'}},\n",
       "    'fragments': ['number', 'page']},\n",
       "   {'urn': '',\n",
       "    'protocol': 'https',\n",
       "    'domain': 'kayak.com',\n",
       "    'port': '',\n",
       "    'path': 'flights',\n",
       "    'query': {'expression': '{destination}-{origin}/{flightDate}/1adults?a&fs=cfc=1;bfc=1;transportation=transportation_plane',\n",
       "     'parameter': {'destination': 'string',\n",
       "      'origin': 'string',\n",
       "      'flightDate': 'date'}},\n",
       "    'fragments': []}],\n",
       "  'get': {'method': 'scrape', 'object': 'json'}},\n",
       " {'_id': ObjectId('64de98fecb175a0c5fda76cb'),\n",
       "  'source': {'owner': 'kayak.com',\n",
       "   'dates': {'activated': '2023-07-07', 'expires': '2024-07-06'}},\n",
       "  'context': {'summary': 'scraping kayak.com airline booking data for HERO',\n",
       "   'country': 'canada',\n",
       "   'scope': 'national'},\n",
       "  'realm': {'module': 'OTA',\n",
       "   'entity': 'scraper',\n",
       "   'package': 'Airline',\n",
       "   'function': 'Booking'},\n",
       "  'uri': [{'urn': '',\n",
       "    'protocol': 'https',\n",
       "    'domain': 'skyscanner.com',\n",
       "    'port': '',\n",
       "    'path': 'airlines',\n",
       "    'query': {'expression': '{arrivalPort}-{departurePort}/{flightDate}/1adults?a&fs=cfc=1;bfc=1;transportation=transportation_plane',\n",
       "     'parameter': {'arrivalPort': 'string',\n",
       "      'departurePort': 'string',\n",
       "      'flightDate': 'date'}},\n",
       "    'fragments': ['number', 'page']},\n",
       "   {'urn': '',\n",
       "    'protocol': 'https',\n",
       "    'domain': 'kayak.com',\n",
       "    'port': '',\n",
       "    'path': 'flights',\n",
       "    'query': {'expression': '{arrivalPort}-{departurePort}/{flightDate}/1adults?a&fs=cfc=1;bfc=1;transportation=transportation_plane',\n",
       "     'parameter': {'arrivalPort': 'string',\n",
       "      'departurePort': 'string',\n",
       "      'flightDate': 'date'}},\n",
       "    'fragments': []}],\n",
       "  'get': {'method': 'scrape', 'object': 'json'}}]"
      ]
     },
     "execution_count": 130,
     "metadata": {},
     "output_type": "execute_result"
    }
   ],
   "source": [
    "kwargs={}\n",
    "# kwargs['FORCEDB']=True\n",
    "feeds_list = clsFDB.read_feeds_to_list(\n",
    "    search_with_list=search_list,\n",
    "    **kwargs)\n",
    "feeds_list"
   ]
  },
  {
   "cell_type": "markdown",
   "id": "461f3e96",
   "metadata": {},
   "source": [
    "## Parameterize Feeds"
   ]
  },
  {
   "cell_type": "code",
   "execution_count": 129,
   "id": "126f6b63",
   "metadata": {},
   "outputs": [
    {
     "name": "stdout",
     "output_type": "stream",
     "text": [
      "{\n",
      "  \"_id\": \"64de98fecb175a0c5fda76cb\",\n",
      "  \"parameter\": {\n",
      "    \"arrivalPort\": \"London\",\n",
      "    \"departurePort\": \"Colombo\",\n",
      "    \"flightDate\": \"2023-08-18\"\n",
      "  }\n",
      "}\n",
      "{\n",
      "  \"_id\": \"64de98fecb175a0c5fda76cb\",\n",
      "  \"parameter\": {\n",
      "    \"arrivalPort\": \"London\",\n",
      "    \"departurePort\": \"Shanghai\",\n",
      "    \"flightDate\": \"2023-08-18\"\n",
      "  }\n",
      "}\n",
      "{\n",
      "  \"_id\": \"64de98fecb175a0c5fda76cb\",\n",
      "  \"parameter\": {\n",
      "    \"arrivalPort\": \"London\",\n",
      "    \"departurePort\": \"Dubai\",\n",
      "    \"flightDate\": \"2023-08-18\"\n",
      "  }\n",
      "}\n"
     ]
    }
   ],
   "source": [
    "import json\n",
    "\n",
    "params_list = [\n",
    "    {\n",
    "        '_id': '64de98fecb175a0c5fda76cb',\n",
    "        \"parameter\" : {\n",
    "            \"arrivalPort\" : 'London',\n",
    "            \"departurePort\":'Colombo',\n",
    "            \"flightDate\" : '2023-08-18'\n",
    "        }\n",
    "    },\n",
    "    {\n",
    "        '_id': '64de98fecb175a0c5fda76cb',\n",
    "        \"parameter\" : {\n",
    "            \"arrivalPort\" : 'London',\n",
    "            \"departurePort\":'Shanghai',\n",
    "            \"flightDate\" : '2023-08-18'\n",
    "        }\n",
    "    },\n",
    "    {\n",
    "        '_id': '64de98fecb175a0c5fda76cb',\n",
    "        \"parameter\" : {\n",
    "            \"arrivalPort\" : 'London',\n",
    "            \"departurePort\":'Dubai',\n",
    "            \"flightDate\" : '2023-08-18'\n",
    "        }\n",
    "    },\n",
    "]\n",
    "\n",
    "for param_dict in params_list:\n",
    "    print(json.dumps(param_dict,indent=2))"
   ]
  },
  {
   "cell_type": "code",
   "execution_count": null,
   "id": "8238f452",
   "metadata": {},
   "outputs": [],
   "source": [
    "err_txt += \" \".format(list(set([x['_id'] for x in params_list])))\n",
    "print()"
   ]
  }
 ],
 "metadata": {
  "kernelspec": {
   "display_name": "Python 3 (ipykernel)",
   "language": "python",
   "name": "python3"
  },
  "language_info": {
   "codemirror_mode": {
    "name": "ipython",
    "version": 3
   },
   "file_extension": ".py",
   "mimetype": "text/x-python",
   "name": "python",
   "nbconvert_exporter": "python",
   "pygments_lexer": "ipython3",
   "version": "3.8.10"
  }
 },
 "nbformat": 4,
 "nbformat_minor": 5
}
