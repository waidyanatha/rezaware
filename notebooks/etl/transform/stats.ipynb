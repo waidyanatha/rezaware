{
 "cells": [
  {
   "cell_type": "markdown",
   "id": "61fc0287",
   "metadata": {},
   "source": [
    "# Statistical Characteristics\n",
    "\n",
    "[Methods for describing a set of data](https://bookdown.org/thomas_pernet/Tuto/methods-for-describing-a-set-of-data.html)"
   ]
  },
  {
   "cell_type": "code",
   "execution_count": 1,
   "id": "1d55b8c8",
   "metadata": {},
   "outputs": [],
   "source": [
    "'''\n",
    "    WARNING CONTROL to display or ignore all warnings\n",
    "'''\n",
    "import warnings; warnings.simplefilter('default')     #switch betweeb 'default' and 'ignore'\n",
    "\n",
    "''' Set debug flag to view extended error messages; else set it to False to turn off debugging mode '''\n",
    "debug = True"
   ]
  },
  {
   "cell_type": "code",
   "execution_count": 2,
   "id": "e1252b4f",
   "metadata": {},
   "outputs": [
    {
     "name": "stdout",
     "output_type": "stream",
     "text": [
      "read data from ../data/activity_summary_by_procedure.csv\n",
      "   Unnamed: 0  Procedure   Charges  Payments  Adjustments  Units  Net Effect  \\\n",
      "0         NaN      90621   6844.45  -2603.29     -2055.93    182     2185.23   \n",
      "1         NaN      90633   3192.29  -1073.18      -628.35    451     1490.76   \n",
      "2         NaN      90648     40.07      0.00        -0.06      8       40.01   \n",
      "3         NaN      90651  29131.58 -11270.92     -1979.75    498    15880.91   \n",
      "4         NaN      90670  29305.09  -9001.35     -4884.57    738    15419.17   \n",
      "\n",
      "   % of Net Effect  \n",
      "0           0.0337  \n",
      "1           0.0230  \n",
      "2           0.0006  \n",
      "3           0.2447  \n",
      "4           0.2376  \n"
     ]
    }
   ],
   "source": [
    "''' Load data '''\n",
    "import pandas as pd\n",
    "\n",
    "file_dir = \"../data/\"\n",
    "file_name= \"activity_summary_by_procedure.csv\"\n",
    "file_path=file_dir+file_name\n",
    "first_row_header = True\n",
    "\n",
    "print(\"read data from %s\" %file_path)\n",
    "data_df = pd.read_csv(file_path)\n",
    "print(data_df.head(5))"
   ]
  },
  {
   "cell_type": "markdown",
   "id": "76643f2f",
   "metadata": {},
   "source": [
    "## Statistics of Numerical columns\n",
    "\n",
    "### import wrangler data stats package\n",
    "Actvivate and inherit the wrangler/DataStatistics package\n",
    "\n",
    "__TODO__ enhance wrangler as a package to include all classes as subclasses\n",
    "Then be able to\n",
    "\n",
    "```from wrangler import stats as ds```"
   ]
  },
  {
   "cell_type": "code",
   "execution_count": 3,
   "id": "8b6c897d",
   "metadata": {},
   "outputs": [
    {
     "name": "stdout",
     "output_type": "stream",
     "text": [
      "['__class__', '__delattr__', '__dict__', '__dir__', '__doc__', '__eq__', '__format__', '__ge__', '__getattribute__', '__gt__', '__hash__', '__init__', '__init_subclass__', '__le__', '__lt__', '__module__', '__ne__', '__new__', '__reduce__', '__reduce_ex__', '__repr__', '__setattr__', '__sizeof__', '__str__', '__subclasshook__', '__weakref__', '_dist_types', '_distributions', '_dup_method', '_l_dup_methods', 'count_duplicates', 'count_nulls', 'fit_distributions', 'get_central_tendency', 'get_data_types', 'name', 'test_uniformity']\n"
     ]
    }
   ],
   "source": [
    "import sys\n",
    "sys.path.insert(1, '../wrangler')\n",
    "import stats as ds\n",
    "import json\n",
    "\n",
    "#import importlib\n",
    "\n",
    "if debug:\n",
    "    import importlib\n",
    "    ds = importlib.reload(ds)\n",
    "\n",
    "data_name = \"activity_summary_by_procedure\"\n",
    "cls_stats = ds.DataStatistics(name=data_name)\n",
    "print(dir(cls_stats))"
   ]
  },
  {
   "cell_type": "markdown",
   "id": "96ac25cd",
   "metadata": {},
   "source": [
    "### Data Types\n",
    "Returns all the variables and their data types"
   ]
  },
  {
   "cell_type": "code",
   "execution_count": 9,
   "id": "55a95bc0",
   "metadata": {},
   "outputs": [
    {
     "name": "stdout",
     "output_type": "stream",
     "text": [
      "{\n",
      "    \"Data Types\": {\n",
      "        \"Unnamed: 0\": \"float64\",\n",
      "        \"Procedure\": \"int64\",\n",
      "        \"Charges\": \"float64\",\n",
      "        \"Payments\": \"float64\",\n",
      "        \"Adjustments\": \"float64\",\n",
      "        \"Units\": \"int64\",\n",
      "        \"Net Effect\": \"float64\",\n",
      "        \"% of Net Effect\": \"float64\"\n",
      "    }\n",
      "}\n"
     ]
    }
   ],
   "source": [
    "stat_dict = {}\n",
    "stat_dict = cls_stats.get_data_types(data_df)\n",
    "print(json.dumps(stat_dict,sort_keys=False, indent=4))"
   ]
  },
  {
   "cell_type": "markdown",
   "id": "16925c5d",
   "metadata": {},
   "source": [
    "### Count Nulls\n",
    "Returns the number of Nulls (NaN) values for each Column\n"
   ]
  },
  {
   "cell_type": "code",
   "execution_count": 4,
   "id": "9bba21dd",
   "metadata": {},
   "outputs": [
    {
     "name": "stdout",
     "output_type": "stream",
     "text": [
      "{\n",
      "    \"NaN Counts\": {\n",
      "        \"Unnamed: 0\": 18,\n",
      "        \"Procedure\": 0,\n",
      "        \"Charges\": 0,\n",
      "        \"Payments\": 0,\n",
      "        \"Adjustments\": 0,\n",
      "        \"Units\": 0,\n",
      "        \"Net Effect\": 0,\n",
      "        \"% of Net Effect\": 0\n",
      "    }\n",
      "}\n"
     ]
    }
   ],
   "source": [
    "stat_dict = {}\n",
    "stat_dict = cls_stats.count_nulls(data_df)\n",
    "print(json.dumps(stat_dict,sort_keys=False, indent=4))"
   ]
  },
  {
   "cell_type": "markdown",
   "id": "0222ea40",
   "metadata": {},
   "source": [
    "### Count Duplicate rows/columns\n",
    "Returns the number of empty rows and columns. Empty rows or columns imply all values in the row or column are Null."
   ]
  },
  {
   "cell_type": "code",
   "execution_count": 5,
   "id": "b0bd209e",
   "metadata": {},
   "outputs": [
    {
     "name": "stdout",
     "output_type": "stream",
     "text": [
      "rows\n",
      "columns\n",
      "{\n",
      "    \"Number of Duplicate Rows\": 0,\n",
      "    \"Number of Duplicate columns\": 0\n",
      "}\n"
     ]
    }
   ],
   "source": [
    "stat_dict = {}\n",
    "_l_meth = [\"rows\",\"columns\"]\n",
    "stat_dict = cls_stats.count_duplicates(data_df,_l_meth)\n",
    "print(json.dumps(stat_dict,sort_keys=False, indent=4))"
   ]
  },
  {
   "cell_type": "markdown",
   "id": "17baa991",
   "metadata": {},
   "source": [
    "### Central Tendency\n",
    "Returns the mean, standard deviation, mode, and median for all numeric"
   ]
  },
  {
   "cell_type": "code",
   "execution_count": 6,
   "id": "61dd88f7",
   "metadata": {
    "scrolled": true
   },
   "outputs": [
    {
     "name": "stdout",
     "output_type": "stream",
     "text": [
      "{\n",
      "    \"Mode\": {\n",
      "        \"Unnamed: 0\": \"Unnamed: 0\",\n",
      "        \"Procedure\": \"Procedure\",\n",
      "        \"Charges\": \"Charges\",\n",
      "        \"Payments\": \"Payments\",\n",
      "        \"Adjustments\": \"Adjustments\",\n",
      "        \"Units\": \"Units\",\n",
      "        \"Net Effect\": \"Net Effect\",\n",
      "        \"% of Net Effect\": \"% of Net Effect\"\n",
      "    },\n",
      "    \"Median\": {\n",
      "        \"Unnamed: 0\": \"Unnamed: 0\",\n",
      "        \"Procedure\": \"Procedure\",\n",
      "        \"Charges\": \"Charges\",\n",
      "        \"Payments\": \"Payments\",\n",
      "        \"Adjustments\": \"Adjustments\",\n",
      "        \"Units\": \"Units\",\n",
      "        \"Net Effect\": \"Net Effect\",\n",
      "        \"% of Net Effect\": \"% of Net Effect\"\n",
      "    },\n",
      "    \"Mean\": {\n",
      "        \"Unnamed: 0\": NaN,\n",
      "        \"Procedure\": 90689.2778,\n",
      "        \"Charges\": 7101.5317,\n",
      "        \"Payments\": -2564.7417,\n",
      "        \"Adjustments\": -931.5139,\n",
      "        \"Units\": 306.2222,\n",
      "        \"Net Effect\": 3605.2761,\n",
      "        \"% of Net Effect\": 0.0556\n",
      "    },\n",
      "    \"Variance\": {\n",
      "        \"Unnamed: 0\": NaN,\n",
      "        \"Procedure\": 1141.0359,\n",
      "        \"Charges\": 82828197.7285,\n",
      "        \"Payments\": 10909088.2284,\n",
      "        \"Adjustments\": 1479846.5048,\n",
      "        \"Units\": 57548.3007,\n",
      "        \"Net Effect\": 23687858.358,\n",
      "        \"% of Net Effect\": 0.0056\n",
      "    },\n",
      "    \"Standard Deviation\": {\n",
      "        \"Unnamed: 0\": NaN,\n",
      "        \"Procedure\": 33.7792,\n",
      "        \"Charges\": 9100.9998,\n",
      "        \"Payments\": 3302.8909,\n",
      "        \"Adjustments\": 1216.4894,\n",
      "        \"Units\": 239.8923,\n",
      "        \"Net Effect\": 4867.0174,\n",
      "        \"% of Net Effect\": 0.075\n",
      "    }\n",
      "}\n"
     ]
    }
   ],
   "source": [
    "stat_dict = {}\n",
    "stat_dict = cls_stats.get_central_tendency(data_df)\n",
    "print(json.dumps(stat_dict,sort_keys=False, indent=4))"
   ]
  },
  {
   "cell_type": "markdown",
   "id": "08fc0c03",
   "metadata": {},
   "source": [
    "### Uniformity test\n",
    "Returns the KT test outputs\n",
    "\n",
    "__TODO__ define wat thep-value explains"
   ]
  },
  {
   "cell_type": "code",
   "execution_count": 7,
   "id": "7d11ef57",
   "metadata": {},
   "outputs": [
    {
     "name": "stdout",
     "output_type": "stream",
     "text": [
      "{\n",
      "    \"KS Test Statistic\": {\n",
      "        \"Unnamed: 0\": NaN,\n",
      "        \"Procedure\": 1.0,\n",
      "        \"Charges\": 1.0,\n",
      "        \"Payments\": 0.8889,\n",
      "        \"Adjustments\": 0.7778,\n",
      "        \"Units\": 1.0,\n",
      "        \"Net Effect\": 0.9444,\n",
      "        \"% of Net Effect\": 0.5\n",
      "    },\n",
      "    \"KS Test P-value\": {\n",
      "        \"Unnamed: 0\": NaN,\n",
      "        \"Procedure\": 0.0,\n",
      "        \"Charges\": 0.0,\n",
      "        \"Payments\": 0.0,\n",
      "        \"Adjustments\": 0.0,\n",
      "        \"Units\": 0.0,\n",
      "        \"Net Effect\": 0.0,\n",
      "        \"% of Net Effect\": 0.0001\n",
      "    }\n",
      "}\n"
     ]
    }
   ],
   "source": [
    "stat_dict = {}\n",
    "stat_dict = cls_stats.test_uniformity(data_df)\n",
    "print(json.dumps(stat_dict,sort_keys=False, indent=4))"
   ]
  },
  {
   "cell_type": "markdown",
   "id": "05fc7b08",
   "metadata": {},
   "source": [
    "### Distributions\n",
    "Returns the set of goodness of fit indicators for the a set, popular, or all distributions"
   ]
  },
  {
   "cell_type": "code",
   "execution_count": 8,
   "id": "623fe6b6",
   "metadata": {},
   "outputs": [],
   "source": [
    "%%capture\n",
    "import pandas as pd\n",
    "\n",
    "stat_summary_df = pd.DataFrame([])\n",
    "stat_summary_df = cls_stats.fit_distributions(data_df,[\"popular\"])"
   ]
  },
  {
   "cell_type": "code",
   "execution_count": 9,
   "id": "a9d6d1df",
   "metadata": {},
   "outputs": [
    {
     "name": "stdout",
     "output_type": "stream",
     "text": [
      "        distr     score  LLE           loc      scale                    arg  \\\n",
      "0    loggamma  0.007536  NaN  90678.882567  38.671839  (1.7782079782725533,)   \n",
      "1  genextreme  0.007596  NaN  90681.305437  35.580005  (0.5034800886975362,)   \n",
      "2    dweibull  0.007635  NaN  90690.812034  29.148464  (1.3874385606091502,)   \n",
      "3           t  0.007791  NaN  90688.654684  37.015153   (602558314.3380122,)   \n",
      "4        norm  0.007803  NaN  90689.277778  32.827505                     ()   \n",
      "\n",
      "  column name  \n",
      "0   Procedure  \n",
      "1   Procedure  \n",
      "2   Procedure  \n",
      "3   Procedure  \n",
      "4   Procedure  \n"
     ]
    }
   ],
   "source": [
    "print(stat_summary_df.head(5))"
   ]
  },
  {
   "cell_type": "code",
   "execution_count": null,
   "id": "64ed941d",
   "metadata": {},
   "outputs": [],
   "source": []
  }
 ],
 "metadata": {
  "kernelspec": {
   "display_name": "Python 3 (ipykernel)",
   "language": "python",
   "name": "python3"
  },
  "language_info": {
   "codemirror_mode": {
    "name": "ipython",
    "version": 3
   },
   "file_extension": ".py",
   "mimetype": "text/x-python",
   "name": "python",
   "nbconvert_exporter": "python",
   "pygments_lexer": "ipython3",
   "version": "3.8.10"
  }
 },
 "nbformat": 4,
 "nbformat_minor": 5
}
