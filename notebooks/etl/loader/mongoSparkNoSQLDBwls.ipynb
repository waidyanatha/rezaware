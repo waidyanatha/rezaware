{
 "cells": [
  {
   "cell_type": "markdown",
   "id": "9e1a19de",
   "metadata": {},
   "source": [
    "# Spark NoSQL Database Workloads\n",
    "Tested only with __postgresql__"
   ]
  },
  {
   "cell_type": "code",
   "execution_count": 1,
   "id": "ea2801e6",
   "metadata": {},
   "outputs": [],
   "source": [
    "'''\n",
    "    WARNING CONTROL to display or ignore all warnings\n",
    "'''\n",
    "import warnings; warnings.simplefilter('ignore')     #switch betweeb 'default' and 'ignore'\n",
    "import traceback\n",
    "\n",
    "''' Set debug flag to view extended error messages; else set it to False to turn off debugging mode '''\n",
    "debug = True\n"
   ]
  },
  {
   "cell_type": "markdown",
   "id": "fa3bda64",
   "metadata": {},
   "source": [
    "## Instantiate Classes"
   ]
  },
  {
   "cell_type": "code",
   "execution_count": 15,
   "id": "93e9a568",
   "metadata": {},
   "outputs": [
    {
     "name": "stdout",
     "output_type": "stream",
     "text": [
      "All functional SPARKNOSQL-libraries in LOADER-package of ETL-module imported successfully!\n",
      "All functional PROPATTR-libraries in LOADER-package of ETL-module imported successfully!\n",
      "propAttr Class initialization complete\n",
      "propAttr Class initialization complete\n",
      "\n",
      "read and write documents from and to nosql database class initialization and load complete!\n"
     ]
    }
   ],
   "source": [
    "import os\n",
    "import sys\n",
    "\n",
    "proj_dir = os.path.abspath(os.pardir)\n",
    "sys.path.insert(1,proj_dir.split('rezaware/')[0])\n",
    "from rezaware.modules.etl.loader import sparkNoSQL as db\n",
    "from rezaware.modules.etl.loader import propAttr as attr\n",
    "\n",
    "''' restart initiate classes '''\n",
    "if debug:\n",
    "    import importlib\n",
    "    db = importlib.reload(db)\n",
    "    attr = importlib.reload(attr)\n",
    "\n",
    "__desc__ = \"read and write documents from and to nosql database\"\n",
    "clsNoSQL = db.dataWorkLoads(\n",
    "    desc=__desc__,\n",
    "    db_type = 'mongodb',\n",
    "    db_driver=None,\n",
    "    db_hostIP=None,\n",
    "    db_port = None,\n",
    "    db_name = \"tip-top-daily-assets\",\n",
    "    db_user = None,\n",
    "    db_pswd = None,\n",
    "    db_auth_source = \"tip-top-daily-assets\",\n",
    "    db_auth_mechanism=None,\n",
    ")\n",
    "print(\"\\n%s class initialization and load complete!\" % __desc__)"
   ]
  },
  {
   "cell_type": "markdown",
   "id": "805413c8",
   "metadata": {},
   "source": [
    "## Load data from DB using SQL query"
   ]
  },
  {
   "cell_type": "code",
   "execution_count": 26,
   "id": "b5060ddd",
   "metadata": {},
   "outputs": [
    {
     "data": {
      "text/plain": [
       "[{'_id': ObjectId('6676667e01c029b1493a9dcb'),\n",
       "  'mcap.db.fk': 463103,\n",
       "  'uuid': '65427b27810f8dddb9b2ad47',\n",
       "  'asset.name': 'bitcoin',\n",
       "  'asset.mcap.date': datetime.datetime(2022, 5, 1, 0, 0),\n",
       "  'asset.mcap.value': 719611115951.295,\n",
       "  'asset.price.date': datetime.datetime(2022, 5, 1, 0, 0),\n",
       "  'asset.price.value': 37820.6117652921,\n",
       "  'index.cov': 0.00011500720456650246,\n",
       "  'audit.mod.by': 'NUWAN',\n",
       "  'audit.mod.dt': '2024-06-22T13:51:57',\n",
       "  'audit.mod.proc': 'propAttr-propAttr function <write_asset_picks_to_db>'},\n",
       " {'_id': ObjectId('6676667e01c029b1493a9dcc'),\n",
       "  'mcap.db.fk': 567865,\n",
       "  'uuid': '65428fac810f8dddb9b37adc',\n",
       "  'asset.name': 'leo_token',\n",
       "  'asset.mcap.date': datetime.datetime(2022, 5, 1, 0, 0),\n",
       "  'asset.mcap.value': 5313723931.31921,\n",
       "  'asset.price.date': datetime.datetime(2022, 5, 1, 0, 0),\n",
       "  'asset.price.value': 5.68832875327235,\n",
       "  'index.cov': -0.00012208932716995075,\n",
       "  'audit.mod.by': 'NUWAN',\n",
       "  'audit.mod.dt': '2024-06-22T13:51:57',\n",
       "  'audit.mod.proc': 'propAttr-propAttr function <write_asset_picks_to_db>'},\n",
       " {'_id': ObjectId('6676667e01c029b1493a9dcd'),\n",
       "  'mcap.db.fk': 533664,\n",
       "  'uuid': '65428b18810f8dddb9b34e6e',\n",
       "  'asset.name': 'huobi',\n",
       "  'asset.mcap.date': datetime.datetime(2022, 5, 1, 0, 0),\n",
       "  'asset.mcap.value': 1435693901.51018,\n",
       "  'asset.price.date': datetime.datetime(2022, 5, 1, 0, 0),\n",
       "  'asset.price.value': 9.26301878559705,\n",
       "  'index.cov': 9.306180267857143e-05,\n",
       "  'audit.mod.by': 'NUWAN',\n",
       "  'audit.mod.dt': '2024-06-22T13:51:57',\n",
       "  'audit.mod.proc': 'propAttr-propAttr function <write_asset_picks_to_db>'},\n",
       " {'_id': ObjectId('6676667e01c029b1493a9dce'),\n",
       "  'mcap.db.fk': 514837,\n",
       "  'uuid': '65427e04810f8dddb9b2c6cb',\n",
       "  'asset.name': 'cdai',\n",
       "  'asset.mcap.date': datetime.datetime(2022, 5, 1, 0, 0),\n",
       "  'asset.mcap.value': 1347323045.11243,\n",
       "  'asset.price.date': datetime.datetime(2022, 5, 1, 0, 0),\n",
       "  'asset.price.value': 0.0220184853347285,\n",
       "  'index.cov': -8.300889100985238e-07,\n",
       "  'audit.mod.by': 'NUWAN',\n",
       "  'audit.mod.dt': '2024-06-22T13:51:57',\n",
       "  'audit.mod.proc': 'propAttr-propAttr function <write_asset_picks_to_db>'},\n",
       " {'_id': ObjectId('6676667e01c029b1493a9dcf'),\n",
       "  'mcap.db.fk': 528438,\n",
       "  'uuid': '654296ae810f8dddb9b3bfc5',\n",
       "  'asset.name': 'nexo',\n",
       "  'asset.mcap.date': datetime.datetime(2022, 5, 1, 0, 0),\n",
       "  'asset.mcap.value': 1319032076.57099,\n",
       "  'asset.price.date': datetime.datetime(2022, 5, 1, 0, 0),\n",
       "  'asset.price.value': 2.33741906499846,\n",
       "  'index.cov': -1.5900398539408808e-05,\n",
       "  'audit.mod.by': 'NUWAN',\n",
       "  'audit.mod.dt': '2024-06-22T13:51:57',\n",
       "  'audit.mod.proc': 'propAttr-propAttr function <write_asset_picks_to_db>'},\n",
       " {'_id': ObjectId('6676667e01c029b1493a9dd0'),\n",
       "  'mcap.db.fk': 581102,\n",
       "  'uuid': '65429e9d810f8dddb9b41236',\n",
       "  'asset.name': 'quant',\n",
       "  'asset.mcap.date': datetime.datetime(2022, 5, 1, 0, 0),\n",
       "  'asset.mcap.value': 1250976345.10371,\n",
       "  'asset.price.date': datetime.datetime(2022, 5, 1, 0, 0),\n",
       "  'asset.price.value': 93.314074968178,\n",
       "  'index.cov': -0.00022991691070073895,\n",
       "  'audit.mod.by': 'NUWAN',\n",
       "  'audit.mod.dt': '2024-06-22T13:51:57',\n",
       "  'audit.mod.proc': 'propAttr-propAttr function <write_asset_picks_to_db>'},\n",
       " {'_id': ObjectId('6676667e01c029b1493a9dd1'),\n",
       "  'mcap.db.fk': 560494,\n",
       "  'uuid': '65428821810f8dddb9b32d59',\n",
       "  'asset.name': 'gate',\n",
       "  'asset.mcap.date': datetime.datetime(2022, 5, 1, 0, 0),\n",
       "  'asset.mcap.value': 959702086.720121,\n",
       "  'asset.price.date': datetime.datetime(2022, 5, 1, 0, 0),\n",
       "  'asset.price.value': 6.33077839741776,\n",
       "  'index.cov': -0.00014408909387561575,\n",
       "  'audit.mod.by': 'NUWAN',\n",
       "  'audit.mod.dt': '2024-06-22T13:51:57',\n",
       "  'audit.mod.proc': 'propAttr-propAttr function <write_asset_picks_to_db>'},\n",
       " {'_id': ObjectId('6676667e01c029b1493a9dd2'),\n",
       "  'mcap.db.fk': 469804,\n",
       "  'uuid': '65429638810f8dddb9b3bc19',\n",
       "  'asset.name': 'nem',\n",
       "  'asset.mcap.date': datetime.datetime(2022, 5, 1, 0, 0),\n",
       "  'asset.mcap.value': 801763957.861384,\n",
       "  'asset.price.date': datetime.datetime(2022, 5, 1, 0, 0),\n",
       "  'asset.price.value': 0.0893125119378922,\n",
       "  'index.cov': -0.00021621999264655173,\n",
       "  'audit.mod.by': 'NUWAN',\n",
       "  'audit.mod.dt': '2024-06-22T13:51:57',\n",
       "  'audit.mod.proc': 'propAttr-propAttr function <write_asset_picks_to_db>'},\n",
       " {'_id': ObjectId('6676667e01c029b1493a9dd3'),\n",
       "  'mcap.db.fk': 481510,\n",
       "  'uuid': '6542749c810f8dddb9b276f3',\n",
       "  'asset.name': '0x',\n",
       "  'asset.mcap.date': datetime.datetime(2022, 5, 1, 0, 0),\n",
       "  'asset.mcap.value': 649609019.232226,\n",
       "  'asset.price.date': datetime.datetime(2022, 5, 1, 0, 0),\n",
       "  'asset.price.value': 0.766188868809396,\n",
       "  'index.cov': -0.00042631926010591135,\n",
       "  'audit.mod.by': 'NUWAN',\n",
       "  'audit.mod.dt': '2024-06-22T13:51:57',\n",
       "  'audit.mod.proc': 'propAttr-propAttr function <write_asset_picks_to_db>'},\n",
       " {'_id': ObjectId('6676667e01c029b1493a9dd4'),\n",
       "  'mcap.db.fk': 516760,\n",
       "  'uuid': '6542859b810f8dddb9b311f5',\n",
       "  'asset.name': 'ethereum_name_service',\n",
       "  'asset.mcap.date': datetime.datetime(2022, 5, 1, 0, 0),\n",
       "  'asset.mcap.value': 486945851.626134,\n",
       "  'asset.price.date': datetime.datetime(2022, 5, 1, 0, 0),\n",
       "  'asset.price.value': 20.7350338612475,\n",
       "  'index.cov': 4.880164419950754e-06,\n",
       "  'audit.mod.by': 'NUWAN',\n",
       "  'audit.mod.dt': '2024-06-22T13:51:57',\n",
       "  'audit.mod.proc': 'propAttr-propAttr function <write_asset_picks_to_db>'},\n",
       " {'_id': ObjectId('6676667e01c029b1493a9dd5'),\n",
       "  'mcap.db.fk': 519738,\n",
       "  'uuid': '6542ab99810f8dddb9b49475',\n",
       "  'asset.name': 'uma',\n",
       "  'asset.mcap.date': datetime.datetime(2022, 5, 1, 0, 0),\n",
       "  'asset.mcap.value': 354608993.708965,\n",
       "  'asset.price.date': datetime.datetime(2022, 5, 1, 0, 0),\n",
       "  'asset.price.value': 5.37392468812196,\n",
       "  'index.cov': -0.00018489658102586207,\n",
       "  'audit.mod.by': 'NUWAN',\n",
       "  'audit.mod.dt': '2024-06-22T13:51:57',\n",
       "  'audit.mod.proc': 'propAttr-propAttr function <write_asset_picks_to_db>'},\n",
       " {'_id': ObjectId('6676667e01c029b1493a9dd6'),\n",
       "  'mcap.db.fk': 482841,\n",
       "  'uuid': '65429bfe810f8dddb9b3f763',\n",
       "  'asset.name': 'plex',\n",
       "  'asset.mcap.date': datetime.datetime(2022, 5, 1, 0, 0),\n",
       "  'asset.mcap.value': 343437042.658117,\n",
       "  'asset.price.date': datetime.datetime(2022, 5, 1, 0, 0),\n",
       "  'asset.price.value': 1.3497782446744,\n",
       "  'index.cov': -0.0005059492589125615,\n",
       "  'audit.mod.by': 'NUWAN',\n",
       "  'audit.mod.dt': '2024-06-22T13:51:57',\n",
       "  'audit.mod.proc': 'propAttr-propAttr function <write_asset_picks_to_db>'},\n",
       " {'_id': ObjectId('6676667e01c029b1493a9dd7'),\n",
       "  'mcap.db.fk': 549076,\n",
       "  'uuid': '65429205810f8dddb9b391d9',\n",
       "  'asset.name': 'maple',\n",
       "  'asset.mcap.date': datetime.datetime(2022, 5, 1, 0, 0),\n",
       "  'asset.mcap.value': 298304576.890604,\n",
       "  'asset.price.date': datetime.datetime(2022, 5, 1, 0, 0),\n",
       "  'asset.price.value': 53.4065972087565,\n",
       "  'index.cov': 0.0003662853704532019,\n",
       "  'audit.mod.by': 'NUWAN',\n",
       "  'audit.mod.dt': '2024-06-22T13:51:57',\n",
       "  'audit.mod.proc': 'propAttr-propAttr function <write_asset_picks_to_db>'},\n",
       " {'_id': ObjectId('6676667e01c029b1493a9dd8'),\n",
       "  'mcap.db.fk': 592766,\n",
       "  'uuid': '654286c5810f8dddb9b31e50',\n",
       "  'asset.name': 'flex_coin',\n",
       "  'asset.mcap.date': datetime.datetime(2022, 5, 1, 0, 0),\n",
       "  'asset.mcap.value': 294825852.062751,\n",
       "  'asset.price.date': datetime.datetime(2022, 5, 1, 0, 0),\n",
       "  'asset.price.value': 3.7460631766352,\n",
       "  'index.cov': 5.879511863793104e-05,\n",
       "  'audit.mod.by': 'NUWAN',\n",
       "  'audit.mod.dt': '2024-06-22T13:51:57',\n",
       "  'audit.mod.proc': 'propAttr-propAttr function <write_asset_picks_to_db>'},\n",
       " {'_id': ObjectId('6676667e01c029b1493a9dd9'),\n",
       "  'mcap.db.fk': 523867,\n",
       "  'uuid': '6542815f810f8dddb9b2e76d',\n",
       "  'asset.name': 'dao_maker',\n",
       "  'asset.mcap.date': datetime.datetime(2022, 5, 1, 0, 0),\n",
       "  'asset.mcap.value': 273730337.050183,\n",
       "  'asset.price.date': datetime.datetime(2022, 5, 1, 0, 0),\n",
       "  'asset.price.value': 2.98421987266816,\n",
       "  'index.cov': 0.00013814504172660102,\n",
       "  'audit.mod.by': 'NUWAN',\n",
       "  'audit.mod.dt': '2024-06-22T13:51:57',\n",
       "  'audit.mod.proc': 'propAttr-propAttr function <write_asset_picks_to_db>'},\n",
       " {'_id': ObjectId('6676667e01c029b1493a9dda'),\n",
       "  'mcap.db.fk': 584572,\n",
       "  'uuid': '6542a932810f8dddb9b47a0c',\n",
       "  'asset.name': 'tenset',\n",
       "  'asset.mcap.date': datetime.datetime(2022, 5, 1, 0, 0),\n",
       "  'asset.mcap.value': 271399795.507891,\n",
       "  'asset.price.date': datetime.datetime(2022, 5, 1, 0, 0),\n",
       "  'asset.price.value': 3.08115586765998,\n",
       "  'index.cov': 4.564324754556653e-05,\n",
       "  'audit.mod.by': 'NUWAN',\n",
       "  'audit.mod.dt': '2024-06-22T13:51:57',\n",
       "  'audit.mod.proc': 'propAttr-propAttr function <write_asset_picks_to_db>'},\n",
       " {'_id': ObjectId('6676667e01c029b1493a9ddb'),\n",
       "  'mcap.db.fk': 598072,\n",
       "  'uuid': '6542b11d810f8dddb9b4d4a3',\n",
       "  'asset.name': 'zipmex',\n",
       "  'asset.mcap.date': datetime.datetime(2022, 5, 1, 0, 0),\n",
       "  'asset.mcap.value': 252500617.850583,\n",
       "  'asset.price.date': datetime.datetime(2022, 5, 1, 0, 0),\n",
       "  'asset.price.value': 2.85206259387147,\n",
       "  'index.cov': 0.0001307954670640394,\n",
       "  'audit.mod.by': 'NUWAN',\n",
       "  'audit.mod.dt': '2024-06-22T13:51:57',\n",
       "  'audit.mod.proc': 'propAttr-propAttr function <write_asset_picks_to_db>'},\n",
       " {'_id': ObjectId('6676667e01c029b1493a9ddc'),\n",
       "  'mcap.db.fk': 578663,\n",
       "  'uuid': '6542a954810f8dddb9b47b77',\n",
       "  'asset.name': 'euro_tether',\n",
       "  'asset.mcap.date': datetime.datetime(2022, 5, 1, 0, 0),\n",
       "  'asset.mcap.value': 218160063.564861,\n",
       "  'asset.price.date': datetime.datetime(2022, 5, 1, 0, 0),\n",
       "  'asset.price.value': 1.0596343847184,\n",
       "  'index.cov': 2.5525986976600976e-05,\n",
       "  'audit.mod.by': 'NUWAN',\n",
       "  'audit.mod.dt': '2024-06-22T13:51:57',\n",
       "  'audit.mod.proc': 'propAttr-propAttr function <write_asset_picks_to_db>'},\n",
       " {'_id': ObjectId('6676667e01c029b1493a9ddd'),\n",
       "  'mcap.db.fk': 565203,\n",
       "  'uuid': '6542852f810f8dddb9b30d3b',\n",
       "  'asset.name': 'e_radix',\n",
       "  'asset.mcap.date': datetime.datetime(2022, 5, 1, 0, 0),\n",
       "  'asset.mcap.value': 217883940.693899,\n",
       "  'asset.price.date': datetime.datetime(2022, 5, 1, 0, 0),\n",
       "  'asset.price.value': 0.114271873881869,\n",
       "  'index.cov': 9.468477937438422e-05,\n",
       "  'audit.mod.by': 'NUWAN',\n",
       "  'audit.mod.dt': '2024-06-22T13:51:57',\n",
       "  'audit.mod.proc': 'propAttr-propAttr function <write_asset_picks_to_db>'},\n",
       " {'_id': ObjectId('6676667e01c029b1493a9dde'),\n",
       "  'mcap.db.fk': 456087,\n",
       "  'uuid': '6542a923810f8dddb9b4791a',\n",
       "  'asset.name': 'telos',\n",
       "  'asset.mcap.date': datetime.datetime(2022, 5, 1, 0, 0),\n",
       "  'asset.mcap.value': 187307115.039388,\n",
       "  'asset.price.date': datetime.datetime(2022, 5, 1, 0, 0),\n",
       "  'asset.price.value': 0.709349162616909,\n",
       "  'index.cov': -0.0002168458918633005,\n",
       "  'audit.mod.by': 'NUWAN',\n",
       "  'audit.mod.dt': '2024-06-22T13:51:57',\n",
       "  'audit.mod.proc': 'propAttr-propAttr function <write_asset_picks_to_db>'},\n",
       " {'_id': ObjectId('6676667e01c029b1493a9ddf'),\n",
       "  'mcap.db.fk': 603522,\n",
       "  'uuid': '6542978a810f8dddb9b3c938',\n",
       "  'asset.name': 'numeraire',\n",
       "  'asset.mcap.date': datetime.datetime(2022, 5, 1, 0, 0),\n",
       "  'asset.mcap.value': 141045630.921238,\n",
       "  'asset.price.date': datetime.datetime(2022, 5, 1, 0, 0),\n",
       "  'asset.price.value': 23.5515810202672,\n",
       "  'index.cov': -0.0002262433718879311,\n",
       "  'audit.mod.by': 'NUWAN',\n",
       "  'audit.mod.dt': '2024-06-22T13:51:57',\n",
       "  'audit.mod.proc': 'propAttr-propAttr function <write_asset_picks_to_db>'},\n",
       " {'_id': ObjectId('6676667e01c029b1493a9de0'),\n",
       "  'mcap.db.fk': 508780,\n",
       "  'uuid': '65428b20810f8dddb9b34ee7',\n",
       "  'asset.name': 'hxro',\n",
       "  'asset.mcap.date': datetime.datetime(2022, 5, 1, 0, 0),\n",
       "  'asset.mcap.value': 136732181.466403,\n",
       "  'asset.price.date': datetime.datetime(2022, 5, 1, 0, 0),\n",
       "  'asset.price.value': 0.310250651561209,\n",
       "  'index.cov': -9.035013384236442e-06,\n",
       "  'audit.mod.by': 'NUWAN',\n",
       "  'audit.mod.dt': '2024-06-22T13:51:57',\n",
       "  'audit.mod.proc': 'propAttr-propAttr function <write_asset_picks_to_db>'},\n",
       " {'_id': ObjectId('6676667e01c029b1493a9de1'),\n",
       "  'mcap.db.fk': 458386,\n",
       "  'uuid': '65427811810f8dddb9b29452',\n",
       "  'asset.name': 'ascendex',\n",
       "  'asset.mcap.date': datetime.datetime(2022, 5, 1, 0, 0),\n",
       "  'asset.mcap.value': 136379380.663089,\n",
       "  'asset.price.date': datetime.datetime(2022, 5, 1, 0, 0),\n",
       "  'asset.price.value': 0.184034060715177,\n",
       "  'index.cov': 3.704630117980295e-05,\n",
       "  'audit.mod.by': 'NUWAN',\n",
       "  'audit.mod.dt': '2024-06-22T13:51:57',\n",
       "  'audit.mod.proc': 'propAttr-propAttr function <write_asset_picks_to_db>'}]"
      ]
     },
     "execution_count": 26,
     "metadata": {},
     "output_type": "execute_result"
    }
   ],
   "source": [
    "clsNoSQL.read_documents(\n",
    "    as_type = \"DICT\",\n",
    "    db_name = \"\",\n",
    "    db_coll = ['prime_pick.2022-05-01.top.23'],\n",
    "    doc_find= {},\n",
    ")"
   ]
  },
  {
   "cell_type": "code",
   "execution_count": 24,
   "id": "2d7d1e5f",
   "metadata": {},
   "outputs": [
    {
     "data": {
      "text/plain": [
       "23"
      ]
     },
     "execution_count": 24,
     "metadata": {},
     "output_type": "execute_result"
    }
   ],
   "source": [
    "len(clsNoSQL.documents)"
   ]
  },
  {
   "cell_type": "markdown",
   "id": "7d0d0d8d",
   "metadata": {},
   "source": [
    "## List database tables"
   ]
  },
  {
   "cell_type": "markdown",
   "id": "72d372c9",
   "metadata": {},
   "source": [
    "## Replace modify attributes with Nulls\n",
    "* Set modify_proc & modify_by values to Null\n",
    "* Drop the modify_dt column"
   ]
  },
  {
   "cell_type": "code",
   "execution_count": 7,
   "id": "3c5d2f1b",
   "metadata": {},
   "outputs": [
    {
     "name": "stdout",
     "output_type": "stream",
     "text": [
      "-RECORD 0-----------------------------\n",
      " ref_pk        | 23                   \n",
      " entity        | hotel_group          \n",
      " category      | hotel group category \n",
      " value         | Urlaubsbauernhof     \n",
      " code          | UB                   \n",
      " description   | null                 \n",
      " source_uuid   | 8619052              \n",
      " data_source   | https://teams.mic... \n",
      " data_owner    | Delta Check          \n",
      " created_dt    | 2023-09-08 14:33:... \n",
      " created_by    | rezaware             \n",
      " created_proc  | rezaware_io_impor... \n",
      " modified_dt   | null                 \n",
      " modified_by   | null                 \n",
      " modified_proc | null                 \n",
      " deactivate_dt | 2023-09-08 16:53:... \n",
      "\n"
     ]
    }
   ],
   "source": [
    "from datetime import date, datetime, timedelta\n",
    "from pyspark.sql import functions as F\n",
    "\n",
    "_upsert_sdf = hotels_sdf_ \\\n",
    "                    .filter(F.col('ref_pk').isin([23])) \\\n",
    "                    .withColumn('deactivate_dt',F.lit(datetime.now())) \\\n",
    "#                     .withColumn('modified_proc',F.lit(None))\n",
    "# _upsert_sdf = _upsert_sdf.drop(F.col('modified_dt'))\n",
    "_upsert_sdf.show(n=3,vertical=True)"
   ]
  },
  {
   "cell_type": "markdown",
   "id": "df3efbd3",
   "metadata": {},
   "source": [
    "## Upsert table to verify Modify values are auto added]\n",
    "* Load data again to verify that modify_dt is added and modify_by & modify_proc have values"
   ]
  },
  {
   "cell_type": "code",
   "execution_count": 9,
   "id": "ab153d53",
   "metadata": {},
   "outputs": [
    {
     "name": "stdout",
     "output_type": "stream",
     "text": [
      "Wait a moment, writing data to postgresql property database ...\n",
      " INSERT INTO curated.util_refer (ref_pk, entity, category, value, code, description, source_uuid, data_source, data_owner, created_dt, created_by, created_proc, modified_dt, modified_by, modified_proc, deactivate_dt) VALUES %s  ON CONFLICT (ref_pk) DO UPDATE SET (entity, category, value, code, description, source_uuid, data_source, data_owner, modified_dt, modified_by, modified_proc, deactivate_dt) = (EXCLUDED.entity, EXCLUDED.category, EXCLUDED.value, EXCLUDED.code, EXCLUDED.description, EXCLUDED.source_uuid, EXCLUDED.data_source, EXCLUDED.data_owner, EXCLUDED.modified_dt, EXCLUDED.modified_by, EXCLUDED.modified_proc, EXCLUDED.deactivate_dt) ;\n"
     ]
    },
    {
     "name": "stderr",
     "output_type": "stream",
     "text": [
      "dataWorkLoads @staticmethod <batch_and_upsert> PSQL connection set with <class 'psycopg2.extensions.cursor'> and connection <connection object at 0x7f73e7976180; dsn: 'user=rezaware password=xxx dbname=property host=127.0.0.1 port=5432', closed: 0>\n",
      "dataWorkLoads @staticmethod <batch_and_upsert> PSQL connection set with <class 'psycopg2.extensions.cursor'> and connection <connection object at 0x7f73e7976180; dsn: 'user=rezaware password=xxx dbname=property host=127.0.0.1 port=5432', closed: 0>\n"
     ]
    },
    {
     "name": "stdout",
     "output_type": "stream",
     "text": [
      "Upserted 1 records\n"
     ]
    },
    {
     "name": "stderr",
     "output_type": "stream",
     "text": [
      "dataWorkLoads @staticmethod <batch_and_upsert> PSQL connection set with <class 'psycopg2.extensions.cursor'> and connection <connection object at 0x7f73e7976180; dsn: 'user=rezaware password=xxx dbname=property host=127.0.0.1 port=5432', closed: 0>\n"
     ]
    }
   ],
   "source": [
    "_db_name ='property'\n",
    "_tbl_name='util_refer'\n",
    "_pk = ['ref_pk']\n",
    "_cols_not_for_update = ['created_dt','created_by','created_proc']\n",
    "_options={\n",
    "    \"BATCHSIZE\":1000,   # batch size to partition the dtaframe\n",
    "    \"PARTITIONS\":1,    # number of parallel clusters to run\n",
    "    \"OMITCOLS\":_cols_not_for_update,    # columns to be excluded from update\n",
    "    \n",
    "}\n",
    "_records=clsSDB.upsert_sdf_to_table(\n",
    "    save_sdf=_upsert_sdf,\n",
    "    db_name =_db_name,\n",
    "    db_table=_tbl_name,\n",
    "    unique_keys=_pk,\n",
    "    **_options,\n",
    ")\n",
    "\n",
    "print(\"Upserted %d records\" % _records)"
   ]
  },
  {
   "cell_type": "markdown",
   "id": "a23ed640",
   "metadata": {},
   "source": [
    "## Get table next PK"
   ]
  },
  {
   "cell_type": "code",
   "execution_count": 16,
   "id": "cde4d6a0",
   "metadata": {},
   "outputs": [
    {
     "name": "stdout",
     "output_type": "stream",
     "text": [
      "+-------+\n",
      "|nextval|\n",
      "+-------+\n",
      "|      7|\n",
      "+-------+\n",
      "\n"
     ]
    }
   ],
   "source": [
    "next_pk = clsSDB.get_table_pk_nextval(\n",
    "    tbl_name='hotel_detail',\n",
    "    pk_attr ='hotel_pk',\n",
    ")\n",
    "\n",
    "next_pk.show()"
   ]
  },
  {
   "cell_type": "markdown",
   "id": "2827d01e",
   "metadata": {},
   "source": [
    "## Set table PK index with new value"
   ]
  },
  {
   "cell_type": "code",
   "execution_count": 37,
   "id": "55d06e5e",
   "metadata": {},
   "outputs": [
    {
     "data": {
      "text/plain": [
       "1"
      ]
     },
     "execution_count": 37,
     "metadata": {},
     "output_type": "execute_result"
    }
   ],
   "source": [
    "set_pk_val_ = clsSDB.set_table_pk_lastval(\n",
    "    tbl_name= \"prop_grp\",\n",
    "    pk_attr = \"prop_grp_pk\",\n",
    "    set_val = 1\n",
    ")\n",
    "set_pk_val_"
   ]
  },
  {
   "cell_type": "code",
   "execution_count": null,
   "id": "dd02e993",
   "metadata": {},
   "outputs": [],
   "source": []
  }
 ],
 "metadata": {
  "kernelspec": {
   "display_name": "Python 3 (ipykernel)",
   "language": "python",
   "name": "python3"
  },
  "language_info": {
   "codemirror_mode": {
    "name": "ipython",
    "version": 3
   },
   "file_extension": ".py",
   "mimetype": "text/x-python",
   "name": "python",
   "nbconvert_exporter": "python",
   "pygments_lexer": "ipython3",
   "version": "3.8.13"
  }
 },
 "nbformat": 4,
 "nbformat_minor": 5
}
