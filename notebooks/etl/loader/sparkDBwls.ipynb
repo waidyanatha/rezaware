{
 "cells": [
  {
   "cell_type": "markdown",
   "id": "9e1a19de",
   "metadata": {},
   "source": [
    "# Spark Database Workloads\n",
    "Tested only with __postgresql__"
   ]
  },
  {
   "cell_type": "code",
   "execution_count": 1,
   "id": "ea2801e6",
   "metadata": {},
   "outputs": [],
   "source": [
    "'''\n",
    "    WARNING CONTROL to display or ignore all warnings\n",
    "'''\n",
    "import warnings; warnings.simplefilter('ignore')     #switch betweeb 'default' and 'ignore'\n",
    "import traceback\n",
    "\n",
    "''' Set debug flag to view extended error messages; else set it to False to turn off debugging mode '''\n",
    "debug = True\n"
   ]
  },
  {
   "cell_type": "markdown",
   "id": "fa3bda64",
   "metadata": {},
   "source": [
    "## Instantiate Classes"
   ]
  },
  {
   "cell_type": "code",
   "execution_count": 14,
   "id": "93e9a568",
   "metadata": {},
   "outputs": [
    {
     "name": "stdout",
     "output_type": "stream",
     "text": [
      "All functional SPARKDBWLS-libraries in LOADER-package of ETL-module imported successfully!\n",
      "\n",
      "read and write files from and to postgresql database class initialization and load complete!\n"
     ]
    }
   ],
   "source": [
    "import os\n",
    "import sys\n",
    "\n",
    "proj_dir = os.path.abspath(os.pardir)\n",
    "sys.path.insert(1,proj_dir.split('rezaware/')[0])\n",
    "from rezaware.modules.etl.loader import sparkDBwls as db\n",
    "\n",
    "''' restart initiate classes '''\n",
    "if debug:\n",
    "    import importlib\n",
    "    db = importlib.reload(db)\n",
    "\n",
    "__desc__ = \"read and write files from and to postgresql database\"\n",
    "clsSDB = db.SQLWorkLoads(desc=__desc__)\n",
    "if clsSDB.session:\n",
    "    clsSDB._session.stop\n",
    "print(\"\\n%s class initialization and load complete!\" % __desc__)"
   ]
  },
  {
   "cell_type": "markdown",
   "id": "805413c8",
   "metadata": {},
   "source": [
    "## Load data from DB using SQL query"
   ]
  },
  {
   "cell_type": "code",
   "execution_count": 24,
   "id": "5102a531",
   "metadata": {},
   "outputs": [
    {
     "name": "stdout",
     "output_type": "stream",
     "text": [
      "-RECORD 0------------------------------\n",
      " portfolio_pk   | 35                   \n",
      " alt_id         | 64e154f975be45af9... \n",
      " asset_grp_id   | 64e7e5f33f9408281... \n",
      " asset_name     | bitcoin              \n",
      " portfolio_date | 2023-04-26 00:00:00  \n",
      " mcap_past_pk   | 138937               \n",
      " mcap_value     | 577778864974.2459... \n",
      " mcap_ror       | 0.1183025752248149   \n",
      " mcap_weight    | 0.5491878743874402   \n",
      " created_dt     | 2023-08-28 08:30:... \n",
      " created_by     | farmraider           \n",
      " created_proc   | mining_crypto_etp... \n",
      " modified_dt    | 2023-08-28 09:03:... \n",
      " modified_by    | farmraider           \n",
      " modified_proc  | rezaware_etl_load... \n",
      " deactivate_dt  | 2023-08-28 08:52:... \n",
      "-RECORD 1------------------------------\n",
      " portfolio_pk   | 29                   \n",
      " alt_id         | 64e154f975be45af9... \n",
      " asset_grp_id   | 64e7e5f33f9408281... \n",
      " asset_name     | bitcoin              \n",
      " portfolio_date | 2023-04-26 00:00:00  \n",
      " mcap_past_pk   | 138937               \n",
      " mcap_value     | 577778864974.2459... \n",
      " mcap_ror       | 0.1183025752248149   \n",
      " mcap_weight    | 0.5491878743874402   \n",
      " created_dt     | 2023-08-28 08:30:... \n",
      " created_by     | farmraider           \n",
      " created_proc   | mining_crypto_etp... \n",
      " modified_dt    | 2023-08-28 09:07:... \n",
      " modified_by    | farmraider           \n",
      " modified_proc  | rezaware_etl_load... \n",
      " deactivate_dt  | 2023-08-28 09:06:... \n",
      "\n",
      "None\n"
     ]
    }
   ],
   "source": [
    "_from_date = '2023-04-24'\n",
    "_to_date = '2023-04-29'\n",
    "_asset = 'bitcoin'\n",
    "\n",
    "# _query = \"select * from warehouse.mcap_past \"+\\\n",
    "#         f\"where mcap_date >= '{_from_date}' and \"+\\\n",
    "#         f\"mcap_date <= '{_to_date}'\"\n",
    "_query = \"SELECT * FROM warehouse.weighted_portfolio wmp \"+\\\n",
    "        f\"WHERE deactivate_dt IS NULL AND wmp.mcap_value > 1000000 \"+\\\n",
    "        f\"AND wmp.portfolio_date BETWEEN '{_from_date}' AND '{_to_date}' \"+\\\n",
    "        f\"AND wmp.asset_name = '{_asset}' \"\n",
    "#         f\"AND wmp.asset_name = '{_asset}' AND uuid='{_uuid}'\"\n",
    "\n",
    "\n",
    "_mcap_sdb=clsSDB.read_data_from_table(\n",
    "    select=_query,\n",
    "    db_table=\"\",\n",
    "    db_column=\"\",\n",
    "    lower_bound=None,\n",
    "    upper_bound=None,\n",
    "#     **_kwargs\n",
    ")\n",
    "\n",
    "if _mcap_sdb.count() > 0:\n",
    "    print(_mcap_sdb.show(n=3,vertical=True))\n",
    "else:\n",
    "    print(\"Returned empty data set\")"
   ]
  },
  {
   "cell_type": "markdown",
   "id": "72d372c9",
   "metadata": {},
   "source": [
    "## Replace modify attributes with Nulls\n",
    "* Set modify_proc & modify_by values to Null\n",
    "* Drop the modify_dt column"
   ]
  },
  {
   "cell_type": "code",
   "execution_count": 25,
   "id": "3c5d2f1b",
   "metadata": {},
   "outputs": [
    {
     "name": "stdout",
     "output_type": "stream",
     "text": [
      "-RECORD 0------------------------------\n",
      " portfolio_pk   | 35                   \n",
      " alt_id         | 64e154f975be45af9... \n",
      " asset_grp_id   | 64e7e5f33f9408281... \n",
      " asset_name     | bitcoin              \n",
      " portfolio_date | 2023-04-26 00:00:00  \n",
      " mcap_past_pk   | 138937               \n",
      " mcap_value     | 577778864974.2459... \n",
      " mcap_ror       | 0.1183025752248149   \n",
      " mcap_weight    | 0.5491878743874402   \n",
      " created_dt     | 2023-08-28 08:30:... \n",
      " created_by     | farmraider           \n",
      " created_proc   | mining_crypto_etp... \n",
      " modified_dt    | 2023-08-28 09:03:... \n",
      " modified_by    | farmraider           \n",
      " modified_proc  | rezaware_etl_load... \n",
      " deactivate_dt  | 2023-08-28 09:16:... \n",
      "\n"
     ]
    }
   ],
   "source": [
    "from datetime import date, datetime, timedelta\n",
    "from pyspark.sql import functions as F\n",
    "\n",
    "_upsert_sdf = _mcap_sdb \\\n",
    "                    .filter(F.col('portfolio_pk').isin([35])) \\\n",
    "                    .withColumn('deactivate_dt',F.lit(datetime.now())) \\\n",
    "#                     .withColumn('modified_proc',F.lit(None))\n",
    "# _upsert_sdf = _upsert_sdf.drop(F.col('modified_dt'))\n",
    "_upsert_sdf.show(n=3,vertical=True)"
   ]
  },
  {
   "cell_type": "markdown",
   "id": "df3efbd3",
   "metadata": {},
   "source": [
    "## Upsert table to verify Modify values are auto added]\n",
    "* Load data again to verify that modify_dt is added and modify_by & modify_proc have values"
   ]
  },
  {
   "cell_type": "code",
   "execution_count": 26,
   "id": "ab153d53",
   "metadata": {},
   "outputs": [
    {
     "name": "stdout",
     "output_type": "stream",
     "text": [
      "Validating upsert attributes and parameters ...\n",
      "Wait a moment, writing data to postgresql tip database ...\n"
     ]
    },
    {
     "name": "stderr",
     "output_type": "stream",
     "text": [
      "SQLWorkLoads @staticmethod <batch_and_upsert> PSQL connection set with <class 'psycopg2.extensions.cursor'> and connection <connection object at 0x7fe5991fa2c0; dsn: 'user=farmraider password=xxx dbname=tip host=127.0.0.1 port=5432', closed: 0>\n",
      "SQLWorkLoads @staticmethod <batch_and_upsert> PSQL connection set with <class 'psycopg2.extensions.cursor'> and connection <connection object at 0x7fe5991fa2c0; dsn: 'user=farmraider password=xxx dbname=tip host=127.0.0.1 port=5432', closed: 0>\n"
     ]
    },
    {
     "name": "stdout",
     "output_type": "stream",
     "text": [
      "Upserted 1 records\n"
     ]
    }
   ],
   "source": [
    "_db_name ='tip'\n",
    "_tbl_name='weighted_portfolio'\n",
    "_pk = ['portfolio_pk']\n",
    "_cols_not_for_update = ['asset_name', 'portfolio_date',\n",
    "                        'created_dt','created_by','created_proc']\n",
    "_options={\n",
    "    \"BATCHSIZE\":1000,   # batch size to partition the dtaframe\n",
    "    \"PARTITIONS\":1,    # number of parallel clusters to run\n",
    "    \"OMITCOLS\":_cols_not_for_update,    # columns to be excluded from update\n",
    "    \n",
    "}\n",
    "_records=clsSDB.upsert_sdf_to_table(\n",
    "    save_sdf=_upsert_sdf,\n",
    "    db_name =_db_name,\n",
    "    db_table=_tbl_name,\n",
    "    unique_keys=_pk,\n",
    "    **_options,\n",
    ")\n",
    "\n",
    "print(\"Upserted %d records\" % _records)"
   ]
  },
  {
   "cell_type": "code",
   "execution_count": null,
   "id": "55d06e5e",
   "metadata": {},
   "outputs": [],
   "source": []
  }
 ],
 "metadata": {
  "kernelspec": {
   "display_name": "Python 3 (ipykernel)",
   "language": "python",
   "name": "python3"
  },
  "language_info": {
   "codemirror_mode": {
    "name": "ipython",
    "version": 3
   },
   "file_extension": ".py",
   "mimetype": "text/x-python",
   "name": "python",
   "nbconvert_exporter": "python",
   "pygments_lexer": "ipython3",
   "version": "3.8.10"
  }
 },
 "nbformat": 4,
 "nbformat_minor": 5
}
