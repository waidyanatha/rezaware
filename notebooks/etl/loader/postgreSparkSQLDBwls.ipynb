{
 "cells": [
  {
   "cell_type": "markdown",
   "id": "9e1a19de",
   "metadata": {},
   "source": [
    "# Spark Database Workloads\n",
    "Tested only with __postgresql__"
   ]
  },
  {
   "cell_type": "code",
   "execution_count": 1,
   "id": "ea2801e6",
   "metadata": {},
   "outputs": [],
   "source": [
    "'''\n",
    "    WARNING CONTROL to display or ignore all warnings\n",
    "'''\n",
    "import warnings; warnings.simplefilter('ignore')     #switch betweeb 'default' and 'ignore'\n",
    "import traceback\n",
    "\n",
    "''' Set debug flag to view extended error messages; else set it to False to turn off debugging mode '''\n",
    "debug = True\n"
   ]
  },
  {
   "cell_type": "markdown",
   "id": "fa3bda64",
   "metadata": {},
   "source": [
    "## Instantiate Classes"
   ]
  },
  {
   "cell_type": "code",
   "execution_count": 2,
   "id": "93e9a568",
   "metadata": {},
   "outputs": [
    {
     "name": "stdout",
     "output_type": "stream",
     "text": [
      "All functional SPARKRDBM-libraries in LOADER-package of ETL-module imported successfully!\n",
      "All functional SPARKRDBM-libraries in LOADER-package of ETL-module imported successfully!\n",
      "All functional APP-libraries in REZAWARE-package of REZAWARE-module imported successfully!\n"
     ]
    },
    {
     "name": "stderr",
     "output_type": "stream",
     "text": [
      "23/09/01 09:01:34 WARN Utils: Your hostname, FarmRaider2 resolves to a loopback address: 127.0.1.1; using 192.168.124.14 instead (on interface enp3s0)\n",
      "23/09/01 09:01:34 WARN Utils: Set SPARK_LOCAL_IP if you need to bind to another address\n",
      "23/09/01 09:01:35 WARN NativeCodeLoader: Unable to load native-hadoop library for your platform... using builtin-java classes where applicable\n",
      "Setting default log level to \"WARN\".\n",
      "To adjust logging level use sc.setLogLevel(newLevel). For SparkR, use setLogLevel(newLevel).\n",
      "23/09/01 09:01:36 WARN Utils: Service 'SparkUI' could not bind on port 4040. Attempting port 4041.\n",
      "23/09/01 09:01:36 WARN Utils: Service 'SparkUI' could not bind on port 4041. Attempting port 4042.\n",
      "23/09/01 09:01:36 WARN Utils: Service 'SparkUI' could not bind on port 4042. Attempting port 4043.\n"
     ]
    },
    {
     "name": "stdout",
     "output_type": "stream",
     "text": [
      "\n",
      "read and write files from and to postgresql database class initialization and load complete!\n"
     ]
    }
   ],
   "source": [
    "import os\n",
    "import sys\n",
    "\n",
    "proj_dir = os.path.abspath(os.pardir)\n",
    "sys.path.insert(1,proj_dir.split('rezaware/')[0])\n",
    "from rezaware.modules.etl.loader import sparkRDBM as db\n",
    "\n",
    "''' restart initiate classes '''\n",
    "if debug:\n",
    "    import importlib\n",
    "    db = importlib.reload(db)\n",
    "\n",
    "__desc__ = \"read and write files from and to postgresql database\"\n",
    "clsSDB = db.dataWorkLoads(\n",
    "    desc=__desc__,\n",
    "    db_type = 'PostgreSQL',\n",
    "    db_driver=None,\n",
    "    db_hostIP=None,\n",
    "    db_port = None,\n",
    "    db_name = None,\n",
    "    db_schema=None,\n",
    "    db_user = None,\n",
    "    db_pswd = None,\n",
    "    spark_partitions=None,\n",
    "    spark_format = 'jdbc',\n",
    "    spark_save_mode=None,\n",
    "    spark_jar_dir = None,\n",
    ")\n",
    "if clsSDB.session:\n",
    "    clsSDB._session.stop\n",
    "print(\"\\n%s class initialization and load complete!\" % __desc__)"
   ]
  },
  {
   "cell_type": "markdown",
   "id": "805413c8",
   "metadata": {},
   "source": [
    "## Load data from DB using SQL query"
   ]
  },
  {
   "cell_type": "code",
   "execution_count": 3,
   "id": "5102a531",
   "metadata": {},
   "outputs": [
    {
     "name": "stdout",
     "output_type": "stream",
     "text": [
      "[Error]sparkRDBM function <read_data_from_table> An error occurred while calling o36.load.\n",
      ": java.util.ServiceConfigurationError: org.apache.spark.sql.sources.DataSourceRegister: Provider com.google.cloud.spark.bigquery.BigQueryRelationProvider could not be instantiated\n",
      "\tat java.base/java.util.ServiceLoader.fail(ServiceLoader.java:582)\n",
      "\tat java.base/java.util.ServiceLoader$ProviderImpl.newInstance(ServiceLoader.java:804)\n",
      "\tat java.base/java.util.ServiceLoader$ProviderImpl.get(ServiceLoader.java:722)\n",
      "\tat java.base/java.util.ServiceLoader$3.next(ServiceLoader.java:1393)\n",
      "\tat scala.collection.convert.Wrappers$JIteratorWrapper.next(Wrappers.scala:46)\n",
      "\tat scala.collection.Iterator.foreach(Iterator.scala:943)\n",
      "\tat scala.collection.Iterator.foreach$(Iterator.scala:943)\n",
      "\tat scala.collection.AbstractIterator.foreach(Iterator.scala:1431)\n",
      "\tat scala.collection.IterableLike.foreach(IterableLike.scala:74)\n",
      "\tat scala.collection.IterableLike.foreach$(IterableLike.scala:73)\n",
      "\tat scala.collection.AbstractIterable.foreach(Iterable.scala:56)\n",
      "\tat scala.collection.TraversableLike.filterImpl(TraversableLike.scala:303)\n",
      "\tat scala.collection.TraversableLike.filterImpl$(TraversableLike.scala:297)\n",
      "\tat scala.collection.AbstractTraversable.filterImpl(Traversable.scala:108)\n",
      "\tat scala.collection.TraversableLike.filter(TraversableLike.scala:395)\n",
      "\tat scala.collection.TraversableLike.filter$(TraversableLike.scala:395)\n",
      "\tat scala.collection.AbstractTraversable.filter(Traversable.scala:108)\n",
      "\tat org.apache.spark.sql.execution.datasources.DataSource$.lookupDataSource(DataSource.scala:629)\n",
      "\tat org.apache.spark.sql.execution.datasources.DataSource$.lookupDataSourceV2(DataSource.scala:697)\n",
      "\tat org.apache.spark.sql.DataFrameReader.load(DataFrameReader.scala:208)\n",
      "\tat org.apache.spark.sql.DataFrameReader.load(DataFrameReader.scala:172)\n",
      "\tat java.base/jdk.internal.reflect.NativeMethodAccessorImpl.invoke0(Native Method)\n",
      "\tat java.base/jdk.internal.reflect.NativeMethodAccessorImpl.invoke(NativeMethodAccessorImpl.java:78)\n",
      "\tat java.base/jdk.internal.reflect.DelegatingMethodAccessorImpl.invoke(DelegatingMethodAccessorImpl.java:43)\n",
      "\tat java.base/java.lang.reflect.Method.invoke(Method.java:567)\n",
      "\tat py4j.reflection.MethodInvoker.invoke(MethodInvoker.java:244)\n",
      "\tat py4j.reflection.ReflectionEngine.invoke(ReflectionEngine.java:374)\n",
      "\tat py4j.Gateway.invoke(Gateway.java:282)\n",
      "\tat py4j.commands.AbstractCommand.invokeMethod(AbstractCommand.java:132)\n",
      "\tat py4j.commands.CallCommand.execute(CallCommand.java:79)\n",
      "\tat py4j.ClientServerConnection.waitForCommands(ClientServerConnection.java:182)\n",
      "\tat py4j.ClientServerConnection.run(ClientServerConnection.java:106)\n",
      "\tat java.base/java.lang.Thread.run(Thread.java:831)\n",
      "Caused by: java.lang.IllegalStateException:  This connector was made for Scala null, it was not meant to run on Scala 2.12\n",
      "\tat com.google.cloud.spark.bigquery.BigQueryUtilScala$.validateScalaVersionCompatibility(BigQueryUtil.scala:37)\n",
      "\tat com.google.cloud.spark.bigquery.BigQueryRelationProvider.<init>(BigQueryRelationProvider.scala:42)\n",
      "\tat com.google.cloud.spark.bigquery.BigQueryRelationProvider.<init>(BigQueryRelationProvider.scala:49)\n",
      "\tat java.base/jdk.internal.reflect.NativeConstructorAccessorImpl.newInstance0(Native Method)\n",
      "\tat java.base/jdk.internal.reflect.NativeConstructorAccessorImpl.newInstance(NativeConstructorAccessorImpl.java:78)\n",
      "\tat java.base/jdk.internal.reflect.DelegatingConstructorAccessorImpl.newInstance(DelegatingConstructorAccessorImpl.java:45)\n",
      "\tat java.base/java.lang.reflect.Constructor.newInstanceWithCaller(Constructor.java:499)\n",
      "\tat java.base/java.lang.reflect.Constructor.newInstance(Constructor.java:480)\n",
      "\tat java.base/java.util.ServiceLoader$ProviderImpl.newInstance(ServiceLoader.java:780)\n",
      "\t... 31 more\n",
      "\n"
     ]
    },
    {
     "ename": "AttributeError",
     "evalue": "'NoneType' object has no attribute 'count'",
     "output_type": "error",
     "traceback": [
      "\u001b[0;31m---------------------------------------------------------------------------\u001b[0m",
      "\u001b[0;31mAttributeError\u001b[0m                            Traceback (most recent call last)",
      "Input \u001b[0;32mIn [3]\u001b[0m, in \u001b[0;36m<cell line: 24>\u001b[0;34m()\u001b[0m\n\u001b[1;32m     12\u001b[0m \u001b[38;5;66;03m#         f\"AND wmp.asset_name = '{_asset}' AND uuid='{_uuid}'\"\u001b[39;00m\n\u001b[1;32m     15\u001b[0m _mcap_sdb\u001b[38;5;241m=\u001b[39mclsSDB\u001b[38;5;241m.\u001b[39mread_data_from_table(\n\u001b[1;32m     16\u001b[0m     select\u001b[38;5;241m=\u001b[39m_query,\n\u001b[1;32m     17\u001b[0m     db_table\u001b[38;5;241m=\u001b[39m\u001b[38;5;124m\"\u001b[39m\u001b[38;5;124m\"\u001b[39m,\n\u001b[0;32m   (...)\u001b[0m\n\u001b[1;32m     21\u001b[0m \u001b[38;5;66;03m#     **_kwargs\u001b[39;00m\n\u001b[1;32m     22\u001b[0m )\n\u001b[0;32m---> 24\u001b[0m \u001b[38;5;28;01mif\u001b[39;00m \u001b[43m_mcap_sdb\u001b[49m\u001b[38;5;241;43m.\u001b[39;49m\u001b[43mcount\u001b[49m() \u001b[38;5;241m>\u001b[39m \u001b[38;5;241m0\u001b[39m:\n\u001b[1;32m     25\u001b[0m     \u001b[38;5;28mprint\u001b[39m(_mcap_sdb\u001b[38;5;241m.\u001b[39mshow(n\u001b[38;5;241m=\u001b[39m\u001b[38;5;241m3\u001b[39m,vertical\u001b[38;5;241m=\u001b[39m\u001b[38;5;28;01mTrue\u001b[39;00m))\n\u001b[1;32m     26\u001b[0m \u001b[38;5;28;01melse\u001b[39;00m:\n",
      "\u001b[0;31mAttributeError\u001b[0m: 'NoneType' object has no attribute 'count'"
     ]
    }
   ],
   "source": [
    "_from_date = '2023-04-24'\n",
    "_to_date = '2023-04-29'\n",
    "_asset = 'bitcoin'\n",
    "\n",
    "# _query = \"select * from warehouse.mcap_past \"+\\\n",
    "#         f\"where mcap_date >= '{_from_date}' and \"+\\\n",
    "#         f\"mcap_date <= '{_to_date}'\"\n",
    "_query = \"SELECT * FROM warehouse.weighted_portfolio wmp \"+\\\n",
    "        f\"WHERE deactivate_dt IS NULL AND wmp.mcap_value > 1000000 \"+\\\n",
    "        f\"AND wmp.portfolio_date BETWEEN '{_from_date}' AND '{_to_date}' \"+\\\n",
    "        f\"AND wmp.asset_name = '{_asset}' \"\n",
    "#         f\"AND wmp.asset_name = '{_asset}' AND uuid='{_uuid}'\"\n",
    "\n",
    "\n",
    "_mcap_sdb=clsSDB.read_data_from_table(\n",
    "    select=_query,\n",
    "    db_table=\"\",\n",
    "    db_column=\"\",\n",
    "    lower_bound=None,\n",
    "    upper_bound=None,\n",
    "#     **_kwargs\n",
    ")\n",
    "\n",
    "if _mcap_sdb.count() > 0:\n",
    "    print(_mcap_sdb.show(n=3,vertical=True))\n",
    "else:\n",
    "    print(\"Returned empty data set\")"
   ]
  },
  {
   "cell_type": "markdown",
   "id": "72d372c9",
   "metadata": {},
   "source": [
    "## Replace modify attributes with Nulls\n",
    "* Set modify_proc & modify_by values to Null\n",
    "* Drop the modify_dt column"
   ]
  },
  {
   "cell_type": "code",
   "execution_count": 25,
   "id": "3c5d2f1b",
   "metadata": {},
   "outputs": [
    {
     "name": "stdout",
     "output_type": "stream",
     "text": [
      "-RECORD 0------------------------------\n",
      " portfolio_pk   | 35                   \n",
      " alt_id         | 64e154f975be45af9... \n",
      " asset_grp_id   | 64e7e5f33f9408281... \n",
      " asset_name     | bitcoin              \n",
      " portfolio_date | 2023-04-26 00:00:00  \n",
      " mcap_past_pk   | 138937               \n",
      " mcap_value     | 577778864974.2459... \n",
      " mcap_ror       | 0.1183025752248149   \n",
      " mcap_weight    | 0.5491878743874402   \n",
      " created_dt     | 2023-08-28 08:30:... \n",
      " created_by     | farmraider           \n",
      " created_proc   | mining_crypto_etp... \n",
      " modified_dt    | 2023-08-28 09:03:... \n",
      " modified_by    | farmraider           \n",
      " modified_proc  | rezaware_etl_load... \n",
      " deactivate_dt  | 2023-08-28 09:16:... \n",
      "\n"
     ]
    }
   ],
   "source": [
    "from datetime import date, datetime, timedelta\n",
    "from pyspark.sql import functions as F\n",
    "\n",
    "_upsert_sdf = _mcap_sdb \\\n",
    "                    .filter(F.col('portfolio_pk').isin([35])) \\\n",
    "                    .withColumn('deactivate_dt',F.lit(datetime.now())) \\\n",
    "#                     .withColumn('modified_proc',F.lit(None))\n",
    "# _upsert_sdf = _upsert_sdf.drop(F.col('modified_dt'))\n",
    "_upsert_sdf.show(n=3,vertical=True)"
   ]
  },
  {
   "cell_type": "markdown",
   "id": "df3efbd3",
   "metadata": {},
   "source": [
    "## Upsert table to verify Modify values are auto added]\n",
    "* Load data again to verify that modify_dt is added and modify_by & modify_proc have values"
   ]
  },
  {
   "cell_type": "code",
   "execution_count": 26,
   "id": "ab153d53",
   "metadata": {},
   "outputs": [
    {
     "name": "stdout",
     "output_type": "stream",
     "text": [
      "Validating upsert attributes and parameters ...\n",
      "Wait a moment, writing data to postgresql tip database ...\n"
     ]
    },
    {
     "name": "stderr",
     "output_type": "stream",
     "text": [
      "SQLWorkLoads @staticmethod <batch_and_upsert> PSQL connection set with <class 'psycopg2.extensions.cursor'> and connection <connection object at 0x7fe5991fa2c0; dsn: 'user=farmraider password=xxx dbname=tip host=127.0.0.1 port=5432', closed: 0>\n",
      "SQLWorkLoads @staticmethod <batch_and_upsert> PSQL connection set with <class 'psycopg2.extensions.cursor'> and connection <connection object at 0x7fe5991fa2c0; dsn: 'user=farmraider password=xxx dbname=tip host=127.0.0.1 port=5432', closed: 0>\n"
     ]
    },
    {
     "name": "stdout",
     "output_type": "stream",
     "text": [
      "Upserted 1 records\n"
     ]
    }
   ],
   "source": [
    "_db_name ='tip'\n",
    "_tbl_name='weighted_portfolio'\n",
    "_pk = ['portfolio_pk']\n",
    "_cols_not_for_update = ['asset_name', 'portfolio_date',\n",
    "                        'created_dt','created_by','created_proc']\n",
    "_options={\n",
    "    \"BATCHSIZE\":1000,   # batch size to partition the dtaframe\n",
    "    \"PARTITIONS\":1,    # number of parallel clusters to run\n",
    "    \"OMITCOLS\":_cols_not_for_update,    # columns to be excluded from update\n",
    "    \n",
    "}\n",
    "_records=clsSDB.upsert_sdf_to_table(\n",
    "    save_sdf=_upsert_sdf,\n",
    "    db_name =_db_name,\n",
    "    db_table=_tbl_name,\n",
    "    unique_keys=_pk,\n",
    "    **_options,\n",
    ")\n",
    "\n",
    "print(\"Upserted %d records\" % _records)"
   ]
  },
  {
   "cell_type": "code",
   "execution_count": null,
   "id": "55d06e5e",
   "metadata": {},
   "outputs": [],
   "source": []
  }
 ],
 "metadata": {
  "kernelspec": {
   "display_name": "Python 3 (ipykernel)",
   "language": "python",
   "name": "python3"
  },
  "language_info": {
   "codemirror_mode": {
    "name": "ipython",
    "version": 3
   },
   "file_extension": ".py",
   "mimetype": "text/x-python",
   "name": "python",
   "nbconvert_exporter": "python",
   "pygments_lexer": "ipython3",
   "version": "3.8.10"
  }
 },
 "nbformat": 4,
 "nbformat_minor": 5
}
