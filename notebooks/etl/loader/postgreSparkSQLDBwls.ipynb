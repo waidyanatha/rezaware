{
 "cells": [
  {
   "cell_type": "markdown",
   "id": "9e1a19de",
   "metadata": {},
   "source": [
    "# Spark Database Workloads\n",
    "Tested only with __postgresql__"
   ]
  },
  {
   "cell_type": "code",
   "execution_count": 17,
   "id": "ea2801e6",
   "metadata": {},
   "outputs": [],
   "source": [
    "'''\n",
    "    WARNING CONTROL to display or ignore all warnings\n",
    "'''\n",
    "import warnings; warnings.simplefilter('ignore')     #switch betweeb 'default' and 'ignore'\n",
    "import traceback\n",
    "\n",
    "''' Set debug flag to view extended error messages; else set it to False to turn off debugging mode '''\n",
    "debug = True\n"
   ]
  },
  {
   "cell_type": "markdown",
   "id": "fa3bda64",
   "metadata": {},
   "source": [
    "## Instantiate Classes"
   ]
  },
  {
   "cell_type": "code",
   "execution_count": 14,
   "id": "93e9a568",
   "metadata": {},
   "outputs": [
    {
     "name": "stdout",
     "output_type": "stream",
     "text": [
      "All functional SPARKRDBM-libraries in LOADER-package of ETL-module imported successfully!\n",
      "\n",
      "read and write files from and to postgresql database class initialization and load complete!\n"
     ]
    }
   ],
   "source": [
    "import os\n",
    "import sys\n",
    "\n",
    "proj_dir = os.path.abspath(os.pardir)\n",
    "sys.path.insert(1,proj_dir.split('rezaware/')[0])\n",
    "from rezaware.modules.etl.loader import sparkRDBM as db\n",
    "\n",
    "''' restart initiate classes '''\n",
    "if debug:\n",
    "    import importlib\n",
    "    db = importlib.reload(db)\n",
    "\n",
    "__desc__ = \"read and write files from and to postgresql database\"\n",
    "clsSDB = db.dataWorkLoads(\n",
    "    desc=__desc__,\n",
    "    db_type = 'PostgreSQL',\n",
    "    db_driver=None,\n",
    "    db_hostIP=None,\n",
    "    db_port = None,\n",
    "    db_name = 'property',\n",
    "    db_schema='curated',\n",
    "    db_user = 'rezaware',\n",
    "    db_pswd = 'rezHERO',\n",
    "    spark_partitions=None,\n",
    "    spark_format = 'jdbc',\n",
    "    spark_save_mode=None,\n",
    "    spark_jar_dir = None,\n",
    ")\n",
    "if clsSDB.session:\n",
    "    clsSDB._session.stop\n",
    "print(\"\\n%s class initialization and load complete!\" % __desc__)"
   ]
  },
  {
   "cell_type": "markdown",
   "id": "7d0d0d8d",
   "metadata": {},
   "source": [
    "## List database tables"
   ]
  },
  {
   "cell_type": "code",
   "execution_count": 3,
   "id": "b04a25b8",
   "metadata": {},
   "outputs": [
    {
     "name": "stderr",
     "output_type": "stream",
     "text": [
      "                                                                                \r"
     ]
    },
    {
     "name": "stdout",
     "output_type": "stream",
     "text": [
      "+------------+--------------+\n",
      "|table_schema|    table_name|\n",
      "+------------+--------------+\n",
      "|     curated| util_gis_geom|\n",
      "|     curated|hotel_alt_name|\n",
      "|     curated|   hotel_group|\n",
      "|     curated|  hotel_detail|\n",
      "|     curated|    util_refer|\n",
      "+------------+--------------+\n",
      "\n"
     ]
    }
   ],
   "source": [
    "from pyspark.sql import functions as F\n",
    "# /optiions ={}\n",
    "tbl_sdf_ = clsSDB.get_db_table_info()\n",
    "tbl_sdf_.select(F.col('table_schema'),F.col('table_name')).show()"
   ]
  },
  {
   "cell_type": "markdown",
   "id": "805413c8",
   "metadata": {},
   "source": [
    "## Load data from DB using SQL query"
   ]
  },
  {
   "cell_type": "code",
   "execution_count": 4,
   "id": "5102a531",
   "metadata": {},
   "outputs": [
    {
     "name": "stdout",
     "output_type": "stream",
     "text": [
      "-RECORD 0-----------------------------\n",
      " ref_pk        | 1                    \n",
      " entity        | hotel_group          \n",
      " category      | hotel group category \n",
      " value         | Beach Hotel and Spa  \n",
      " code          | HR                   \n",
      " description   | null                 \n",
      " source_uuid   | 3008365              \n",
      " data_source   | www.delta-check.c... \n",
      " data_owner    | Delta Check          \n",
      " created_dt    | 2023-09-08 14:33:... \n",
      " created_by    | rezaware             \n",
      " created_proc  | rezaware_io_impor... \n",
      " modified_dt   | null                 \n",
      " modified_by   | null                 \n",
      " modified_proc | null                 \n",
      " deactivate_dt | null                 \n",
      "-RECORD 1-----------------------------\n",
      " ref_pk        | 2                    \n",
      " entity        | hotel_group          \n",
      " category      | hotel group category \n",
      " value         | Beach Resort         \n",
      " code          | R                    \n",
      " description   | null                 \n",
      " source_uuid   | 8008485              \n",
      " data_source   | https://teams.mic... \n",
      " data_owner    | Delta Check          \n",
      " created_dt    | 2023-09-08 14:33:... \n",
      " created_by    | rezaware             \n",
      " created_proc  | rezaware_io_impor... \n",
      " modified_dt   | null                 \n",
      " modified_by   | null                 \n",
      " modified_proc | null                 \n",
      " deactivate_dt | null                 \n",
      "-RECORD 2-----------------------------\n",
      " ref_pk        | 3                    \n",
      " entity        | hotel_group          \n",
      " category      | hotel group category \n",
      " value         | Beachside Resort     \n",
      " code          | R                    \n",
      " description   | null                 \n",
      " source_uuid   | 8837235              \n",
      " data_source   | https://teams.mic... \n",
      " data_owner    | Delta Check          \n",
      " created_dt    | 2023-09-08 14:33:... \n",
      " created_by    | rezaware             \n",
      " created_proc  | rezaware_io_impor... \n",
      " modified_dt   | null                 \n",
      " modified_by   | null                 \n",
      " modified_proc | null                 \n",
      " deactivate_dt | null                 \n",
      "only showing top 3 rows\n",
      "\n",
      "None\n"
     ]
    }
   ],
   "source": [
    "_from_date = '2023-04-24'\n",
    "_to_date = '2023-04-29'\n",
    "\n",
    "hotels_sdf_=clsSDB.read_data_from_table(\n",
    "    select=None,\n",
    "    db_table=\"util_refer\",\n",
    "    db_column=\"\",\n",
    "    lower_bound=None,\n",
    "    upper_bound=None,\n",
    "#     **_kwargs\n",
    ")\n",
    "\n",
    "if hotels_sdf_.count() > 0:\n",
    "    print(hotels_sdf_.show(n=3,vertical=True))\n",
    "else:\n",
    "    print(\"Returned empty data set\")"
   ]
  },
  {
   "cell_type": "markdown",
   "id": "72d372c9",
   "metadata": {},
   "source": [
    "## Replace modify attributes with Nulls\n",
    "* Set modify_proc & modify_by values to Null\n",
    "* Drop the modify_dt column"
   ]
  },
  {
   "cell_type": "code",
   "execution_count": 7,
   "id": "3c5d2f1b",
   "metadata": {},
   "outputs": [
    {
     "name": "stdout",
     "output_type": "stream",
     "text": [
      "-RECORD 0-----------------------------\n",
      " ref_pk        | 23                   \n",
      " entity        | hotel_group          \n",
      " category      | hotel group category \n",
      " value         | Urlaubsbauernhof     \n",
      " code          | UB                   \n",
      " description   | null                 \n",
      " source_uuid   | 8619052              \n",
      " data_source   | https://teams.mic... \n",
      " data_owner    | Delta Check          \n",
      " created_dt    | 2023-09-08 14:33:... \n",
      " created_by    | rezaware             \n",
      " created_proc  | rezaware_io_impor... \n",
      " modified_dt   | null                 \n",
      " modified_by   | null                 \n",
      " modified_proc | null                 \n",
      " deactivate_dt | 2023-09-08 16:53:... \n",
      "\n"
     ]
    }
   ],
   "source": [
    "from datetime import date, datetime, timedelta\n",
    "from pyspark.sql import functions as F\n",
    "\n",
    "_upsert_sdf = hotels_sdf_ \\\n",
    "                    .filter(F.col('ref_pk').isin([23])) \\\n",
    "                    .withColumn('deactivate_dt',F.lit(datetime.now())) \\\n",
    "#                     .withColumn('modified_proc',F.lit(None))\n",
    "# _upsert_sdf = _upsert_sdf.drop(F.col('modified_dt'))\n",
    "_upsert_sdf.show(n=3,vertical=True)"
   ]
  },
  {
   "cell_type": "markdown",
   "id": "df3efbd3",
   "metadata": {},
   "source": [
    "## Upsert table to verify Modify values are auto added]\n",
    "* Load data again to verify that modify_dt is added and modify_by & modify_proc have values"
   ]
  },
  {
   "cell_type": "code",
   "execution_count": 9,
   "id": "ab153d53",
   "metadata": {},
   "outputs": [
    {
     "name": "stdout",
     "output_type": "stream",
     "text": [
      "Wait a moment, writing data to postgresql property database ...\n",
      " INSERT INTO curated.util_refer (ref_pk, entity, category, value, code, description, source_uuid, data_source, data_owner, created_dt, created_by, created_proc, modified_dt, modified_by, modified_proc, deactivate_dt) VALUES %s  ON CONFLICT (ref_pk) DO UPDATE SET (entity, category, value, code, description, source_uuid, data_source, data_owner, modified_dt, modified_by, modified_proc, deactivate_dt) = (EXCLUDED.entity, EXCLUDED.category, EXCLUDED.value, EXCLUDED.code, EXCLUDED.description, EXCLUDED.source_uuid, EXCLUDED.data_source, EXCLUDED.data_owner, EXCLUDED.modified_dt, EXCLUDED.modified_by, EXCLUDED.modified_proc, EXCLUDED.deactivate_dt) ;\n"
     ]
    },
    {
     "name": "stderr",
     "output_type": "stream",
     "text": [
      "dataWorkLoads @staticmethod <batch_and_upsert> PSQL connection set with <class 'psycopg2.extensions.cursor'> and connection <connection object at 0x7f73e7976180; dsn: 'user=rezaware password=xxx dbname=property host=127.0.0.1 port=5432', closed: 0>\n",
      "dataWorkLoads @staticmethod <batch_and_upsert> PSQL connection set with <class 'psycopg2.extensions.cursor'> and connection <connection object at 0x7f73e7976180; dsn: 'user=rezaware password=xxx dbname=property host=127.0.0.1 port=5432', closed: 0>\n"
     ]
    },
    {
     "name": "stdout",
     "output_type": "stream",
     "text": [
      "Upserted 1 records\n"
     ]
    },
    {
     "name": "stderr",
     "output_type": "stream",
     "text": [
      "dataWorkLoads @staticmethod <batch_and_upsert> PSQL connection set with <class 'psycopg2.extensions.cursor'> and connection <connection object at 0x7f73e7976180; dsn: 'user=rezaware password=xxx dbname=property host=127.0.0.1 port=5432', closed: 0>\n"
     ]
    }
   ],
   "source": [
    "_db_name ='property'\n",
    "_tbl_name='util_refer'\n",
    "_pk = ['ref_pk']\n",
    "_cols_not_for_update = ['created_dt','created_by','created_proc']\n",
    "_options={\n",
    "    \"BATCHSIZE\":1000,   # batch size to partition the dtaframe\n",
    "    \"PARTITIONS\":1,    # number of parallel clusters to run\n",
    "    \"OMITCOLS\":_cols_not_for_update,    # columns to be excluded from update\n",
    "    \n",
    "}\n",
    "_records=clsSDB.upsert_sdf_to_table(\n",
    "    save_sdf=_upsert_sdf,\n",
    "    db_name =_db_name,\n",
    "    db_table=_tbl_name,\n",
    "    unique_keys=_pk,\n",
    "    **_options,\n",
    ")\n",
    "\n",
    "print(\"Upserted %d records\" % _records)"
   ]
  },
  {
   "cell_type": "markdown",
   "id": "a23ed640",
   "metadata": {},
   "source": [
    "## Get table next PK"
   ]
  },
  {
   "cell_type": "code",
   "execution_count": 16,
   "id": "cde4d6a0",
   "metadata": {},
   "outputs": [
    {
     "name": "stdout",
     "output_type": "stream",
     "text": [
      "+-------+\n",
      "|nextval|\n",
      "+-------+\n",
      "|      7|\n",
      "+-------+\n",
      "\n"
     ]
    }
   ],
   "source": [
    "next_pk = clsSDB.get_table_pk_nextval(\n",
    "    tbl_name='hotel_detail',\n",
    "    pk_attr ='hotel_pk',\n",
    ")\n",
    "\n",
    "next_pk.show()"
   ]
  },
  {
   "cell_type": "code",
   "execution_count": 21,
   "id": "55d06e5e",
   "metadata": {},
   "outputs": [
    {
     "data": {
      "text/plain": [
       "10"
      ]
     },
     "execution_count": 21,
     "metadata": {},
     "output_type": "execute_result"
    }
   ],
   "source": [
    "from pyspark.sql import functions as F\n",
    "\n",
    "pk_val = next_pk.select(F.col('nextval')).collect()[0][0]\n",
    "pk_val"
   ]
  },
  {
   "cell_type": "code",
   "execution_count": null,
   "id": "dd02e993",
   "metadata": {},
   "outputs": [],
   "source": []
  }
 ],
 "metadata": {
  "kernelspec": {
   "display_name": "Python 3 (ipykernel)",
   "language": "python",
   "name": "python3"
  },
  "language_info": {
   "codemirror_mode": {
    "name": "ipython",
    "version": 3
   },
   "file_extension": ".py",
   "mimetype": "text/x-python",
   "name": "python",
   "nbconvert_exporter": "python",
   "pygments_lexer": "ipython3",
   "version": "3.8.10"
  }
 },
 "nbformat": 4,
 "nbformat_minor": 5
}
