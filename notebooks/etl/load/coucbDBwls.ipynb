{
 "cells": [
  {
   "cell_type": "markdown",
   "id": "63d5c2a2",
   "metadata": {},
   "source": [
    "# CouchDB Workload testing"
   ]
  },
  {
   "cell_type": "code",
   "execution_count": 1,
   "id": "3ba73912",
   "metadata": {},
   "outputs": [],
   "source": [
    "'''\n",
    "    WARNING CONTROL to display or ignore all warnings\n",
    "'''\n",
    "import warnings; warnings.simplefilter('ignore')     #switch betweeb 'default' and 'ignore'\n",
    "import traceback\n",
    "\n",
    "''' Set debug flag to view extended error messages; else set it to False to turn off debugging mode '''\n",
    "debug = True\n"
   ]
  },
  {
   "cell_type": "code",
   "execution_count": 7,
   "id": "5ef7c931",
   "metadata": {},
   "outputs": [],
   "source": [
    "import os\n",
    "import sys\n",
    "import couchdb"
   ]
  },
  {
   "cell_type": "code",
   "execution_count": 8,
   "id": "c6026546",
   "metadata": {},
   "outputs": [
    {
     "data": {
      "text/plain": [
       "<Server 'http://localhost:5984/'>"
      ]
     },
     "execution_count": 8,
     "metadata": {},
     "output_type": "execute_result"
    }
   ],
   "source": [
    "couchdb.Server()"
   ]
  },
  {
   "cell_type": "code",
   "execution_count": null,
   "id": "6cbc5046",
   "metadata": {},
   "outputs": [],
   "source": []
  }
 ],
 "metadata": {
  "kernelspec": {
   "display_name": "Python 3 (ipykernel)",
   "language": "python",
   "name": "python3"
  },
  "language_info": {
   "codemirror_mode": {
    "name": "ipython",
    "version": 3
   },
   "file_extension": ".py",
   "mimetype": "text/x-python",
   "name": "python",
   "nbconvert_exporter": "python",
   "pygments_lexer": "ipython3",
   "version": "3.8.10"
  }
 },
 "nbformat": 4,
 "nbformat_minor": 5
}
