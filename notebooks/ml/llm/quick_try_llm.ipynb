{
 "cells": [
  {
   "cell_type": "markdown",
   "id": "f8e61c80-05d5-416e-9bc2-38317ee39f92",
   "metadata": {},
   "source": [
    "# Try an LLM"
   ]
  },
  {
   "cell_type": "code",
   "execution_count": 1,
   "id": "e708d1d3-89aa-4e65-912a-82e42f577cf5",
   "metadata": {},
   "outputs": [],
   "source": [
    "'''\n",
    "    WARNING CONTROL to display or ignore all warnings\n",
    "'''\n",
    "import warnings; warnings.simplefilter('ignore')     #switch betweeb 'default' and 'ignore'\n",
    "import traceback\n",
    "\n",
    "''' Set debug flag to view extended error messages; else set it to False to turn off debugging mode '''\n",
    "debug = True\n"
   ]
  },
  {
   "cell_type": "markdown",
   "id": "6877f531-945a-4b69-a156-e3dff76692d3",
   "metadata": {},
   "source": [
    "## Instantiate LLM"
   ]
  },
  {
   "cell_type": "code",
   "execution_count": 9,
   "id": "156fa840-68b5-4508-ac48-d7a3e5c93fe3",
   "metadata": {},
   "outputs": [
    {
     "name": "stdout",
     "output_type": "stream",
     "text": [
      "All functional MODEL-libraries in LLM-package of ML-module imported successfully!\n",
      "model Class initialization complete\n",
      "We have established client=<groq.resources.chat.completions.Completions object at 0x7eff405f1a50> async_client=<groq.resources.chat.completions.AsyncCompletions object at 0x7eff405f0d60> model_name='groq/llama-3.3-70b-versatile' temperature=1e-08 groq_api_key=SecretStr('**********') max_retries=0 max_tokens=300\n"
     ]
    }
   ],
   "source": [
    "import os\n",
    "import sys\n",
    "import litellm\n",
    "os.environ['LITELLM_LOG'] = 'DEBUG' \n",
    "# litellm.set_verbose=True\n",
    "os.environ['CHROMA_TELEMETRY_ENABLED']='false'\n",
    "\n",
    "proj_dir = os.path.abspath(os.pardir)\n",
    "sys.path.insert(1,proj_dir.split('rezaware/')[0])\n",
    "from rezaware.modules.ml.llm import model as md\n",
    "if debug:\n",
    "    import importlib\n",
    "    md = importlib.reload(md)\n",
    "\n",
    "__desc__ = \"crewai agents and tasks\"\n",
    "\n",
    "clsLLM = md.llmWorkLoads(\n",
    "        desc=__desc__,\n",
    "        provider=\"groq\",\n",
    "        llm_name=\"llama-3.3-70b-versatile\",\n",
    "        temperature=0.0,\n",
    "        max_tokens =300,\n",
    "        max_retries=0,\n",
    "        base_url=\"http://192.168.2.200:5050/\",\n",
    ")\n",
    "''' get the model '''\n",
    "chat_groq = clsLLM.get()\n",
    "print(\"We have established\", chat_groq)"
   ]
  },
  {
   "cell_type": "markdown",
   "id": "90c2806f-b90a-4768-84ac-cc11bba5186b",
   "metadata": {},
   "source": [
    "## Run LLM"
   ]
  },
  {
   "cell_type": "code",
   "execution_count": 11,
   "id": "ac5b2974-75ee-44ee-8bdf-6de608c8b48d",
   "metadata": {},
   "outputs": [
    {
     "name": "stdout",
     "output_type": "stream",
     "text": [
      "ModelResponse(id='chatcmpl-504dbeaf-bc3c-4566-ba56-1bbeb11b79aa', created=1742919290, model='groq/llama-3.3-70b-versatile', object='chat.completion', system_fingerprint='fp_72a5dc99ee', choices=[Choices(finish_reason='stop', index=0, message=Message(content=\"To find sea freight details for shipping a cargo from Colombo, Sri Lanka to Cape Town, South Africa, I'll provide you with general information and estimates. Please note that actual rates and details may vary depending on the shipping line, cargo type, and other factors.\\n\\n**Route and Distance:**\\nThe distance from Colombo, Sri Lanka to Cape Town, South Africa is approximately 7,770 nautical miles (14,390 km). The typical route takes around 25-30 days, depending on the shipping line, vessel type, and weather conditions.\\n\\n**Shipping Lines and Schedules:**\\nSeveral shipping lines operate from Colombo to Cape Town, including:\\n\\n1. Maersk Line\\n2. CMA CGM\\n3. Evergreen Line\\n4. Hapag-Lloyd\\n5. Ocean Network Express (ONE)\\n6. Cosco Shipping\\n\\nYou can check the schedules and rates of these shipping lines on their websites or through freight forwarding companies.\\n\\n**Cargo Types and Rates:**\\nThe rates for shipping cargo from Colombo to Cape Town depend on the cargo type, weight, and dimensions. Here are some estimated rates for different cargo types:\\n\\n1. **20-foot standard container (TEU):**\\n\\t* Dry cargo: around $1,500-$2,500\\n\\t* Reefers (refrigerated containers): around $2,500-$4,000\\n2. **40-foot standard container (FEU):**\\n\\t* Dry cargo: around $2,500-$4,000\\n\\t* Reefers (refrigerated containers): around $4,000-$6,000\\n3. **Breakbulk cargo (non-containerized):**\\n\\t* Project cargo (heavy or oversized): around $5-$10 per cubic meter\\n\\t* General cargo: around $3-$6 per cubic meter\\n4. **Vehicle shipping:**\\n\\t* Ro-Ro (roll-on/roll-off) service: around $1,500-$3,000 per vehicle\\n\\n**Additional Costs:**\\nPlease note that the above rates are estimates and do not include additional costs such as:\\n\\n1. **Bunker Adjustment Factor (BAF):** around $100-$300 per TEU\\n2. **Currency Adjustment Factor (CAF):** around 1%-5% of the freight rate\\n3. **Terminal Handling Charges (THC):** around $50-$100 per TEU\\n4. **Insurance:** around 1%-2% of the cargo value\\n5. **Customs clearance and documentation:** around $100-$500\\n\\n** Freight Forwarders:**\\nIf you're not familiar with the shipping process, it's recommended to work with a freight forwarder who can assist you with:\\n\\n1. **Rate quoting and comparison**\\n2. **Cargo booking and documentation**\\n3. **Customs clearance and compliance**\\n4. **Insurance and risk management**\\n5. **Tracking and monitoring**\\n\\nSome popular freight forwarders in Sri Lanka include:\\n\\n1. Expolanka\\n2. Aitken Spence Logistics\\n3. Hayleys Advantis\\n4. McLarens Logistics\\n5. DB Schenker\\n\\n**Conclusion:**\\nTo get the most up-to-date and accurate sea freight details for shipping a cargo from Colombo, Sri Lanka to Cape Town, South Africa, I recommend contacting shipping lines, freight forwarders, or logistics companies directly. They can provide you with tailored quotes and guidance based on your specific cargo requirements.\", role='assistant', tool_calls=None, function_call=None, provider_specific_fields=None))], usage=Usage(completion_tokens=704, prompt_tokens=57, total_tokens=761, completion_tokens_details=None, prompt_tokens_details=None, queue_time=0.774157382, prompt_time=0.005230343, completion_time=2.56, total_time=2.565230343), x_groq={'id': 'req_01jq71bjnfez9sk7cxw3bj5gq5'})\n"
     ]
    }
   ],
   "source": [
    "import litellm\n",
    "\n",
    "response = litellm.completion(\n",
    "    model=chat_groq.model_name,\n",
    "    messages=[\n",
    "        {\"role\": \"user\", \n",
    "         \"content\": \"find seafreight details to ship a cargo from Colombo, Sri Lanka to Cape Town, South Africa\"}\n",
    "    ]\n",
    ")\n",
    "\n",
    "print(response)"
   ]
  },
  {
   "cell_type": "code",
   "execution_count": null,
   "id": "cf23c9b3-1bba-41be-b28e-f463141f1afc",
   "metadata": {},
   "outputs": [],
   "source": []
  }
 ],
 "metadata": {
  "kernelspec": {
   "display_name": "Python 3 (ipykernel)",
   "language": "python",
   "name": "python3"
  },
  "language_info": {
   "codemirror_mode": {
    "name": "ipython",
    "version": 3
   },
   "file_extension": ".py",
   "mimetype": "text/x-python",
   "name": "python",
   "nbconvert_exporter": "python",
   "pygments_lexer": "ipython3",
   "version": "3.10.16"
  }
 },
 "nbformat": 4,
 "nbformat_minor": 5
}
