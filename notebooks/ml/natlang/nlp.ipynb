{
 "cells": [
  {
   "cell_type": "markdown",
   "id": "f1374533",
   "metadata": {},
   "source": [
    "# Rolling Statistics Example"
   ]
  },
  {
   "cell_type": "code",
   "execution_count": 1,
   "id": "2ce0eb20",
   "metadata": {},
   "outputs": [],
   "source": [
    "'''\n",
    "    WARNING CONTROL to display or ignore all warnings\n",
    "'''\n",
    "import warnings; warnings.simplefilter('default')     #switch betweeb 'default' and 'ignore'\n",
    "\n",
    "''' Set debug flag to view extended error messages; else set it to False to turn off debugging mode '''\n",
    "debug = True"
   ]
  },
  {
   "cell_type": "code",
   "execution_count": 2,
   "id": "bd7106bc",
   "metadata": {},
   "outputs": [
    {
     "name": "stdout",
     "output_type": "stream",
     "text": [
      "All functional NLP-libraries in NATLANG-package of ML-module imported successfully!\n",
      "All functional NLP-libraries in NATLANG-package of ML-module imported successfully!\n",
      "All functional APP-libraries in REZAWARE-package of REZAWARE-module imported successfully!\n",
      "Some packages in LIB module SPARK package for EXECSESSION function didn't load\n",
      "deprecated() got an unexpected keyword argument 'name'\n",
      "execSession Class initialization complete\n",
      "nlp Class initialization complete\n",
      "\n",
      "Class initialization and load complete!\n"
     ]
    }
   ],
   "source": [
    "import os\n",
    "import sys\n",
    "\n",
    "proj_dir = os.path.abspath(os.pardir)\n",
    "sys.path.insert(1,proj_dir.split('rezaware/')[0])\n",
    "from rezaware.modules.ml.natlang import nlp\n",
    "\n",
    "''' restart initiate classes '''\n",
    "if debug:\n",
    "    import importlib\n",
    "    nlp = importlib.reload(nlp)\n",
    "    \n",
    "__desc__ = \"process nlp workloads\"\n",
    "\n",
    "clsRS = nlp.NatLanWorkLoads(desc=__desc__)\n",
    "print(\"\\nClass initialization and load complete!\")"
   ]
  },
  {
   "cell_type": "code",
   "execution_count": null,
   "id": "304a171f",
   "metadata": {},
   "outputs": [],
   "source": []
  }
 ],
 "metadata": {
  "kernelspec": {
   "display_name": "Python 3 (ipykernel)",
   "language": "python",
   "name": "python3"
  },
  "language_info": {
   "codemirror_mode": {
    "name": "ipython",
    "version": 3
   },
   "file_extension": ".py",
   "mimetype": "text/x-python",
   "name": "python",
   "nbconvert_exporter": "python",
   "pygments_lexer": "ipython3",
   "version": "3.8.10"
  }
 },
 "nbformat": 4,
 "nbformat_minor": 5
}
