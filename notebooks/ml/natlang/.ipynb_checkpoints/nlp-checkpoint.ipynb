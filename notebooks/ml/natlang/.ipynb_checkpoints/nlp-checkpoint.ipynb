{
 "cells": [
  {
   "cell_type": "markdown",
   "id": "f1374533",
   "metadata": {},
   "source": [
    "# Rolling Statistics Example"
   ]
  },
  {
   "cell_type": "code",
   "execution_count": 1,
   "id": "2ce0eb20",
   "metadata": {},
   "outputs": [],
   "source": [
    "'''\n",
    "    WARNING CONTROL to display or ignore all warnings\n",
    "'''\n",
    "import warnings; warnings.simplefilter('default')     #switch betweeb 'default' and 'ignore'\n",
    "\n",
    "''' Set debug flag to view extended error messages; else set it to False to turn off debugging mode '''\n",
    "debug = True"
   ]
  },
  {
   "cell_type": "code",
   "execution_count": null,
   "id": "bd7106bc",
   "metadata": {},
   "outputs": [],
   "source": [
    "import os\n",
    "import sys\n",
    "# from datetime import datetime, date, timedelta\n",
    "\n",
    "sys.path.insert(1,\"/home/nuwan/workspace/rezaware/\")\n",
    "# import rezaware as reza\n",
    "# from utils.modules.etl.load import sparkwls as spark\n",
    "from utils.modules.ml.timeseries import rollingstats as rs\n",
    "\n",
    "''' restart initiate classes '''\n",
    "if debug:\n",
    "    import importlib\n",
    "#     reza = importlib.reload(reza)\n",
    "#     spark = importlib.reload(spark)\n",
    "    rs = importlib.reload(rs)\n",
    "    \n",
    "__desc__ = \"process rolling stats for asset marketcap prices\"\n",
    "\n",
    "''' optional - if not specified class will use the default values '''\n",
    "prop_kwargs = {\"WRITE_TO_TMP_FILE\":False,   # necessary to emulate the etl dag\n",
    "              }\n",
    "# clsSparkWL = spark.SparkWorkLoads(desc=__desc__)\n",
    "clsRS = rs.RollingStats(desc=__desc__)\n",
    "print(\"\\nClass initialization and load complete!\")"
   ]
  },
  {
   "cell_type": "code",
   "execution_count": null,
   "id": "0571dcd7",
   "metadata": {},
   "outputs": [],
   "source": [
    "sc_kwargs = {\n",
    "#     \"HOMEDIR\":,\n",
    "#     \"CONFIG\":,\n",
    "#     \"JARDIR\":,\n",
    "    \"MASTER\":'local[1]',\n",
    "    \"APPNAME\":'test new session',\n",
    "}\n",
    "clsSparkWL.session = sc_kwargs"
   ]
  },
  {
   "cell_type": "code",
   "execution_count": 4,
   "id": "693c2ce7",
   "metadata": {},
   "outputs": [
    {
     "name": "stdout",
     "output_type": "stream",
     "text": [
      "[Error]function <@data.setter> name 'DataFrame' is not defined\n",
      "Traceback (most recent call last):\n",
      "  File \"/home/nuwan/workspace/rezaware/utils/modules/etl/load/sparkwls.py\", line 504, in data\n",
      "    if isinstance(data,DataFrame) and not data.isEmpty():\n",
      "NameError: name 'DataFrame' is not defined\n",
      "\n"
     ]
    },
    {
     "ename": "AttributeError",
     "evalue": "'NoneType' object has no attribute 'show'",
     "output_type": "error",
     "traceback": [
      "\u001b[0;31m---------------------------------------------------------------------------\u001b[0m",
      "\u001b[0;31mAttributeError\u001b[0m                            Traceback (most recent call last)",
      "Input \u001b[0;32mIn [4]\u001b[0m, in \u001b[0;36m<cell line: 4>\u001b[0;34m()\u001b[0m\n\u001b[1;32m      1\u001b[0m \u001b[38;5;28;01mimport\u001b[39;00m \u001b[38;5;21;01mpandas\u001b[39;00m \u001b[38;5;28;01mas\u001b[39;00m \u001b[38;5;21;01mpd\u001b[39;00m\n\u001b[1;32m      3\u001b[0m clsRS\u001b[38;5;241m.\u001b[39mdata\u001b[38;5;241m=\u001b[39mpd\u001b[38;5;241m.\u001b[39mDataFrame({\u001b[38;5;124m\"\u001b[39m\u001b[38;5;124mname\u001b[39m\u001b[38;5;124m\"\u001b[39m:[\u001b[38;5;124m'\u001b[39m\u001b[38;5;124ma\u001b[39m\u001b[38;5;124m'\u001b[39m,\u001b[38;5;124m'\u001b[39m\u001b[38;5;124mb\u001b[39m\u001b[38;5;124m'\u001b[39m,\u001b[38;5;124m'\u001b[39m\u001b[38;5;124mc\u001b[39m\u001b[38;5;124m'\u001b[39m],\u001b[38;5;124m\"\u001b[39m\u001b[38;5;124mdate\u001b[39m\u001b[38;5;124m\"\u001b[39m:datetime\u001b[38;5;241m.\u001b[39mnow()})\n\u001b[0;32m----> 4\u001b[0m \u001b[38;5;28mprint\u001b[39m(\u001b[43mclsRS\u001b[49m\u001b[38;5;241;43m.\u001b[39;49m\u001b[43mdata\u001b[49m\u001b[38;5;241;43m.\u001b[39;49m\u001b[43mshow\u001b[49m())\n",
      "\u001b[0;31mAttributeError\u001b[0m: 'NoneType' object has no attribute 'show'"
     ]
    }
   ],
   "source": [
    "import pandas as pd\n",
    "\n",
    "clsRS.data=pd.DataFrame({\"name\":['a','b','c'],\"date\":datetime.now()})\n",
    "print(clsRS.data.show())\n"
   ]
  },
  {
   "cell_type": "code",
   "execution_count": 78,
   "id": "48c912bd",
   "metadata": {},
   "outputs": [
    {
     "name": "stdout",
     "output_type": "stream",
     "text": [
      "[('name', 'string'), ('date', 'timestamp')]\n",
      "[Error]function <@datetimeAttr.setter> Could not locate a valid datetime attribute in the dataset with columns [('name', 'string'), ('date', 'timestamp')]\n",
      "Traceback (most recent call last):\n",
      "  File \"/home/nuwan/workspace/rezaware/utils/modules/ml/timeseries/rollingstats.py\", line 294, in datetimeAttr\n",
      "    raise AttributeError(\"Could not locate a valid datetime attribute \"+ \\\n",
      "AttributeError: Could not locate a valid datetime attribute in the dataset with columns [('name', 'string'), ('date', 'timestamp')]\n",
      "\n",
      "None\n"
     ]
    }
   ],
   "source": [
    "print(clsRS.data.dtypes)\n",
    "print(clsRS.datetimeAttr)"
   ]
  },
  {
   "cell_type": "code",
   "execution_count": 53,
   "id": "c2b7f3a3",
   "metadata": {},
   "outputs": [
    {
     "name": "stdout",
     "output_type": "stream",
     "text": [
      "+----+\n",
      "|name|\n",
      "+----+\n",
      "|   a|\n",
      "|   b|\n",
      "|   c|\n",
      "+----+\n",
      "\n",
      "None\n",
      "PANDAS\n",
      "  name\n",
      "0    a\n",
      "1    b\n",
      "2    c <class 'pandas.core.frame.DataFrame'>\n"
     ]
    },
    {
     "name": "stderr",
     "output_type": "stream",
     "text": [
      "/usr/lib/python3.8/socket.py:740: ResourceWarning: unclosed <socket.socket fd=66, family=AddressFamily.AF_INET, type=SocketKind.SOCK_STREAM, proto=6, laddr=('127.0.0.1', 44272), raddr=('127.0.0.1', 37501)>\n",
      "  self._sock = None\n",
      "ResourceWarning: Enable tracemalloc to get the object allocation traceback\n"
     ]
    }
   ],
   "source": [
    "rdata = clsSparkWL.reset_dtype(clsSparkWL.data)\n",
    "print(rdata, type(rdata))"
   ]
  },
  {
   "cell_type": "code",
   "execution_count": null,
   "id": "8f5798bc",
   "metadata": {},
   "outputs": [],
   "source": []
  }
 ],
 "metadata": {
  "kernelspec": {
   "display_name": "Python 3 (ipykernel)",
   "language": "python",
   "name": "python3"
  },
  "language_info": {
   "codemirror_mode": {
    "name": "ipython",
    "version": 3
   },
   "file_extension": ".py",
   "mimetype": "text/x-python",
   "name": "python",
   "nbconvert_exporter": "python",
   "pygments_lexer": "ipython3",
   "version": "3.8.10"
  }
 },
 "nbformat": 4,
 "nbformat_minor": 5
}
