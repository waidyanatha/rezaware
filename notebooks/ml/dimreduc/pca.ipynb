{
 "cells": [
  {
   "cell_type": "markdown",
   "id": "5c9b4045",
   "metadata": {},
   "source": [
    "# Prinicipal Component Analysis"
   ]
  },
  {
   "cell_type": "code",
   "execution_count": 1,
   "id": "8c1b2acb",
   "metadata": {},
   "outputs": [],
   "source": [
    "'''\n",
    "    WARNING CONTROL to display or ignore all warnings\n",
    "'''\n",
    "import warnings; warnings.simplefilter('default')     #switch betweeb 'default' and 'ignore'\n",
    "\n",
    "''' Set debug flag to view extended error messages; else set it to False to turn off debugging mode '''\n",
    "debug = True"
   ]
  },
  {
   "cell_type": "markdown",
   "id": "7d2a011f",
   "metadata": {},
   "source": [
    "## Initialize Classes"
   ]
  },
  {
   "cell_type": "code",
   "execution_count": 2,
   "id": "5ff458b1",
   "metadata": {},
   "outputs": [
    {
     "name": "stdout",
     "output_type": "stream",
     "text": [
      "All functional SPARKDBWLS-libraries in LOAD-package of ETL-module imported successfully!\n",
      "All packages in utils ml dimreduc FeatureEngineer imported successfully!\n",
      "All functional SPARKDBWLS-libraries in LOAD-package of ETL-module imported successfully!\n",
      "All packages in utils ml dimreduc FeatureEngineer imported successfully!\n",
      "All functional APP-libraries in REZAWARE-package of REZAWARE-module imported successfully!\n",
      "All functional EXECSESSION-libraries in SPARK-package of LIB-module imported successfully!\n",
      "execSession Class initialization complete\n",
      "\n",
      "Class initialization and load complete!\n"
     ]
    },
    {
     "name": "stderr",
     "output_type": "stream",
     "text": [
      "/home/nuwan/.local/lib/python3.8/site-packages/google/api_core/exceptions.py:37: ImportWarning: Please install grpcio-status to obtain helpful grpc error messages.\n",
      "  warnings.warn(\n"
     ]
    }
   ],
   "source": [
    "import os\n",
    "import sys\n",
    "# from datetime import datetime, date, timedelta\n",
    "\n",
    "sys.path.insert(1,\"/home/nuwan/workspace/rezaware/\")\n",
    "# import rezaware as reza\n",
    "from utils.modules.etl.load import sparkDBwls as sdb\n",
    "from utils.modules.ml.dimreduc import pca\n",
    "\n",
    "''' restart initiate classes '''\n",
    "if debug:\n",
    "    import importlib\n",
    "    sdb = importlib.reload(sdb)\n",
    "#     session = importlib.reload(session)\n",
    "    pca = importlib.reload(pca)\n",
    "    \n",
    "__desc__ = \"process rolling stats for asset marketcap prices\"\n",
    "\n",
    "clsSDB = sdb.SQLWorkLoads(desc=__desc__)\n",
    "clsPCA = pca.FeatureEngineer(desc=__desc__)\n",
    "print(\"\\nClass initialization and load complete!\")"
   ]
  },
  {
   "cell_type": "code",
   "execution_count": null,
   "id": "fb6f6d2c",
   "metadata": {},
   "outputs": [],
   "source": [
    "_from_date = '2022-01-05'\n",
    "_to_date = '2022-01-05'\n",
    "_asset = 'axial'\n",
    "_data = None\n",
    "\n",
    "# # _query = \"select * from warehouse.mcap_past \"+\\\n",
    "# #         f\"where mcap_date >= '{_from_date}' and \"+\\\n",
    "# #         f\"mcap_date <= '{_to_date}'\"\n",
    "_query = \"SELECT * FROM warehouse.mcap_past wmp \"+\\\n",
    "        f\"WHERE deactivate_dt IS NULL AND wmp.mcap_value > 1000000 \"+\\\n",
    "        f\"AND wmp.mcap_date BETWEEN '{_from_date}' AND '{_to_date}' \"+\\\n",
    "        f\"AND wmp.asset_name = '{_asset}' \"\n",
    "#         f\"AND wmp.asset_name = '{_asset}' AND uuid='{_uuid}'\"\n",
    "\n",
    "\n",
    "_data=clsSDB.read_data_from_table(\n",
    "    select=_query,\n",
    "    db_table=\"\",\n",
    "    db_column=\"\",\n",
    "    lower_bound=None,\n",
    "    upper_bound=None,\n",
    "#     **_kwargs\n",
    ")\n",
    "\n",
    "if _data is not None and _data.count() > 0:\n",
    "    print(_data.show(n=3,vertical=True))\n",
    "else:\n",
    "    print(\"Returned empty data set\")"
   ]
  },
  {
   "cell_type": "code",
   "execution_count": 3,
   "id": "2dcfebe3",
   "metadata": {},
   "outputs": [
    {
     "name": "stdout",
     "output_type": "stream",
     "text": [
      "[Error]function <@data.setter> Dataset cannot be empty\n",
      "Traceback (most recent call last):\n",
      "  File \"/home/nuwan/workspace/rezaware/utils/modules/ml/dimreduc/pca.py\", line 223, in data\n",
      "    raise AttributeError(\"Dataset cannot be empty\")\n",
      "AttributeError: Dataset cannot be empty\n",
      "\n"
     ]
    },
    {
     "ename": "NameError",
     "evalue": "name '__s_fn_id__' is not defined",
     "output_type": "error",
     "traceback": [
      "\u001b[0;31m---------------------------------------------------------------------------\u001b[0m",
      "\u001b[0;31mAttributeError\u001b[0m                            Traceback (most recent call last)",
      "File \u001b[0;32m~/workspace/rezaware/utils/modules/ml/dimreduc/pca.py:322\u001b[0m, in \u001b[0;36mFeatureEngineer.get_factors\u001b[0;34m(self, data, cols)\u001b[0m\n\u001b[1;32m    321\u001b[0m \u001b[38;5;28mself\u001b[39m\u001b[38;5;241m.\u001b[39mdata\u001b[38;5;241m=\u001b[39mdata\n\u001b[0;32m--> 322\u001b[0m _num_cols \u001b[38;5;241m=\u001b[39m [x \u001b[38;5;28;01mfor\u001b[39;00m x \u001b[38;5;129;01min\u001b[39;00m \u001b[38;5;28;43mself\u001b[39;49m\u001b[38;5;241;43m.\u001b[39;49m\u001b[43m_data\u001b[49m\u001b[38;5;241;43m.\u001b[39;49m\u001b[43mdtypes\u001b[49m \u001b[38;5;28;01mif\u001b[39;00m x\u001b[38;5;241m.\u001b[39mdtype \u001b[38;5;129;01mnot\u001b[39;00m \u001b[38;5;129;01min\u001b[39;00m [\u001b[38;5;124m'\u001b[39m\u001b[38;5;124mstring\u001b[39m\u001b[38;5;124m'\u001b[39m]]\n\u001b[1;32m    323\u001b[0m cols_intsect \u001b[38;5;241m=\u001b[39m \u001b[38;5;28;01mNone\u001b[39;00m\n",
      "\u001b[0;31mAttributeError\u001b[0m: 'NoneType' object has no attribute 'dtypes'",
      "\nDuring handling of the above exception, another exception occurred:\n",
      "\u001b[0;31mNameError\u001b[0m                                 Traceback (most recent call last)",
      "Input \u001b[0;32mIn [3]\u001b[0m, in \u001b[0;36m<cell line: 1>\u001b[0;34m()\u001b[0m\n\u001b[0;32m----> 1\u001b[0m _factors \u001b[38;5;241m=\u001b[39m \u001b[43mclsPCA\u001b[49m\u001b[38;5;241;43m.\u001b[39;49m\u001b[43mget_factors\u001b[49m\u001b[43m(\u001b[49m\u001b[43m)\u001b[49m\n",
      "File \u001b[0;32m~/workspace/rezaware/utils/modules/ml/dimreduc/pca.py:326\u001b[0m, in \u001b[0;36mFeatureEngineer.get_factors\u001b[0;34m(self, data, cols)\u001b[0m\n\u001b[1;32m    324\u001b[0m     \u001b[38;5;28;01mpass\u001b[39;00m\n\u001b[1;32m    325\u001b[0m \u001b[38;5;28;01mexcept\u001b[39;00m \u001b[38;5;167;01mException\u001b[39;00m \u001b[38;5;28;01mas\u001b[39;00m err:\n\u001b[0;32m--> 326\u001b[0m     logger\u001b[38;5;241m.\u001b[39merror(\u001b[38;5;124m\"\u001b[39m\u001b[38;5;132;01m%s\u001b[39;00m\u001b[38;5;124m \u001b[39m\u001b[38;5;132;01m%s\u001b[39;00m\u001b[38;5;124m \u001b[39m\u001b[38;5;130;01m\\n\u001b[39;00m\u001b[38;5;124m\"\u001b[39m,\u001b[43m__s_fn_id__\u001b[49m, err)\n\u001b[1;32m    327\u001b[0m     \u001b[38;5;28mprint\u001b[39m(\u001b[38;5;124m\"\u001b[39m\u001b[38;5;124m[Error]\u001b[39m\u001b[38;5;124m\"\u001b[39m\u001b[38;5;241m+\u001b[39m__s_fn_id__, err)\n\u001b[1;32m    328\u001b[0m     \u001b[38;5;28mprint\u001b[39m(traceback\u001b[38;5;241m.\u001b[39mformat_exc())\n",
      "\u001b[0;31mNameError\u001b[0m: name '__s_fn_id__' is not defined"
     ]
    }
   ],
   "source": [
    "_factors = clsPCA.get_factors()"
   ]
  },
  {
   "cell_type": "code",
   "execution_count": null,
   "id": "28310c89",
   "metadata": {},
   "outputs": [],
   "source": []
  }
 ],
 "metadata": {
  "kernelspec": {
   "display_name": "Python 3 (ipykernel)",
   "language": "python",
   "name": "python3"
  },
  "language_info": {
   "codemirror_mode": {
    "name": "ipython",
    "version": 3
   },
   "file_extension": ".py",
   "mimetype": "text/x-python",
   "name": "python",
   "nbconvert_exporter": "python",
   "pygments_lexer": "ipython3",
   "version": "3.8.10"
  }
 },
 "nbformat": 4,
 "nbformat_minor": 5
}
